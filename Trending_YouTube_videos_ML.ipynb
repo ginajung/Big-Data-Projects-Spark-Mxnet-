{
  "nbformat": 4,
  "nbformat_minor": 0,
  "metadata": {
    "colab": {
      "name": "Trending_YouTube_videos_ML .ipynb",
      "provenance": [],
      "collapsed_sections": [],
      "toc_visible": true
    },
    "kernelspec": {
      "display_name": "Python 3",
      "name": "python3"
    }
  },
  "cells": [
    {
      "cell_type": "markdown",
      "source": [
        "# Machine Learning : Trending YouTube videos\n",
        "\n",
        "Machine learning with 'sklearn' and scalable machine learning with 'Spark' ML!\n",
        "\n"
      ],
      "metadata": {
        "id": "zD4P1d4bBGYA"
      }
    },
    {
      "cell_type": "code",
      "metadata": {
        "id": "NodzYeBAGpnr"
      },
      "source": [
        "import numpy as np \n",
        "import json\n",
        "import matplotlib\n",
        "import pandas as pd\n",
        "import matplotlib.pyplot as plt\n",
        "from matplotlib import cm\n",
        "from datetime import datetime\n",
        "import glob\n",
        "import seaborn as sns\n",
        "import random \n",
        "# import rey\n",
        "import os\n",
        "\n",
        "%matplotlib inline"
      ],
      "execution_count": 46,
      "outputs": []
    },
    {
      "cell_type": "code",
      "metadata": {
        "id": "4dInsl3tEYpy"
      },
      "source": [
        "\n",
        "%%capture\n",
        "!pip3 install boto3"
      ],
      "execution_count": 2,
      "outputs": []
    },
    {
      "cell_type": "code",
      "metadata": {
        "colab": {
          "base_uri": "https://localhost:8080/"
        },
        "id": "bUWkvS3kHHve",
        "outputId": "6f272c15-a077-46ae-a049-482b1ef2416f"
      },
      "source": [
        "# Data loading\n",
        "import boto3\n",
        "from botocore import UNSIGNED\n",
        "\n",
        "from botocore.config import Config\n",
        "\n",
        "s3 = boto3.resource('s3', config=Config(signature_version=UNSIGNED))\n",
        "s3.Bucket('penn-cis545-files').download_file('youtube_data.zip', 'youtube_data.zip')\n",
        "\n",
        "!unzip /content/youtube_data.zip"
      ],
      "execution_count": 3,
      "outputs": [
        {
          "output_type": "stream",
          "name": "stdout",
          "text": [
            "Archive:  /content/youtube_data.zip\n",
            "   creating: youtube_data/\n",
            "  inflating: youtube_data/IN_category_id.json  \n",
            "   creating: __MACOSX/\n",
            "   creating: __MACOSX/youtube_data/\n",
            "  inflating: __MACOSX/youtube_data/._IN_category_id.json  \n",
            "  inflating: youtube_data/.DS_Store  \n",
            "  inflating: __MACOSX/youtube_data/._.DS_Store  \n",
            "  inflating: youtube_data/FR_category_id.json  \n",
            "  inflating: __MACOSX/youtube_data/._FR_category_id.json  \n",
            "  inflating: youtube_data/INvideos.csv  \n",
            "  inflating: __MACOSX/youtube_data/._INvideos.csv  \n",
            "  inflating: youtube_data/CAvideos.csv  \n",
            "  inflating: __MACOSX/youtube_data/._CAvideos.csv  \n",
            "  inflating: youtube_data/FRvideos.csv  \n",
            "  inflating: __MACOSX/youtube_data/._FRvideos.csv  \n",
            "  inflating: youtube_data/CA_category_id.json  \n",
            "  inflating: __MACOSX/youtube_data/._CA_category_id.json  \n",
            "  inflating: youtube_data/US_category_id.json  \n",
            "  inflating: __MACOSX/youtube_data/._US_category_id.json  \n",
            "  inflating: youtube_data/USvideos.csv  \n",
            "  inflating: __MACOSX/youtube_data/._USvideos.csv  \n",
            "  inflating: __MACOSX/._youtube_data  \n"
          ]
        }
      ]
    },
    {
      "cell_type": "markdown",
      "metadata": {
        "id": "Ecg1d6dwais8"
      },
      "source": [
        "## Data loading and Preprocessing \n",
        "\n",
        "Dataset : a daily record of the top trending YouTube videos.\n",
        "\n",
        "To determine the year’s top-trending videos, YouTube uses a combination of factors including measuring users interactions (number of views, shares, comments and likes). \n",
        "\n",
        "This dataset includes several months (and counting) of data on daily trending YouTube videos, with up to 200 listed trending videos per day,in numerous countries.\n",
        "\n",
        "__Each region’s data (csv):__\n",
        "\n",
        "*   Video Title\n",
        "*   Channel title\n",
        "*   Publish time\n",
        "*   Tags\n",
        "*   Views\n",
        "*   Likes\n",
        "*   Dislikes\n",
        "*   Description\n",
        "*   Comment count\n",
        "\n",
        "__category\\_id__ field in the associated JSON. \n",
        "\n",
        "\n"
      ]
    },
    {
      "cell_type": "markdown",
      "metadata": {
        "id": "XCNsu176IR5x"
      },
      "source": [
        "#### Combining Multiple CSV's\n",
        "\n",
        "- Combine csv files into a single dataframe (join on 'video_id')\n",
        "\n",
        "While combining them, create a column for \"country\" and fill it in the final dataframe. The country name is extracted using the filename itself.\n",
        "\n"
      ]
    },
    {
      "cell_type": "code",
      "metadata": {
        "colab": {
          "base_uri": "https://localhost:8080/"
        },
        "id": "V_tuqP5Wahf_",
        "outputId": "a5040afc-e8f5-4bdd-c6e4-62fd226b2592"
      },
      "source": [
        "# Import all the csv files / glob.glob for handling multi files\n",
        "\n",
        "files = [i for i in glob.glob('/content/youtube_data/*.csv'.format('csv'))]  \n",
        "sorted(files)\n",
        "\n",
        "# Combine all into a single dataframe \n",
        "all_dataframes = list()\n",
        "\n",
        "for csv in files:\n",
        "  country_csv = pd.read_csv(csv,index_col='video_id')\n",
        "  country_csv['country']= csv.split('/')[3][:2] # add 'country' column \n",
        "  # print(csv)\n",
        "  all_dataframes.append(country_csv)\n",
        "combined_data = pd.concat(all_dataframes)\n",
        "\n",
        "\n",
        "combined_data.columns"
      ],
      "execution_count": 4,
      "outputs": [
        {
          "output_type": "execute_result",
          "data": {
            "text/plain": [
              "Index(['trending_date', 'title', 'channel_title', 'category_id',\n",
              "       'publish_time', 'tags', 'views', 'likes', 'dislikes', 'comment_count',\n",
              "       'thumbnail_link', 'comments_disabled', 'ratings_disabled',\n",
              "       'video_error_or_removed', 'description', 'country'],\n",
              "      dtype='object')"
            ]
          },
          "metadata": {},
          "execution_count": 4
        }
      ]
    },
    {
      "cell_type": "code",
      "source": [
        "\n",
        "combined_data.head(3)"
      ],
      "metadata": {
        "colab": {
          "base_uri": "https://localhost:8080/",
          "height": 482
        },
        "id": "AKkjlWZLESLf",
        "outputId": "00cb9269-8d0f-4488-f473-ab3273be1e9f"
      },
      "execution_count": 5,
      "outputs": [
        {
          "output_type": "execute_result",
          "data": {
            "text/html": [
              "\n",
              "  <div id=\"df-a7b388ef-1fc5-4b71-80b1-44c46c79aee6\">\n",
              "    <div class=\"colab-df-container\">\n",
              "      <div>\n",
              "<style scoped>\n",
              "    .dataframe tbody tr th:only-of-type {\n",
              "        vertical-align: middle;\n",
              "    }\n",
              "\n",
              "    .dataframe tbody tr th {\n",
              "        vertical-align: top;\n",
              "    }\n",
              "\n",
              "    .dataframe thead th {\n",
              "        text-align: right;\n",
              "    }\n",
              "</style>\n",
              "<table border=\"1\" class=\"dataframe\">\n",
              "  <thead>\n",
              "    <tr style=\"text-align: right;\">\n",
              "      <th></th>\n",
              "      <th>trending_date</th>\n",
              "      <th>title</th>\n",
              "      <th>channel_title</th>\n",
              "      <th>category_id</th>\n",
              "      <th>publish_time</th>\n",
              "      <th>tags</th>\n",
              "      <th>views</th>\n",
              "      <th>likes</th>\n",
              "      <th>dislikes</th>\n",
              "      <th>comment_count</th>\n",
              "      <th>thumbnail_link</th>\n",
              "      <th>comments_disabled</th>\n",
              "      <th>ratings_disabled</th>\n",
              "      <th>video_error_or_removed</th>\n",
              "      <th>description</th>\n",
              "      <th>country</th>\n",
              "    </tr>\n",
              "    <tr>\n",
              "      <th>video_id</th>\n",
              "      <th></th>\n",
              "      <th></th>\n",
              "      <th></th>\n",
              "      <th></th>\n",
              "      <th></th>\n",
              "      <th></th>\n",
              "      <th></th>\n",
              "      <th></th>\n",
              "      <th></th>\n",
              "      <th></th>\n",
              "      <th></th>\n",
              "      <th></th>\n",
              "      <th></th>\n",
              "      <th></th>\n",
              "      <th></th>\n",
              "      <th></th>\n",
              "    </tr>\n",
              "  </thead>\n",
              "  <tbody>\n",
              "    <tr>\n",
              "      <th>Ro6eob0LrCY</th>\n",
              "      <td>17.14.11</td>\n",
              "      <td>Malika LePen : Femme de Gauche - Trailer</td>\n",
              "      <td>Le Raptor Dissident</td>\n",
              "      <td>24</td>\n",
              "      <td>2017-11-13T17:32:55.000Z</td>\n",
              "      <td>Raptor\"|\"Dissident\"|\"Expliquez\"|\"moi\"|\"cette\"|...</td>\n",
              "      <td>212702</td>\n",
              "      <td>29282</td>\n",
              "      <td>1108</td>\n",
              "      <td>3817</td>\n",
              "      <td>https://i.ytimg.com/vi/Ro6eob0LrCY/default.jpg</td>\n",
              "      <td>False</td>\n",
              "      <td>False</td>\n",
              "      <td>False</td>\n",
              "      <td>Dimanche.\\n18h30.\\nSoyez présents pour la vidé...</td>\n",
              "      <td>FR</td>\n",
              "    </tr>\n",
              "    <tr>\n",
              "      <th>Yo84eqYwP98</th>\n",
              "      <td>17.14.11</td>\n",
              "      <td>LA PIRE PARTIE ft Le Rire Jaune, Pierre Croce,...</td>\n",
              "      <td>Le Labo</td>\n",
              "      <td>24</td>\n",
              "      <td>2017-11-12T15:00:02.000Z</td>\n",
              "      <td>[none]</td>\n",
              "      <td>432721</td>\n",
              "      <td>14053</td>\n",
              "      <td>576</td>\n",
              "      <td>1161</td>\n",
              "      <td>https://i.ytimg.com/vi/Yo84eqYwP98/default.jpg</td>\n",
              "      <td>False</td>\n",
              "      <td>False</td>\n",
              "      <td>False</td>\n",
              "      <td>Le jeu de société: https://goo.gl/hhG1Ta\\n\\nGa...</td>\n",
              "      <td>FR</td>\n",
              "    </tr>\n",
              "    <tr>\n",
              "      <th>ceqntSXE-10</th>\n",
              "      <td>17.14.11</td>\n",
              "      <td>DESSINS ANIMÉS FRANÇAIS VS RUSSES 2 - Daniil...</td>\n",
              "      <td>Daniil le Russe</td>\n",
              "      <td>23</td>\n",
              "      <td>2017-11-13T17:00:38.000Z</td>\n",
              "      <td>cartoon\"|\"pokémon\"|\"école\"|\"ours\"|\"мультфильм</td>\n",
              "      <td>482153</td>\n",
              "      <td>76203</td>\n",
              "      <td>477</td>\n",
              "      <td>9580</td>\n",
              "      <td>https://i.ytimg.com/vi/ceqntSXE-10/default.jpg</td>\n",
              "      <td>False</td>\n",
              "      <td>False</td>\n",
              "      <td>False</td>\n",
              "      <td>Une nouvelle dose de dessins animés français e...</td>\n",
              "      <td>FR</td>\n",
              "    </tr>\n",
              "  </tbody>\n",
              "</table>\n",
              "</div>\n",
              "      <button class=\"colab-df-convert\" onclick=\"convertToInteractive('df-a7b388ef-1fc5-4b71-80b1-44c46c79aee6')\"\n",
              "              title=\"Convert this dataframe to an interactive table.\"\n",
              "              style=\"display:none;\">\n",
              "        \n",
              "  <svg xmlns=\"http://www.w3.org/2000/svg\" height=\"24px\"viewBox=\"0 0 24 24\"\n",
              "       width=\"24px\">\n",
              "    <path d=\"M0 0h24v24H0V0z\" fill=\"none\"/>\n",
              "    <path d=\"M18.56 5.44l.94 2.06.94-2.06 2.06-.94-2.06-.94-.94-2.06-.94 2.06-2.06.94zm-11 1L8.5 8.5l.94-2.06 2.06-.94-2.06-.94L8.5 2.5l-.94 2.06-2.06.94zm10 10l.94 2.06.94-2.06 2.06-.94-2.06-.94-.94-2.06-.94 2.06-2.06.94z\"/><path d=\"M17.41 7.96l-1.37-1.37c-.4-.4-.92-.59-1.43-.59-.52 0-1.04.2-1.43.59L10.3 9.45l-7.72 7.72c-.78.78-.78 2.05 0 2.83L4 21.41c.39.39.9.59 1.41.59.51 0 1.02-.2 1.41-.59l7.78-7.78 2.81-2.81c.8-.78.8-2.07 0-2.86zM5.41 20L4 18.59l7.72-7.72 1.47 1.35L5.41 20z\"/>\n",
              "  </svg>\n",
              "      </button>\n",
              "      \n",
              "  <style>\n",
              "    .colab-df-container {\n",
              "      display:flex;\n",
              "      flex-wrap:wrap;\n",
              "      gap: 12px;\n",
              "    }\n",
              "\n",
              "    .colab-df-convert {\n",
              "      background-color: #E8F0FE;\n",
              "      border: none;\n",
              "      border-radius: 50%;\n",
              "      cursor: pointer;\n",
              "      display: none;\n",
              "      fill: #1967D2;\n",
              "      height: 32px;\n",
              "      padding: 0 0 0 0;\n",
              "      width: 32px;\n",
              "    }\n",
              "\n",
              "    .colab-df-convert:hover {\n",
              "      background-color: #E2EBFA;\n",
              "      box-shadow: 0px 1px 2px rgba(60, 64, 67, 0.3), 0px 1px 3px 1px rgba(60, 64, 67, 0.15);\n",
              "      fill: #174EA6;\n",
              "    }\n",
              "\n",
              "    [theme=dark] .colab-df-convert {\n",
              "      background-color: #3B4455;\n",
              "      fill: #D2E3FC;\n",
              "    }\n",
              "\n",
              "    [theme=dark] .colab-df-convert:hover {\n",
              "      background-color: #434B5C;\n",
              "      box-shadow: 0px 1px 3px 1px rgba(0, 0, 0, 0.15);\n",
              "      filter: drop-shadow(0px 1px 2px rgba(0, 0, 0, 0.3));\n",
              "      fill: #FFFFFF;\n",
              "    }\n",
              "  </style>\n",
              "\n",
              "      <script>\n",
              "        const buttonEl =\n",
              "          document.querySelector('#df-a7b388ef-1fc5-4b71-80b1-44c46c79aee6 button.colab-df-convert');\n",
              "        buttonEl.style.display =\n",
              "          google.colab.kernel.accessAllowed ? 'block' : 'none';\n",
              "\n",
              "        async function convertToInteractive(key) {\n",
              "          const element = document.querySelector('#df-a7b388ef-1fc5-4b71-80b1-44c46c79aee6');\n",
              "          const dataTable =\n",
              "            await google.colab.kernel.invokeFunction('convertToInteractive',\n",
              "                                                     [key], {});\n",
              "          if (!dataTable) return;\n",
              "\n",
              "          const docLinkHtml = 'Like what you see? Visit the ' +\n",
              "            '<a target=\"_blank\" href=https://colab.research.google.com/notebooks/data_table.ipynb>data table notebook</a>'\n",
              "            + ' to learn more about interactive tables.';\n",
              "          element.innerHTML = '';\n",
              "          dataTable['output_type'] = 'display_data';\n",
              "          await google.colab.output.renderOutput(dataTable, element);\n",
              "          const docLink = document.createElement('div');\n",
              "          docLink.innerHTML = docLinkHtml;\n",
              "          element.appendChild(docLink);\n",
              "        }\n",
              "      </script>\n",
              "    </div>\n",
              "  </div>\n",
              "  "
            ],
            "text/plain": [
              "            trending_date  ... country\n",
              "video_id                   ...        \n",
              "Ro6eob0LrCY      17.14.11  ...      FR\n",
              "Yo84eqYwP98      17.14.11  ...      FR\n",
              "ceqntSXE-10      17.14.11  ...      FR\n",
              "\n",
              "[3 rows x 16 columns]"
            ]
          },
          "metadata": {},
          "execution_count": 5
        }
      ]
    },
    {
      "cell_type": "markdown",
      "metadata": {
        "id": "PdfKNvDqILsh"
      },
      "source": [
        "#### Map category Id to category \n",
        "\n",
        "Read the category_id.json file and map the category_id's in the dataframe to the category name.\n"
      ]
    },
    {
      "cell_type": "code",
      "metadata": {
        "colab": {
          "base_uri": "https://localhost:8080/",
          "height": 736
        },
        "id": "xDyMBIoRGdi0",
        "outputId": "d9f39d90-4638-44e5-ea75-58f9568119fc"
      },
      "source": [
        "combined_data['category_id'] = combined_data['category_id'].astype(str) \n",
        "\n",
        "# JSON file to dataframe\n",
        "with open('/content/youtube_data/US_category_id.json', \"r\") as id_json:\n",
        "    category_json = json.load(id_json)\n",
        "    # print(category_json)\n",
        "\n",
        "id_dict ={}\n",
        "for item in category_json['items']:\n",
        "    \n",
        "  id_dict[item['id']] = item[\"snippet\"]['title'] # e.x : no. 1= 'Film & Animation'\n",
        "\n",
        "combined_data['category'] = combined_data['category_id'].copy()\n",
        "combined_data['category'].replace(id_dict, inplace = True)\n",
        "\n",
        "combined_data.head(5)"
      ],
      "execution_count": 6,
      "outputs": [
        {
          "output_type": "execute_result",
          "data": {
            "text/html": [
              "\n",
              "  <div id=\"df-39c66455-ac3a-4878-8bc7-49d0a2c7c1a3\">\n",
              "    <div class=\"colab-df-container\">\n",
              "      <div>\n",
              "<style scoped>\n",
              "    .dataframe tbody tr th:only-of-type {\n",
              "        vertical-align: middle;\n",
              "    }\n",
              "\n",
              "    .dataframe tbody tr th {\n",
              "        vertical-align: top;\n",
              "    }\n",
              "\n",
              "    .dataframe thead th {\n",
              "        text-align: right;\n",
              "    }\n",
              "</style>\n",
              "<table border=\"1\" class=\"dataframe\">\n",
              "  <thead>\n",
              "    <tr style=\"text-align: right;\">\n",
              "      <th></th>\n",
              "      <th>trending_date</th>\n",
              "      <th>title</th>\n",
              "      <th>channel_title</th>\n",
              "      <th>category_id</th>\n",
              "      <th>publish_time</th>\n",
              "      <th>tags</th>\n",
              "      <th>views</th>\n",
              "      <th>likes</th>\n",
              "      <th>dislikes</th>\n",
              "      <th>comment_count</th>\n",
              "      <th>thumbnail_link</th>\n",
              "      <th>comments_disabled</th>\n",
              "      <th>ratings_disabled</th>\n",
              "      <th>video_error_or_removed</th>\n",
              "      <th>description</th>\n",
              "      <th>country</th>\n",
              "      <th>category</th>\n",
              "    </tr>\n",
              "    <tr>\n",
              "      <th>video_id</th>\n",
              "      <th></th>\n",
              "      <th></th>\n",
              "      <th></th>\n",
              "      <th></th>\n",
              "      <th></th>\n",
              "      <th></th>\n",
              "      <th></th>\n",
              "      <th></th>\n",
              "      <th></th>\n",
              "      <th></th>\n",
              "      <th></th>\n",
              "      <th></th>\n",
              "      <th></th>\n",
              "      <th></th>\n",
              "      <th></th>\n",
              "      <th></th>\n",
              "      <th></th>\n",
              "    </tr>\n",
              "  </thead>\n",
              "  <tbody>\n",
              "    <tr>\n",
              "      <th>Ro6eob0LrCY</th>\n",
              "      <td>17.14.11</td>\n",
              "      <td>Malika LePen : Femme de Gauche - Trailer</td>\n",
              "      <td>Le Raptor Dissident</td>\n",
              "      <td>24</td>\n",
              "      <td>2017-11-13T17:32:55.000Z</td>\n",
              "      <td>Raptor\"|\"Dissident\"|\"Expliquez\"|\"moi\"|\"cette\"|...</td>\n",
              "      <td>212702</td>\n",
              "      <td>29282</td>\n",
              "      <td>1108</td>\n",
              "      <td>3817</td>\n",
              "      <td>https://i.ytimg.com/vi/Ro6eob0LrCY/default.jpg</td>\n",
              "      <td>False</td>\n",
              "      <td>False</td>\n",
              "      <td>False</td>\n",
              "      <td>Dimanche.\\n18h30.\\nSoyez présents pour la vidé...</td>\n",
              "      <td>FR</td>\n",
              "      <td>Entertainment</td>\n",
              "    </tr>\n",
              "    <tr>\n",
              "      <th>Yo84eqYwP98</th>\n",
              "      <td>17.14.11</td>\n",
              "      <td>LA PIRE PARTIE ft Le Rire Jaune, Pierre Croce,...</td>\n",
              "      <td>Le Labo</td>\n",
              "      <td>24</td>\n",
              "      <td>2017-11-12T15:00:02.000Z</td>\n",
              "      <td>[none]</td>\n",
              "      <td>432721</td>\n",
              "      <td>14053</td>\n",
              "      <td>576</td>\n",
              "      <td>1161</td>\n",
              "      <td>https://i.ytimg.com/vi/Yo84eqYwP98/default.jpg</td>\n",
              "      <td>False</td>\n",
              "      <td>False</td>\n",
              "      <td>False</td>\n",
              "      <td>Le jeu de société: https://goo.gl/hhG1Ta\\n\\nGa...</td>\n",
              "      <td>FR</td>\n",
              "      <td>Entertainment</td>\n",
              "    </tr>\n",
              "    <tr>\n",
              "      <th>ceqntSXE-10</th>\n",
              "      <td>17.14.11</td>\n",
              "      <td>DESSINS ANIMÉS FRANÇAIS VS RUSSES 2 - Daniil...</td>\n",
              "      <td>Daniil le Russe</td>\n",
              "      <td>23</td>\n",
              "      <td>2017-11-13T17:00:38.000Z</td>\n",
              "      <td>cartoon\"|\"pokémon\"|\"école\"|\"ours\"|\"мультфильм</td>\n",
              "      <td>482153</td>\n",
              "      <td>76203</td>\n",
              "      <td>477</td>\n",
              "      <td>9580</td>\n",
              "      <td>https://i.ytimg.com/vi/ceqntSXE-10/default.jpg</td>\n",
              "      <td>False</td>\n",
              "      <td>False</td>\n",
              "      <td>False</td>\n",
              "      <td>Une nouvelle dose de dessins animés français e...</td>\n",
              "      <td>FR</td>\n",
              "      <td>Comedy</td>\n",
              "    </tr>\n",
              "    <tr>\n",
              "      <th>WuTFI5qftCE</th>\n",
              "      <td>17.14.11</td>\n",
              "      <td>PAPY GRENIER - METAL GEAR SOLID</td>\n",
              "      <td>Joueur Du Grenier</td>\n",
              "      <td>20</td>\n",
              "      <td>2017-11-12T17:00:02.000Z</td>\n",
              "      <td>Papy grenier\"|\"Metal Gear Solid\"|\"PS1\"|\"Tirage...</td>\n",
              "      <td>925222</td>\n",
              "      <td>85016</td>\n",
              "      <td>550</td>\n",
              "      <td>4303</td>\n",
              "      <td>https://i.ytimg.com/vi/WuTFI5qftCE/default.jpg</td>\n",
              "      <td>False</td>\n",
              "      <td>False</td>\n",
              "      <td>False</td>\n",
              "      <td>Nouvel ,épisode de Papy Grenier ! Ce mois-ci o...</td>\n",
              "      <td>FR</td>\n",
              "      <td>Gaming</td>\n",
              "    </tr>\n",
              "    <tr>\n",
              "      <th>ee6OFs8TdEg</th>\n",
              "      <td>17.14.11</td>\n",
              "      <td>QUI SAUTERA LE PLUS HAUT ? (VÉLO SKATE ROLLER ...</td>\n",
              "      <td>Aurelien Fontenoy</td>\n",
              "      <td>17</td>\n",
              "      <td>2017-11-13T16:30:03.000Z</td>\n",
              "      <td>vélo\"|\"vtt\"|\"bmx\"|\"freestyle\"|\"bike\"|\"mtb\"|\"di...</td>\n",
              "      <td>141695</td>\n",
              "      <td>8091</td>\n",
              "      <td>72</td>\n",
              "      <td>481</td>\n",
              "      <td>https://i.ytimg.com/vi/ee6OFs8TdEg/default.jpg</td>\n",
              "      <td>False</td>\n",
              "      <td>False</td>\n",
              "      <td>False</td>\n",
              "      <td>Sauts à plus de 4 mètres de haut dans un tramp...</td>\n",
              "      <td>FR</td>\n",
              "      <td>Sports</td>\n",
              "    </tr>\n",
              "  </tbody>\n",
              "</table>\n",
              "</div>\n",
              "      <button class=\"colab-df-convert\" onclick=\"convertToInteractive('df-39c66455-ac3a-4878-8bc7-49d0a2c7c1a3')\"\n",
              "              title=\"Convert this dataframe to an interactive table.\"\n",
              "              style=\"display:none;\">\n",
              "        \n",
              "  <svg xmlns=\"http://www.w3.org/2000/svg\" height=\"24px\"viewBox=\"0 0 24 24\"\n",
              "       width=\"24px\">\n",
              "    <path d=\"M0 0h24v24H0V0z\" fill=\"none\"/>\n",
              "    <path d=\"M18.56 5.44l.94 2.06.94-2.06 2.06-.94-2.06-.94-.94-2.06-.94 2.06-2.06.94zm-11 1L8.5 8.5l.94-2.06 2.06-.94-2.06-.94L8.5 2.5l-.94 2.06-2.06.94zm10 10l.94 2.06.94-2.06 2.06-.94-2.06-.94-.94-2.06-.94 2.06-2.06.94z\"/><path d=\"M17.41 7.96l-1.37-1.37c-.4-.4-.92-.59-1.43-.59-.52 0-1.04.2-1.43.59L10.3 9.45l-7.72 7.72c-.78.78-.78 2.05 0 2.83L4 21.41c.39.39.9.59 1.41.59.51 0 1.02-.2 1.41-.59l7.78-7.78 2.81-2.81c.8-.78.8-2.07 0-2.86zM5.41 20L4 18.59l7.72-7.72 1.47 1.35L5.41 20z\"/>\n",
              "  </svg>\n",
              "      </button>\n",
              "      \n",
              "  <style>\n",
              "    .colab-df-container {\n",
              "      display:flex;\n",
              "      flex-wrap:wrap;\n",
              "      gap: 12px;\n",
              "    }\n",
              "\n",
              "    .colab-df-convert {\n",
              "      background-color: #E8F0FE;\n",
              "      border: none;\n",
              "      border-radius: 50%;\n",
              "      cursor: pointer;\n",
              "      display: none;\n",
              "      fill: #1967D2;\n",
              "      height: 32px;\n",
              "      padding: 0 0 0 0;\n",
              "      width: 32px;\n",
              "    }\n",
              "\n",
              "    .colab-df-convert:hover {\n",
              "      background-color: #E2EBFA;\n",
              "      box-shadow: 0px 1px 2px rgba(60, 64, 67, 0.3), 0px 1px 3px 1px rgba(60, 64, 67, 0.15);\n",
              "      fill: #174EA6;\n",
              "    }\n",
              "\n",
              "    [theme=dark] .colab-df-convert {\n",
              "      background-color: #3B4455;\n",
              "      fill: #D2E3FC;\n",
              "    }\n",
              "\n",
              "    [theme=dark] .colab-df-convert:hover {\n",
              "      background-color: #434B5C;\n",
              "      box-shadow: 0px 1px 3px 1px rgba(0, 0, 0, 0.15);\n",
              "      filter: drop-shadow(0px 1px 2px rgba(0, 0, 0, 0.3));\n",
              "      fill: #FFFFFF;\n",
              "    }\n",
              "  </style>\n",
              "\n",
              "      <script>\n",
              "        const buttonEl =\n",
              "          document.querySelector('#df-39c66455-ac3a-4878-8bc7-49d0a2c7c1a3 button.colab-df-convert');\n",
              "        buttonEl.style.display =\n",
              "          google.colab.kernel.accessAllowed ? 'block' : 'none';\n",
              "\n",
              "        async function convertToInteractive(key) {\n",
              "          const element = document.querySelector('#df-39c66455-ac3a-4878-8bc7-49d0a2c7c1a3');\n",
              "          const dataTable =\n",
              "            await google.colab.kernel.invokeFunction('convertToInteractive',\n",
              "                                                     [key], {});\n",
              "          if (!dataTable) return;\n",
              "\n",
              "          const docLinkHtml = 'Like what you see? Visit the ' +\n",
              "            '<a target=\"_blank\" href=https://colab.research.google.com/notebooks/data_table.ipynb>data table notebook</a>'\n",
              "            + ' to learn more about interactive tables.';\n",
              "          element.innerHTML = '';\n",
              "          dataTable['output_type'] = 'display_data';\n",
              "          await google.colab.output.renderOutput(dataTable, element);\n",
              "          const docLink = document.createElement('div');\n",
              "          docLink.innerHTML = docLinkHtml;\n",
              "          element.appendChild(docLink);\n",
              "        }\n",
              "      </script>\n",
              "    </div>\n",
              "  </div>\n",
              "  "
            ],
            "text/plain": [
              "            trending_date  ...       category\n",
              "video_id                   ...               \n",
              "Ro6eob0LrCY      17.14.11  ...  Entertainment\n",
              "Yo84eqYwP98      17.14.11  ...  Entertainment\n",
              "ceqntSXE-10      17.14.11  ...         Comedy\n",
              "WuTFI5qftCE      17.14.11  ...         Gaming\n",
              "ee6OFs8TdEg      17.14.11  ...         Sports\n",
              "\n",
              "[5 rows x 17 columns]"
            ]
          },
          "metadata": {},
          "execution_count": 6
        }
      ]
    },
    {
      "cell_type": "markdown",
      "metadata": {
        "id": "LEfiMpUULmT4"
      },
      "source": [
        "#### Fix datetime format and remove rows with NA's \n",
        "\n"
      ]
    },
    {
      "cell_type": "code",
      "metadata": {
        "colab": {
          "base_uri": "https://localhost:8080/",
          "height": 736
        },
        "id": "EMqgqJv5MYWG",
        "outputId": "e1bf4e55-e27d-4bad-adcf-6cad00ca8c30"
      },
      "source": [
        "\n",
        "combined_data['trending_date'] = pd.to_datetime(combined_data['trending_date'],format='%y.%d.%m')\n",
        "combined_data['publish_time'] = pd.to_datetime(combined_data['publish_time'], format='%Y-%m-%d %H:%M:%S')\n",
        "\n",
        "combined_data= combined_data.dropna()\n",
        "combined_data.head(5) \n"
      ],
      "execution_count": 7,
      "outputs": [
        {
          "output_type": "execute_result",
          "data": {
            "text/html": [
              "\n",
              "  <div id=\"df-2c090310-439b-4fd4-8996-9a9d0a1e3c50\">\n",
              "    <div class=\"colab-df-container\">\n",
              "      <div>\n",
              "<style scoped>\n",
              "    .dataframe tbody tr th:only-of-type {\n",
              "        vertical-align: middle;\n",
              "    }\n",
              "\n",
              "    .dataframe tbody tr th {\n",
              "        vertical-align: top;\n",
              "    }\n",
              "\n",
              "    .dataframe thead th {\n",
              "        text-align: right;\n",
              "    }\n",
              "</style>\n",
              "<table border=\"1\" class=\"dataframe\">\n",
              "  <thead>\n",
              "    <tr style=\"text-align: right;\">\n",
              "      <th></th>\n",
              "      <th>trending_date</th>\n",
              "      <th>title</th>\n",
              "      <th>channel_title</th>\n",
              "      <th>category_id</th>\n",
              "      <th>publish_time</th>\n",
              "      <th>tags</th>\n",
              "      <th>views</th>\n",
              "      <th>likes</th>\n",
              "      <th>dislikes</th>\n",
              "      <th>comment_count</th>\n",
              "      <th>thumbnail_link</th>\n",
              "      <th>comments_disabled</th>\n",
              "      <th>ratings_disabled</th>\n",
              "      <th>video_error_or_removed</th>\n",
              "      <th>description</th>\n",
              "      <th>country</th>\n",
              "      <th>category</th>\n",
              "    </tr>\n",
              "    <tr>\n",
              "      <th>video_id</th>\n",
              "      <th></th>\n",
              "      <th></th>\n",
              "      <th></th>\n",
              "      <th></th>\n",
              "      <th></th>\n",
              "      <th></th>\n",
              "      <th></th>\n",
              "      <th></th>\n",
              "      <th></th>\n",
              "      <th></th>\n",
              "      <th></th>\n",
              "      <th></th>\n",
              "      <th></th>\n",
              "      <th></th>\n",
              "      <th></th>\n",
              "      <th></th>\n",
              "      <th></th>\n",
              "    </tr>\n",
              "  </thead>\n",
              "  <tbody>\n",
              "    <tr>\n",
              "      <th>Ro6eob0LrCY</th>\n",
              "      <td>2017-11-14</td>\n",
              "      <td>Malika LePen : Femme de Gauche - Trailer</td>\n",
              "      <td>Le Raptor Dissident</td>\n",
              "      <td>24</td>\n",
              "      <td>2017-11-13 17:32:55+00:00</td>\n",
              "      <td>Raptor\"|\"Dissident\"|\"Expliquez\"|\"moi\"|\"cette\"|...</td>\n",
              "      <td>212702</td>\n",
              "      <td>29282</td>\n",
              "      <td>1108</td>\n",
              "      <td>3817</td>\n",
              "      <td>https://i.ytimg.com/vi/Ro6eob0LrCY/default.jpg</td>\n",
              "      <td>False</td>\n",
              "      <td>False</td>\n",
              "      <td>False</td>\n",
              "      <td>Dimanche.\\n18h30.\\nSoyez présents pour la vidé...</td>\n",
              "      <td>FR</td>\n",
              "      <td>Entertainment</td>\n",
              "    </tr>\n",
              "    <tr>\n",
              "      <th>Yo84eqYwP98</th>\n",
              "      <td>2017-11-14</td>\n",
              "      <td>LA PIRE PARTIE ft Le Rire Jaune, Pierre Croce,...</td>\n",
              "      <td>Le Labo</td>\n",
              "      <td>24</td>\n",
              "      <td>2017-11-12 15:00:02+00:00</td>\n",
              "      <td>[none]</td>\n",
              "      <td>432721</td>\n",
              "      <td>14053</td>\n",
              "      <td>576</td>\n",
              "      <td>1161</td>\n",
              "      <td>https://i.ytimg.com/vi/Yo84eqYwP98/default.jpg</td>\n",
              "      <td>False</td>\n",
              "      <td>False</td>\n",
              "      <td>False</td>\n",
              "      <td>Le jeu de société: https://goo.gl/hhG1Ta\\n\\nGa...</td>\n",
              "      <td>FR</td>\n",
              "      <td>Entertainment</td>\n",
              "    </tr>\n",
              "    <tr>\n",
              "      <th>ceqntSXE-10</th>\n",
              "      <td>2017-11-14</td>\n",
              "      <td>DESSINS ANIMÉS FRANÇAIS VS RUSSES 2 - Daniil...</td>\n",
              "      <td>Daniil le Russe</td>\n",
              "      <td>23</td>\n",
              "      <td>2017-11-13 17:00:38+00:00</td>\n",
              "      <td>cartoon\"|\"pokémon\"|\"école\"|\"ours\"|\"мультфильм</td>\n",
              "      <td>482153</td>\n",
              "      <td>76203</td>\n",
              "      <td>477</td>\n",
              "      <td>9580</td>\n",
              "      <td>https://i.ytimg.com/vi/ceqntSXE-10/default.jpg</td>\n",
              "      <td>False</td>\n",
              "      <td>False</td>\n",
              "      <td>False</td>\n",
              "      <td>Une nouvelle dose de dessins animés français e...</td>\n",
              "      <td>FR</td>\n",
              "      <td>Comedy</td>\n",
              "    </tr>\n",
              "    <tr>\n",
              "      <th>WuTFI5qftCE</th>\n",
              "      <td>2017-11-14</td>\n",
              "      <td>PAPY GRENIER - METAL GEAR SOLID</td>\n",
              "      <td>Joueur Du Grenier</td>\n",
              "      <td>20</td>\n",
              "      <td>2017-11-12 17:00:02+00:00</td>\n",
              "      <td>Papy grenier\"|\"Metal Gear Solid\"|\"PS1\"|\"Tirage...</td>\n",
              "      <td>925222</td>\n",
              "      <td>85016</td>\n",
              "      <td>550</td>\n",
              "      <td>4303</td>\n",
              "      <td>https://i.ytimg.com/vi/WuTFI5qftCE/default.jpg</td>\n",
              "      <td>False</td>\n",
              "      <td>False</td>\n",
              "      <td>False</td>\n",
              "      <td>Nouvel ,épisode de Papy Grenier ! Ce mois-ci o...</td>\n",
              "      <td>FR</td>\n",
              "      <td>Gaming</td>\n",
              "    </tr>\n",
              "    <tr>\n",
              "      <th>ee6OFs8TdEg</th>\n",
              "      <td>2017-11-14</td>\n",
              "      <td>QUI SAUTERA LE PLUS HAUT ? (VÉLO SKATE ROLLER ...</td>\n",
              "      <td>Aurelien Fontenoy</td>\n",
              "      <td>17</td>\n",
              "      <td>2017-11-13 16:30:03+00:00</td>\n",
              "      <td>vélo\"|\"vtt\"|\"bmx\"|\"freestyle\"|\"bike\"|\"mtb\"|\"di...</td>\n",
              "      <td>141695</td>\n",
              "      <td>8091</td>\n",
              "      <td>72</td>\n",
              "      <td>481</td>\n",
              "      <td>https://i.ytimg.com/vi/ee6OFs8TdEg/default.jpg</td>\n",
              "      <td>False</td>\n",
              "      <td>False</td>\n",
              "      <td>False</td>\n",
              "      <td>Sauts à plus de 4 mètres de haut dans un tramp...</td>\n",
              "      <td>FR</td>\n",
              "      <td>Sports</td>\n",
              "    </tr>\n",
              "  </tbody>\n",
              "</table>\n",
              "</div>\n",
              "      <button class=\"colab-df-convert\" onclick=\"convertToInteractive('df-2c090310-439b-4fd4-8996-9a9d0a1e3c50')\"\n",
              "              title=\"Convert this dataframe to an interactive table.\"\n",
              "              style=\"display:none;\">\n",
              "        \n",
              "  <svg xmlns=\"http://www.w3.org/2000/svg\" height=\"24px\"viewBox=\"0 0 24 24\"\n",
              "       width=\"24px\">\n",
              "    <path d=\"M0 0h24v24H0V0z\" fill=\"none\"/>\n",
              "    <path d=\"M18.56 5.44l.94 2.06.94-2.06 2.06-.94-2.06-.94-.94-2.06-.94 2.06-2.06.94zm-11 1L8.5 8.5l.94-2.06 2.06-.94-2.06-.94L8.5 2.5l-.94 2.06-2.06.94zm10 10l.94 2.06.94-2.06 2.06-.94-2.06-.94-.94-2.06-.94 2.06-2.06.94z\"/><path d=\"M17.41 7.96l-1.37-1.37c-.4-.4-.92-.59-1.43-.59-.52 0-1.04.2-1.43.59L10.3 9.45l-7.72 7.72c-.78.78-.78 2.05 0 2.83L4 21.41c.39.39.9.59 1.41.59.51 0 1.02-.2 1.41-.59l7.78-7.78 2.81-2.81c.8-.78.8-2.07 0-2.86zM5.41 20L4 18.59l7.72-7.72 1.47 1.35L5.41 20z\"/>\n",
              "  </svg>\n",
              "      </button>\n",
              "      \n",
              "  <style>\n",
              "    .colab-df-container {\n",
              "      display:flex;\n",
              "      flex-wrap:wrap;\n",
              "      gap: 12px;\n",
              "    }\n",
              "\n",
              "    .colab-df-convert {\n",
              "      background-color: #E8F0FE;\n",
              "      border: none;\n",
              "      border-radius: 50%;\n",
              "      cursor: pointer;\n",
              "      display: none;\n",
              "      fill: #1967D2;\n",
              "      height: 32px;\n",
              "      padding: 0 0 0 0;\n",
              "      width: 32px;\n",
              "    }\n",
              "\n",
              "    .colab-df-convert:hover {\n",
              "      background-color: #E2EBFA;\n",
              "      box-shadow: 0px 1px 2px rgba(60, 64, 67, 0.3), 0px 1px 3px 1px rgba(60, 64, 67, 0.15);\n",
              "      fill: #174EA6;\n",
              "    }\n",
              "\n",
              "    [theme=dark] .colab-df-convert {\n",
              "      background-color: #3B4455;\n",
              "      fill: #D2E3FC;\n",
              "    }\n",
              "\n",
              "    [theme=dark] .colab-df-convert:hover {\n",
              "      background-color: #434B5C;\n",
              "      box-shadow: 0px 1px 3px 1px rgba(0, 0, 0, 0.15);\n",
              "      filter: drop-shadow(0px 1px 2px rgba(0, 0, 0, 0.3));\n",
              "      fill: #FFFFFF;\n",
              "    }\n",
              "  </style>\n",
              "\n",
              "      <script>\n",
              "        const buttonEl =\n",
              "          document.querySelector('#df-2c090310-439b-4fd4-8996-9a9d0a1e3c50 button.colab-df-convert');\n",
              "        buttonEl.style.display =\n",
              "          google.colab.kernel.accessAllowed ? 'block' : 'none';\n",
              "\n",
              "        async function convertToInteractive(key) {\n",
              "          const element = document.querySelector('#df-2c090310-439b-4fd4-8996-9a9d0a1e3c50');\n",
              "          const dataTable =\n",
              "            await google.colab.kernel.invokeFunction('convertToInteractive',\n",
              "                                                     [key], {});\n",
              "          if (!dataTable) return;\n",
              "\n",
              "          const docLinkHtml = 'Like what you see? Visit the ' +\n",
              "            '<a target=\"_blank\" href=https://colab.research.google.com/notebooks/data_table.ipynb>data table notebook</a>'\n",
              "            + ' to learn more about interactive tables.';\n",
              "          element.innerHTML = '';\n",
              "          dataTable['output_type'] = 'display_data';\n",
              "          await google.colab.output.renderOutput(dataTable, element);\n",
              "          const docLink = document.createElement('div');\n",
              "          docLink.innerHTML = docLinkHtml;\n",
              "          element.appendChild(docLink);\n",
              "        }\n",
              "      </script>\n",
              "    </div>\n",
              "  </div>\n",
              "  "
            ],
            "text/plain": [
              "            trending_date  ...       category\n",
              "video_id                   ...               \n",
              "Ro6eob0LrCY    2017-11-14  ...  Entertainment\n",
              "Yo84eqYwP98    2017-11-14  ...  Entertainment\n",
              "ceqntSXE-10    2017-11-14  ...         Comedy\n",
              "WuTFI5qftCE    2017-11-14  ...         Gaming\n",
              "ee6OFs8TdEg    2017-11-14  ...         Sports\n",
              "\n",
              "[5 rows x 17 columns]"
            ]
          },
          "metadata": {},
          "execution_count": 7
        }
      ]
    },
    {
      "cell_type": "markdown",
      "metadata": {
        "id": "gT2l5ttZan_J"
      },
      "source": [
        "## EDA and Feature Engineering \n",
        "\n"
      ]
    },
    {
      "cell_type": "markdown",
      "metadata": {
        "id": "bL0aSQcFAxxz"
      },
      "source": [
        "#### simple statistics "
      ]
    },
    {
      "cell_type": "code",
      "metadata": {
        "colab": {
          "base_uri": "https://localhost:8080/",
          "height": 300
        },
        "id": "EPGAfn7_EzPe",
        "outputId": "2820fa35-7bc6-43b9-dec4-f7d2767b22d4"
      },
      "source": [
        "eda_described = combined_data.describe()\n",
        "eda_sum = eda_described[['views',\"likes\",'dislikes','comment_count']]\n",
        "eda_sum"
      ],
      "execution_count": 8,
      "outputs": [
        {
          "output_type": "execute_result",
          "data": {
            "text/html": [
              "\n",
              "  <div id=\"df-e5c217ed-21de-4a34-9a2f-99f3c796748d\">\n",
              "    <div class=\"colab-df-container\">\n",
              "      <div>\n",
              "<style scoped>\n",
              "    .dataframe tbody tr th:only-of-type {\n",
              "        vertical-align: middle;\n",
              "    }\n",
              "\n",
              "    .dataframe tbody tr th {\n",
              "        vertical-align: top;\n",
              "    }\n",
              "\n",
              "    .dataframe thead th {\n",
              "        text-align: right;\n",
              "    }\n",
              "</style>\n",
              "<table border=\"1\" class=\"dataframe\">\n",
              "  <thead>\n",
              "    <tr style=\"text-align: right;\">\n",
              "      <th></th>\n",
              "      <th>views</th>\n",
              "      <th>likes</th>\n",
              "      <th>dislikes</th>\n",
              "      <th>comment_count</th>\n",
              "    </tr>\n",
              "  </thead>\n",
              "  <tbody>\n",
              "    <tr>\n",
              "      <th>count</th>\n",
              "      <td>1.545670e+05</td>\n",
              "      <td>1.545670e+05</td>\n",
              "      <td>1.545670e+05</td>\n",
              "      <td>1.545670e+05</td>\n",
              "    </tr>\n",
              "    <tr>\n",
              "      <th>mean</th>\n",
              "      <td>1.281578e+06</td>\n",
              "      <td>4.096105e+04</td>\n",
              "      <td>2.056138e+03</td>\n",
              "      <td>4.606594e+03</td>\n",
              "    </tr>\n",
              "    <tr>\n",
              "      <th>std</th>\n",
              "      <td>4.605292e+06</td>\n",
              "      <td>1.521490e+05</td>\n",
              "      <td>1.825854e+04</td>\n",
              "      <td>2.327823e+04</td>\n",
              "    </tr>\n",
              "    <tr>\n",
              "      <th>min</th>\n",
              "      <td>2.230000e+02</td>\n",
              "      <td>0.000000e+00</td>\n",
              "      <td>0.000000e+00</td>\n",
              "      <td>0.000000e+00</td>\n",
              "    </tr>\n",
              "    <tr>\n",
              "      <th>25%</th>\n",
              "      <td>9.574900e+04</td>\n",
              "      <td>1.321000e+03</td>\n",
              "      <td>8.100000e+01</td>\n",
              "      <td>1.720000e+02</td>\n",
              "    </tr>\n",
              "    <tr>\n",
              "      <th>50%</th>\n",
              "      <td>3.134280e+05</td>\n",
              "      <td>6.336000e+03</td>\n",
              "      <td>2.980000e+02</td>\n",
              "      <td>7.650000e+02</td>\n",
              "    </tr>\n",
              "    <tr>\n",
              "      <th>75%</th>\n",
              "      <td>9.473390e+05</td>\n",
              "      <td>2.594050e+04</td>\n",
              "      <td>1.024000e+03</td>\n",
              "      <td>2.726000e+03</td>\n",
              "    </tr>\n",
              "    <tr>\n",
              "      <th>max</th>\n",
              "      <td>2.252119e+08</td>\n",
              "      <td>5.613827e+06</td>\n",
              "      <td>1.643059e+06</td>\n",
              "      <td>1.228655e+06</td>\n",
              "    </tr>\n",
              "  </tbody>\n",
              "</table>\n",
              "</div>\n",
              "      <button class=\"colab-df-convert\" onclick=\"convertToInteractive('df-e5c217ed-21de-4a34-9a2f-99f3c796748d')\"\n",
              "              title=\"Convert this dataframe to an interactive table.\"\n",
              "              style=\"display:none;\">\n",
              "        \n",
              "  <svg xmlns=\"http://www.w3.org/2000/svg\" height=\"24px\"viewBox=\"0 0 24 24\"\n",
              "       width=\"24px\">\n",
              "    <path d=\"M0 0h24v24H0V0z\" fill=\"none\"/>\n",
              "    <path d=\"M18.56 5.44l.94 2.06.94-2.06 2.06-.94-2.06-.94-.94-2.06-.94 2.06-2.06.94zm-11 1L8.5 8.5l.94-2.06 2.06-.94-2.06-.94L8.5 2.5l-.94 2.06-2.06.94zm10 10l.94 2.06.94-2.06 2.06-.94-2.06-.94-.94-2.06-.94 2.06-2.06.94z\"/><path d=\"M17.41 7.96l-1.37-1.37c-.4-.4-.92-.59-1.43-.59-.52 0-1.04.2-1.43.59L10.3 9.45l-7.72 7.72c-.78.78-.78 2.05 0 2.83L4 21.41c.39.39.9.59 1.41.59.51 0 1.02-.2 1.41-.59l7.78-7.78 2.81-2.81c.8-.78.8-2.07 0-2.86zM5.41 20L4 18.59l7.72-7.72 1.47 1.35L5.41 20z\"/>\n",
              "  </svg>\n",
              "      </button>\n",
              "      \n",
              "  <style>\n",
              "    .colab-df-container {\n",
              "      display:flex;\n",
              "      flex-wrap:wrap;\n",
              "      gap: 12px;\n",
              "    }\n",
              "\n",
              "    .colab-df-convert {\n",
              "      background-color: #E8F0FE;\n",
              "      border: none;\n",
              "      border-radius: 50%;\n",
              "      cursor: pointer;\n",
              "      display: none;\n",
              "      fill: #1967D2;\n",
              "      height: 32px;\n",
              "      padding: 0 0 0 0;\n",
              "      width: 32px;\n",
              "    }\n",
              "\n",
              "    .colab-df-convert:hover {\n",
              "      background-color: #E2EBFA;\n",
              "      box-shadow: 0px 1px 2px rgba(60, 64, 67, 0.3), 0px 1px 3px 1px rgba(60, 64, 67, 0.15);\n",
              "      fill: #174EA6;\n",
              "    }\n",
              "\n",
              "    [theme=dark] .colab-df-convert {\n",
              "      background-color: #3B4455;\n",
              "      fill: #D2E3FC;\n",
              "    }\n",
              "\n",
              "    [theme=dark] .colab-df-convert:hover {\n",
              "      background-color: #434B5C;\n",
              "      box-shadow: 0px 1px 3px 1px rgba(0, 0, 0, 0.15);\n",
              "      filter: drop-shadow(0px 1px 2px rgba(0, 0, 0, 0.3));\n",
              "      fill: #FFFFFF;\n",
              "    }\n",
              "  </style>\n",
              "\n",
              "      <script>\n",
              "        const buttonEl =\n",
              "          document.querySelector('#df-e5c217ed-21de-4a34-9a2f-99f3c796748d button.colab-df-convert');\n",
              "        buttonEl.style.display =\n",
              "          google.colab.kernel.accessAllowed ? 'block' : 'none';\n",
              "\n",
              "        async function convertToInteractive(key) {\n",
              "          const element = document.querySelector('#df-e5c217ed-21de-4a34-9a2f-99f3c796748d');\n",
              "          const dataTable =\n",
              "            await google.colab.kernel.invokeFunction('convertToInteractive',\n",
              "                                                     [key], {});\n",
              "          if (!dataTable) return;\n",
              "\n",
              "          const docLinkHtml = 'Like what you see? Visit the ' +\n",
              "            '<a target=\"_blank\" href=https://colab.research.google.com/notebooks/data_table.ipynb>data table notebook</a>'\n",
              "            + ' to learn more about interactive tables.';\n",
              "          element.innerHTML = '';\n",
              "          dataTable['output_type'] = 'display_data';\n",
              "          await google.colab.output.renderOutput(dataTable, element);\n",
              "          const docLink = document.createElement('div');\n",
              "          docLink.innerHTML = docLinkHtml;\n",
              "          element.appendChild(docLink);\n",
              "        }\n",
              "      </script>\n",
              "    </div>\n",
              "  </div>\n",
              "  "
            ],
            "text/plain": [
              "              views         likes      dislikes  comment_count\n",
              "count  1.545670e+05  1.545670e+05  1.545670e+05   1.545670e+05\n",
              "mean   1.281578e+06  4.096105e+04  2.056138e+03   4.606594e+03\n",
              "std    4.605292e+06  1.521490e+05  1.825854e+04   2.327823e+04\n",
              "min    2.230000e+02  0.000000e+00  0.000000e+00   0.000000e+00\n",
              "25%    9.574900e+04  1.321000e+03  8.100000e+01   1.720000e+02\n",
              "50%    3.134280e+05  6.336000e+03  2.980000e+02   7.650000e+02\n",
              "75%    9.473390e+05  2.594050e+04  1.024000e+03   2.726000e+03\n",
              "max    2.252119e+08  5.613827e+06  1.643059e+06   1.228655e+06"
            ]
          },
          "metadata": {},
          "execution_count": 8
        }
      ]
    },
    {
      "cell_type": "markdown",
      "metadata": {
        "id": "jwMkARfAFE-U"
      },
      "source": [
        "####  Rescale features (log scale)\n",
        "\n",
        "Range of data rescaled to log scale (base e) and stored as likes_log, views_log, dislikes_log and comment_log. "
      ]
    },
    {
      "cell_type": "code",
      "metadata": {
        "id": "-0wGMFGdFUBK"
      },
      "source": [
        "# Rescale features\n",
        "import math\n",
        "combined_data['likes_log'] = combined_data['likes'].apply(lambda x: math.log(x+1))\n",
        "combined_data['views_log'] = combined_data['views'].apply(lambda x: math.log(x+1))\n",
        "combined_data['dislikes_log'] = combined_data['dislikes'].apply(lambda x: math.log(x+1))\n",
        "combined_data['comment_log'] = combined_data['comment_count'].apply(lambda x: math.log(x+1))\n",
        "\n"
      ],
      "execution_count": 9,
      "outputs": []
    },
    {
      "cell_type": "markdown",
      "metadata": {
        "id": "Kqt6-d6NGA9F"
      },
      "source": [
        "#### Plot the distribution\n"
      ]
    },
    {
      "cell_type": "code",
      "metadata": {
        "colab": {
          "base_uri": "https://localhost:8080/",
          "height": 292
        },
        "id": "gM-HSdnGE5Cf",
        "outputId": "12b0742d-7c1e-458e-dfbd-a404a262e53c"
      },
      "source": [
        "\n",
        "fig, ax =plt.subplots(1,4,figsize=(20,5))\n",
        "likes_log =sns.histplot(combined_data['likes_log'],color='r',ax=ax[0])\n",
        "views_log =sns.histplot(combined_data['views_log'],color='y',ax=ax[1])\n",
        "dislikes_log =sns.histplot(combined_data['dislikes_log'],color='g',ax=ax[2])\n",
        "comment_log =sns.histplot(combined_data['comment_log'],color='b',ax=ax[3])\n",
        "\n",
        "fig.show()"
      ],
      "execution_count": 10,
      "outputs": [
        {
          "output_type": "display_data",
          "data": {
            "image/png": "[encoded data removed]",
            "text/plain": [
              "<Figure size 1440x360 with 4 Axes>"
            ]
          },
          "metadata": {
            "needs_background": "light"
          }
        }
      ]
    },
    {
      "cell_type": "code",
      "metadata": {
        "colab": {
          "base_uri": "https://localhost:8080/",
          "height": 793
        },
        "id": "Vl_bgpXbB6kt",
        "outputId": "7abc146b-186b-4aa8-9288-028aa096299b"
      },
      "source": [
        "\n",
        "fig, ax =plt.subplots(3,1,figsize=(10,10), sharex=True)\n",
        "\n",
        "category =sns.histplot(combined_data['category'],color='r',ax=ax[0])\n",
        "views_log_cat =sns.boxplot(combined_data['category'], combined_data['views_log'],color='y',ax=ax[1])\n",
        "dislikes_log_cat =sns.boxplot(combined_data['category'], combined_data['dislikes_log'],color='g',ax=ax[2])\n",
        "plt.xticks(rotation=90)\n",
        "fig.show()"
      ],
      "execution_count": 11,
      "outputs": [
        {
          "output_type": "stream",
          "name": "stderr",
          "text": [
            "/usr/local/lib/python3.7/dist-packages/seaborn/_decorators.py:43: FutureWarning: Pass the following variables as keyword args: x, y. From version 0.12, the only valid positional argument will be `data`, and passing other arguments without an explicit keyword will result in an error or misinterpretation.\n",
            "  FutureWarning\n",
            "/usr/local/lib/python3.7/dist-packages/seaborn/_decorators.py:43: FutureWarning: Pass the following variables as keyword args: x, y. From version 0.12, the only valid positional argument will be `data`, and passing other arguments without an explicit keyword will result in an error or misinterpretation.\n",
            "  FutureWarning\n"
          ]
        },
        {
          "output_type": "display_data",
          "data": {
            "image/png": "[encoded data removed]",
            "text/plain": [
              "<Figure size 720x720 with 3 Axes>"
            ]
          },
          "metadata": {
            "needs_background": "light"
          }
        }
      ]
    },
    {
      "cell_type": "code",
      "metadata": {
        "id": "P9Gp91VZGF3r",
        "colab": {
          "base_uri": "https://localhost:8080/",
          "height": 597
        },
        "outputId": "d2c49e35-1a6c-4429-802b-b8a878e5c0ea"
      },
      "source": [
        "corr_matrix = combined_data.corr()\n",
        "plt.figure(figsize=(15,8))\n",
        "sns.heatmap(corr_matrix, annot=True)\n",
        "plt.show()"
      ],
      "execution_count": 12,
      "outputs": [
        {
          "output_type": "display_data",
          "data": {
            "image/png": "[encoded data removed]",
            "text/plain": [
              "<Figure size 1080x576 with 2 Axes>"
            ]
          },
          "metadata": {
            "needs_background": "light"
          }
        }
      ]
    },
    {
      "cell_type": "markdown",
      "metadata": {
        "id": "a9l7UZPoGBcB"
      },
      "source": [
        "#### Feature Engineering \n"
      ]
    },
    {
      "cell_type": "markdown",
      "metadata": {
        "id": "bUSsAlnaI4Ep"
      },
      "source": [
        "\n",
        "##### Processing tags/description/title \n",
        "\n",
        " - create a feature ['num_tags'] by counting numbers of ['tags']\n",
        " - Compute the length of description and title and add them as features to the dataset"
      ]
    },
    {
      "cell_type": "code",
      "metadata": {
        "colab": {
          "base_uri": "https://localhost:8080/"
        },
        "id": "4L_6WcapHPDl",
        "outputId": "398578a4-15d3-4fb3-8ba0-2b50a24a4399"
      },
      "source": [
        "\n",
        "combined_data[\"num_tags\"] = combined_data['tags'].apply(lambda x: len(x.split('|')))\n",
        "combined_data[\"desc_len\"]=combined_data['description'].apply(lambda x: len(x))\n",
        "combined_data[\"len_title\"]=combined_data['title'].apply(lambda x: len(x))\n",
        "\n",
        "\n",
        "combined_data[\"num_tags\"]"
      ],
      "execution_count": 13,
      "outputs": [
        {
          "output_type": "execute_result",
          "data": {
            "text/plain": [
              "video_id\n",
              "Ro6eob0LrCY     6\n",
              "Yo84eqYwP98     1\n",
              "ceqntSXE-10     5\n",
              "WuTFI5qftCE     8\n",
              "ee6OFs8TdEg    24\n",
              "               ..\n",
              "1PhPYr_9zRY    27\n",
              "BZt0qjTWNhw    14\n",
              "D6Oy4LfoqsU    24\n",
              "oV0zkMe1K8s    22\n",
              "ooyjaVdt-jA     4\n",
              "Name: num_tags, Length: 154567, dtype: int64"
            ]
          },
          "metadata": {},
          "execution_count": 13
        }
      ]
    },
    {
      "cell_type": "markdown",
      "metadata": {
        "id": "aOaB6ZbCJTBv"
      },
      "source": [
        "##### Processing publish_time. \n",
        "\n",
        "Split 'publish_time' into time, date, and weekday, and date and weekday will store the corresponding date and weekday number respectively. (Start with 1 for Monday and end with 7 for Sunday.)"
      ]
    },
    {
      "cell_type": "code",
      "metadata": {
        "id": "ZVJTEJRFHrI5"
      },
      "source": [
        "\n",
        "# combined_data.columns\n",
        "pub_time = combined_data['publish_time'].copy()\n",
        "combined_data['publish_time'] =pub_time.apply(lambda x: datetime.time(x))\n",
        "combined_data['publish_date'] =pub_time.apply(lambda x: datetime.date(x))\n",
        "\n",
        "# #day on which video was published\n",
        "combined_data['publish_weekday']= pub_time.apply(lambda x: datetime.weekday(x)+1)\n",
        "\n",
        "random_index = np.random.randint(0,combined_data.shape[0]-1)\n"
      ],
      "execution_count": 14,
      "outputs": []
    },
    {
      "cell_type": "code",
      "metadata": {
        "colab": {
          "base_uri": "https://localhost:8080/",
          "height": 455
        },
        "id": "qEsK11e8pYOO",
        "outputId": "f270b70f-f7b5-4220-ab28-7046113d12c8"
      },
      "source": [
        "combined_data[['publish_time','publish_date','publish_weekday']]\n"
      ],
      "execution_count": 15,
      "outputs": [
        {
          "output_type": "execute_result",
          "data": {
            "text/html": [
              "\n",
              "  <div id=\"df-09103a31-750e-4227-883a-7ce591759ee7\">\n",
              "    <div class=\"colab-df-container\">\n",
              "      <div>\n",
              "<style scoped>\n",
              "    .dataframe tbody tr th:only-of-type {\n",
              "        vertical-align: middle;\n",
              "    }\n",
              "\n",
              "    .dataframe tbody tr th {\n",
              "        vertical-align: top;\n",
              "    }\n",
              "\n",
              "    .dataframe thead th {\n",
              "        text-align: right;\n",
              "    }\n",
              "</style>\n",
              "<table border=\"1\" class=\"dataframe\">\n",
              "  <thead>\n",
              "    <tr style=\"text-align: right;\">\n",
              "      <th></th>\n",
              "      <th>publish_time</th>\n",
              "      <th>publish_date</th>\n",
              "      <th>publish_weekday</th>\n",
              "    </tr>\n",
              "    <tr>\n",
              "      <th>video_id</th>\n",
              "      <th></th>\n",
              "      <th></th>\n",
              "      <th></th>\n",
              "    </tr>\n",
              "  </thead>\n",
              "  <tbody>\n",
              "    <tr>\n",
              "      <th>Ro6eob0LrCY</th>\n",
              "      <td>17:32:55</td>\n",
              "      <td>2017-11-13</td>\n",
              "      <td>1</td>\n",
              "    </tr>\n",
              "    <tr>\n",
              "      <th>Yo84eqYwP98</th>\n",
              "      <td>15:00:02</td>\n",
              "      <td>2017-11-12</td>\n",
              "      <td>7</td>\n",
              "    </tr>\n",
              "    <tr>\n",
              "      <th>ceqntSXE-10</th>\n",
              "      <td>17:00:38</td>\n",
              "      <td>2017-11-13</td>\n",
              "      <td>1</td>\n",
              "    </tr>\n",
              "    <tr>\n",
              "      <th>WuTFI5qftCE</th>\n",
              "      <td>17:00:02</td>\n",
              "      <td>2017-11-12</td>\n",
              "      <td>7</td>\n",
              "    </tr>\n",
              "    <tr>\n",
              "      <th>ee6OFs8TdEg</th>\n",
              "      <td>16:30:03</td>\n",
              "      <td>2017-11-13</td>\n",
              "      <td>1</td>\n",
              "    </tr>\n",
              "    <tr>\n",
              "      <th>...</th>\n",
              "      <td>...</td>\n",
              "      <td>...</td>\n",
              "      <td>...</td>\n",
              "    </tr>\n",
              "    <tr>\n",
              "      <th>1PhPYr_9zRY</th>\n",
              "      <td>16:39:29</td>\n",
              "      <td>2018-05-18</td>\n",
              "      <td>5</td>\n",
              "    </tr>\n",
              "    <tr>\n",
              "      <th>BZt0qjTWNhw</th>\n",
              "      <td>13:00:04</td>\n",
              "      <td>2018-05-18</td>\n",
              "      <td>5</td>\n",
              "    </tr>\n",
              "    <tr>\n",
              "      <th>D6Oy4LfoqsU</th>\n",
              "      <td>17:34:22</td>\n",
              "      <td>2018-05-18</td>\n",
              "      <td>5</td>\n",
              "    </tr>\n",
              "    <tr>\n",
              "      <th>oV0zkMe1K8s</th>\n",
              "      <td>17:00:04</td>\n",
              "      <td>2018-05-17</td>\n",
              "      <td>4</td>\n",
              "    </tr>\n",
              "    <tr>\n",
              "      <th>ooyjaVdt-jA</th>\n",
              "      <td>17:09:38</td>\n",
              "      <td>2018-05-17</td>\n",
              "      <td>4</td>\n",
              "    </tr>\n",
              "  </tbody>\n",
              "</table>\n",
              "<p>154567 rows × 3 columns</p>\n",
              "</div>\n",
              "      <button class=\"colab-df-convert\" onclick=\"convertToInteractive('df-09103a31-750e-4227-883a-7ce591759ee7')\"\n",
              "              title=\"Convert this dataframe to an interactive table.\"\n",
              "              style=\"display:none;\">\n",
              "        \n",
              "  <svg xmlns=\"http://www.w3.org/2000/svg\" height=\"24px\"viewBox=\"0 0 24 24\"\n",
              "       width=\"24px\">\n",
              "    <path d=\"M0 0h24v24H0V0z\" fill=\"none\"/>\n",
              "    <path d=\"M18.56 5.44l.94 2.06.94-2.06 2.06-.94-2.06-.94-.94-2.06-.94 2.06-2.06.94zm-11 1L8.5 8.5l.94-2.06 2.06-.94-2.06-.94L8.5 2.5l-.94 2.06-2.06.94zm10 10l.94 2.06.94-2.06 2.06-.94-2.06-.94-.94-2.06-.94 2.06-2.06.94z\"/><path d=\"M17.41 7.96l-1.37-1.37c-.4-.4-.92-.59-1.43-.59-.52 0-1.04.2-1.43.59L10.3 9.45l-7.72 7.72c-.78.78-.78 2.05 0 2.83L4 21.41c.39.39.9.59 1.41.59.51 0 1.02-.2 1.41-.59l7.78-7.78 2.81-2.81c.8-.78.8-2.07 0-2.86zM5.41 20L4 18.59l7.72-7.72 1.47 1.35L5.41 20z\"/>\n",
              "  </svg>\n",
              "      </button>\n",
              "      \n",
              "  <style>\n",
              "    .colab-df-container {\n",
              "      display:flex;\n",
              "      flex-wrap:wrap;\n",
              "      gap: 12px;\n",
              "    }\n",
              "\n",
              "    .colab-df-convert {\n",
              "      background-color: #E8F0FE;\n",
              "      border: none;\n",
              "      border-radius: 50%;\n",
              "      cursor: pointer;\n",
              "      display: none;\n",
              "      fill: #1967D2;\n",
              "      height: 32px;\n",
              "      padding: 0 0 0 0;\n",
              "      width: 32px;\n",
              "    }\n",
              "\n",
              "    .colab-df-convert:hover {\n",
              "      background-color: #E2EBFA;\n",
              "      box-shadow: 0px 1px 2px rgba(60, 64, 67, 0.3), 0px 1px 3px 1px rgba(60, 64, 67, 0.15);\n",
              "      fill: #174EA6;\n",
              "    }\n",
              "\n",
              "    [theme=dark] .colab-df-convert {\n",
              "      background-color: #3B4455;\n",
              "      fill: #D2E3FC;\n",
              "    }\n",
              "\n",
              "    [theme=dark] .colab-df-convert:hover {\n",
              "      background-color: #434B5C;\n",
              "      box-shadow: 0px 1px 3px 1px rgba(0, 0, 0, 0.15);\n",
              "      filter: drop-shadow(0px 1px 2px rgba(0, 0, 0, 0.3));\n",
              "      fill: #FFFFFF;\n",
              "    }\n",
              "  </style>\n",
              "\n",
              "      <script>\n",
              "        const buttonEl =\n",
              "          document.querySelector('#df-09103a31-750e-4227-883a-7ce591759ee7 button.colab-df-convert');\n",
              "        buttonEl.style.display =\n",
              "          google.colab.kernel.accessAllowed ? 'block' : 'none';\n",
              "\n",
              "        async function convertToInteractive(key) {\n",
              "          const element = document.querySelector('#df-09103a31-750e-4227-883a-7ce591759ee7');\n",
              "          const dataTable =\n",
              "            await google.colab.kernel.invokeFunction('convertToInteractive',\n",
              "                                                     [key], {});\n",
              "          if (!dataTable) return;\n",
              "\n",
              "          const docLinkHtml = 'Like what you see? Visit the ' +\n",
              "            '<a target=\"_blank\" href=https://colab.research.google.com/notebooks/data_table.ipynb>data table notebook</a>'\n",
              "            + ' to learn more about interactive tables.';\n",
              "          element.innerHTML = '';\n",
              "          dataTable['output_type'] = 'display_data';\n",
              "          await google.colab.output.renderOutput(dataTable, element);\n",
              "          const docLink = document.createElement('div');\n",
              "          docLink.innerHTML = docLinkHtml;\n",
              "          element.appendChild(docLink);\n",
              "        }\n",
              "      </script>\n",
              "    </div>\n",
              "  </div>\n",
              "  "
            ],
            "text/plain": [
              "            publish_time publish_date  publish_weekday\n",
              "video_id                                              \n",
              "Ro6eob0LrCY     17:32:55   2017-11-13                1\n",
              "Yo84eqYwP98     15:00:02   2017-11-12                7\n",
              "ceqntSXE-10     17:00:38   2017-11-13                1\n",
              "WuTFI5qftCE     17:00:02   2017-11-12                7\n",
              "ee6OFs8TdEg     16:30:03   2017-11-13                1\n",
              "...                  ...          ...              ...\n",
              "1PhPYr_9zRY     16:39:29   2018-05-18                5\n",
              "BZt0qjTWNhw     13:00:04   2018-05-18                5\n",
              "D6Oy4LfoqsU     17:34:22   2018-05-18                5\n",
              "oV0zkMe1K8s     17:00:04   2018-05-17                4\n",
              "ooyjaVdt-jA     17:09:38   2018-05-17                4\n",
              "\n",
              "[154567 rows x 3 columns]"
            ]
          },
          "metadata": {},
          "execution_count": 15
        }
      ]
    },
    {
      "cell_type": "markdown",
      "metadata": {
        "id": "mx1JPowWKKE7"
      },
      "source": [
        "##### Number of videos per weekday \n",
        "\n",
        "Compute the number of videos published per day of the week. "
      ]
    },
    {
      "cell_type": "code",
      "metadata": {
        "colab": {
          "base_uri": "https://localhost:8080/",
          "height": 335
        },
        "id": "IYNXbH9AKhzy",
        "outputId": "9c8481c5-41d0-473c-a0b3-c43671fd8559"
      },
      "source": [
        "\n",
        "plt.figure(figsize=(5, 5));\n",
        "num_videos= sns.histplot(combined_data['publish_weekday']);\n",
        "plt.xlabel('publish_weekday');\n",
        "plt.ylabel('Numbers of video');\n",
        "\n",
        "plt.show()"
      ],
      "execution_count": 16,
      "outputs": [
        {
          "output_type": "display_data",
          "data": {
            "image/png": "[encoded data removed]",
            "text/plain": [
              "<Figure size 360x360 with 1 Axes>"
            ]
          },
          "metadata": {
            "needs_background": "light"
          }
        }
      ]
    },
    {
      "cell_type": "markdown",
      "metadata": {
        "id": "qd7dG7GTKrVQ"
      },
      "source": [
        "#### Dropping irrelevant non numeric columns \n",
        "\n",
        "Drop non-numeric columns \n",
        "Note that a few key columns are non-numeric but should be kept in the dataframe:\n",
        "comments_disabled, ratings_disabled, video_error_or_removed, country\n",
        "\n",
        "Drop original views, like, comments and dislikes "
      ]
    },
    {
      "cell_type": "code",
      "metadata": {
        "colab": {
          "base_uri": "https://localhost:8080/"
        },
        "id": "DVyEana9WA0v",
        "outputId": "b6e770b8-f704-498b-907f-8bce12f83419"
      },
      "source": [
        "combined_data.dtypes"
      ],
      "execution_count": 17,
      "outputs": [
        {
          "output_type": "execute_result",
          "data": {
            "text/plain": [
              "trending_date             datetime64[ns]\n",
              "title                             object\n",
              "channel_title                     object\n",
              "category_id                       object\n",
              "publish_time                      object\n",
              "tags                              object\n",
              "views                              int64\n",
              "likes                              int64\n",
              "dislikes                           int64\n",
              "comment_count                      int64\n",
              "thumbnail_link                    object\n",
              "comments_disabled                   bool\n",
              "ratings_disabled                    bool\n",
              "video_error_or_removed              bool\n",
              "description                       object\n",
              "country                           object\n",
              "category                          object\n",
              "likes_log                        float64\n",
              "views_log                        float64\n",
              "dislikes_log                     float64\n",
              "comment_log                      float64\n",
              "num_tags                           int64\n",
              "desc_len                           int64\n",
              "len_title                          int64\n",
              "publish_date                      object\n",
              "publish_weekday                    int64\n",
              "dtype: object"
            ]
          },
          "metadata": {},
          "execution_count": 17
        }
      ]
    },
    {
      "cell_type": "code",
      "metadata": {
        "colab": {
          "base_uri": "https://localhost:8080/"
        },
        "id": "S2SkoKwGVjzM",
        "outputId": "8b5bdb44-943a-4ace-9929-7c00819fa457"
      },
      "source": [
        "num_combined_data=combined_data.select_dtypes(exclude=object)\n",
        "num_combined_data=num_combined_data.drop(columns={'views','likes','dislikes','comment_count','trending_date'})\n",
        "num_combined_data.columns"
      ],
      "execution_count": 18,
      "outputs": [
        {
          "output_type": "execute_result",
          "data": {
            "text/plain": [
              "Index(['comments_disabled', 'ratings_disabled', 'video_error_or_removed',\n",
              "       'likes_log', 'views_log', 'dislikes_log', 'comment_log', 'num_tags',\n",
              "       'desc_len', 'len_title', 'publish_weekday'],\n",
              "      dtype='object')"
            ]
          },
          "metadata": {},
          "execution_count": 18
        }
      ]
    },
    {
      "cell_type": "code",
      "metadata": {
        "colab": {
          "base_uri": "https://localhost:8080/",
          "height": 302
        },
        "id": "UtSoKgf7IOrJ",
        "outputId": "0e385f8e-6713-4b24-b00b-1903aac392ec"
      },
      "source": [
        "\n",
        "key_combined_data=pd.concat([num_combined_data,combined_data.country,combined_data.category_id],axis=1)\n",
        "key_combined_data.head(5)"
      ],
      "execution_count": 19,
      "outputs": [
        {
          "output_type": "execute_result",
          "data": {
            "text/html": [
              "\n",
              "  <div id=\"df-da204f48-f2a2-48ec-8716-42348ce876f9\">\n",
              "    <div class=\"colab-df-container\">\n",
              "      <div>\n",
              "<style scoped>\n",
              "    .dataframe tbody tr th:only-of-type {\n",
              "        vertical-align: middle;\n",
              "    }\n",
              "\n",
              "    .dataframe tbody tr th {\n",
              "        vertical-align: top;\n",
              "    }\n",
              "\n",
              "    .dataframe thead th {\n",
              "        text-align: right;\n",
              "    }\n",
              "</style>\n",
              "<table border=\"1\" class=\"dataframe\">\n",
              "  <thead>\n",
              "    <tr style=\"text-align: right;\">\n",
              "      <th></th>\n",
              "      <th>comments_disabled</th>\n",
              "      <th>ratings_disabled</th>\n",
              "      <th>video_error_or_removed</th>\n",
              "      <th>likes_log</th>\n",
              "      <th>views_log</th>\n",
              "      <th>dislikes_log</th>\n",
              "      <th>comment_log</th>\n",
              "      <th>num_tags</th>\n",
              "      <th>desc_len</th>\n",
              "      <th>len_title</th>\n",
              "      <th>publish_weekday</th>\n",
              "      <th>country</th>\n",
              "      <th>category_id</th>\n",
              "    </tr>\n",
              "    <tr>\n",
              "      <th>video_id</th>\n",
              "      <th></th>\n",
              "      <th></th>\n",
              "      <th></th>\n",
              "      <th></th>\n",
              "      <th></th>\n",
              "      <th></th>\n",
              "      <th></th>\n",
              "      <th></th>\n",
              "      <th></th>\n",
              "      <th></th>\n",
              "      <th></th>\n",
              "      <th></th>\n",
              "      <th></th>\n",
              "    </tr>\n",
              "  </thead>\n",
              "  <tbody>\n",
              "    <tr>\n",
              "      <th>Ro6eob0LrCY</th>\n",
              "      <td>False</td>\n",
              "      <td>False</td>\n",
              "      <td>False</td>\n",
              "      <td>10.284762</td>\n",
              "      <td>12.267652</td>\n",
              "      <td>7.011214</td>\n",
              "      <td>8.247482</td>\n",
              "      <td>6</td>\n",
              "      <td>1412</td>\n",
              "      <td>40</td>\n",
              "      <td>1</td>\n",
              "      <td>FR</td>\n",
              "      <td>24</td>\n",
              "    </tr>\n",
              "    <tr>\n",
              "      <th>Yo84eqYwP98</th>\n",
              "      <td>False</td>\n",
              "      <td>False</td>\n",
              "      <td>False</td>\n",
              "      <td>9.550662</td>\n",
              "      <td>12.977851</td>\n",
              "      <td>6.357842</td>\n",
              "      <td>7.057898</td>\n",
              "      <td>1</td>\n",
              "      <td>1828</td>\n",
              "      <td>100</td>\n",
              "      <td>7</td>\n",
              "      <td>FR</td>\n",
              "      <td>24</td>\n",
              "    </tr>\n",
              "    <tr>\n",
              "      <th>ceqntSXE-10</th>\n",
              "      <td>False</td>\n",
              "      <td>False</td>\n",
              "      <td>False</td>\n",
              "      <td>11.241169</td>\n",
              "      <td>13.086019</td>\n",
              "      <td>6.169611</td>\n",
              "      <td>9.167537</td>\n",
              "      <td>5</td>\n",
              "      <td>338</td>\n",
              "      <td>55</td>\n",
              "      <td>1</td>\n",
              "      <td>FR</td>\n",
              "      <td>23</td>\n",
              "    </tr>\n",
              "    <tr>\n",
              "      <th>WuTFI5qftCE</th>\n",
              "      <td>False</td>\n",
              "      <td>False</td>\n",
              "      <td>False</td>\n",
              "      <td>11.350607</td>\n",
              "      <td>13.737790</td>\n",
              "      <td>6.311735</td>\n",
              "      <td>8.367300</td>\n",
              "      <td>8</td>\n",
              "      <td>170</td>\n",
              "      <td>31</td>\n",
              "      <td>7</td>\n",
              "      <td>FR</td>\n",
              "      <td>20</td>\n",
              "    </tr>\n",
              "    <tr>\n",
              "      <th>ee6OFs8TdEg</th>\n",
              "      <td>False</td>\n",
              "      <td>False</td>\n",
              "      <td>False</td>\n",
              "      <td>8.998631</td>\n",
              "      <td>11.861439</td>\n",
              "      <td>4.290459</td>\n",
              "      <td>6.177944</td>\n",
              "      <td>24</td>\n",
              "      <td>1384</td>\n",
              "      <td>58</td>\n",
              "      <td>1</td>\n",
              "      <td>FR</td>\n",
              "      <td>17</td>\n",
              "    </tr>\n",
              "  </tbody>\n",
              "</table>\n",
              "</div>\n",
              "      <button class=\"colab-df-convert\" onclick=\"convertToInteractive('df-da204f48-f2a2-48ec-8716-42348ce876f9')\"\n",
              "              title=\"Convert this dataframe to an interactive table.\"\n",
              "              style=\"display:none;\">\n",
              "        \n",
              "  <svg xmlns=\"http://www.w3.org/2000/svg\" height=\"24px\"viewBox=\"0 0 24 24\"\n",
              "       width=\"24px\">\n",
              "    <path d=\"M0 0h24v24H0V0z\" fill=\"none\"/>\n",
              "    <path d=\"M18.56 5.44l.94 2.06.94-2.06 2.06-.94-2.06-.94-.94-2.06-.94 2.06-2.06.94zm-11 1L8.5 8.5l.94-2.06 2.06-.94-2.06-.94L8.5 2.5l-.94 2.06-2.06.94zm10 10l.94 2.06.94-2.06 2.06-.94-2.06-.94-.94-2.06-.94 2.06-2.06.94z\"/><path d=\"M17.41 7.96l-1.37-1.37c-.4-.4-.92-.59-1.43-.59-.52 0-1.04.2-1.43.59L10.3 9.45l-7.72 7.72c-.78.78-.78 2.05 0 2.83L4 21.41c.39.39.9.59 1.41.59.51 0 1.02-.2 1.41-.59l7.78-7.78 2.81-2.81c.8-.78.8-2.07 0-2.86zM5.41 20L4 18.59l7.72-7.72 1.47 1.35L5.41 20z\"/>\n",
              "  </svg>\n",
              "      </button>\n",
              "      \n",
              "  <style>\n",
              "    .colab-df-container {\n",
              "      display:flex;\n",
              "      flex-wrap:wrap;\n",
              "      gap: 12px;\n",
              "    }\n",
              "\n",
              "    .colab-df-convert {\n",
              "      background-color: #E8F0FE;\n",
              "      border: none;\n",
              "      border-radius: 50%;\n",
              "      cursor: pointer;\n",
              "      display: none;\n",
              "      fill: #1967D2;\n",
              "      height: 32px;\n",
              "      padding: 0 0 0 0;\n",
              "      width: 32px;\n",
              "    }\n",
              "\n",
              "    .colab-df-convert:hover {\n",
              "      background-color: #E2EBFA;\n",
              "      box-shadow: 0px 1px 2px rgba(60, 64, 67, 0.3), 0px 1px 3px 1px rgba(60, 64, 67, 0.15);\n",
              "      fill: #174EA6;\n",
              "    }\n",
              "\n",
              "    [theme=dark] .colab-df-convert {\n",
              "      background-color: #3B4455;\n",
              "      fill: #D2E3FC;\n",
              "    }\n",
              "\n",
              "    [theme=dark] .colab-df-convert:hover {\n",
              "      background-color: #434B5C;\n",
              "      box-shadow: 0px 1px 3px 1px rgba(0, 0, 0, 0.15);\n",
              "      filter: drop-shadow(0px 1px 2px rgba(0, 0, 0, 0.3));\n",
              "      fill: #FFFFFF;\n",
              "    }\n",
              "  </style>\n",
              "\n",
              "      <script>\n",
              "        const buttonEl =\n",
              "          document.querySelector('#df-da204f48-f2a2-48ec-8716-42348ce876f9 button.colab-df-convert');\n",
              "        buttonEl.style.display =\n",
              "          google.colab.kernel.accessAllowed ? 'block' : 'none';\n",
              "\n",
              "        async function convertToInteractive(key) {\n",
              "          const element = document.querySelector('#df-da204f48-f2a2-48ec-8716-42348ce876f9');\n",
              "          const dataTable =\n",
              "            await google.colab.kernel.invokeFunction('convertToInteractive',\n",
              "                                                     [key], {});\n",
              "          if (!dataTable) return;\n",
              "\n",
              "          const docLinkHtml = 'Like what you see? Visit the ' +\n",
              "            '<a target=\"_blank\" href=https://colab.research.google.com/notebooks/data_table.ipynb>data table notebook</a>'\n",
              "            + ' to learn more about interactive tables.';\n",
              "          element.innerHTML = '';\n",
              "          dataTable['output_type'] = 'display_data';\n",
              "          await google.colab.output.renderOutput(dataTable, element);\n",
              "          const docLink = document.createElement('div');\n",
              "          docLink.innerHTML = docLinkHtml;\n",
              "          element.appendChild(docLink);\n",
              "        }\n",
              "      </script>\n",
              "    </div>\n",
              "  </div>\n",
              "  "
            ],
            "text/plain": [
              "             comments_disabled  ratings_disabled  ...  country  category_id\n",
              "video_id                                          ...                      \n",
              "Ro6eob0LrCY              False             False  ...       FR           24\n",
              "Yo84eqYwP98              False             False  ...       FR           24\n",
              "ceqntSXE-10              False             False  ...       FR           23\n",
              "WuTFI5qftCE              False             False  ...       FR           20\n",
              "ee6OFs8TdEg              False             False  ...       FR           17\n",
              "\n",
              "[5 rows x 13 columns]"
            ]
          },
          "metadata": {},
          "execution_count": 19
        }
      ]
    },
    {
      "cell_type": "code",
      "metadata": {
        "colab": {
          "base_uri": "https://localhost:8080/",
          "height": 297
        },
        "id": "TdJyuGxux3ez",
        "outputId": "9f0a6b72-e831-41b8-fbd7-988dd7c6140d"
      },
      "source": [
        "sns.histplot(key_combined_data['category_id'])"
      ],
      "execution_count": 20,
      "outputs": [
        {
          "output_type": "execute_result",
          "data": {
            "text/plain": [
              "<matplotlib.axes._subplots.AxesSubplot at 0x7fbc58582190>"
            ]
          },
          "metadata": {},
          "execution_count": 20
        },
        {
          "output_type": "display_data",
          "data": {
            "image/png": "[encoded data removed]",
            "text/plain": [
              "<Figure size 432x288 with 1 Axes>"
            ]
          },
          "metadata": {
            "needs_background": "light"
          }
        }
      ]
    },
    {
      "cell_type": "markdown",
      "metadata": {
        "id": "_HtmJiKYLlxx"
      },
      "source": [
        "#### Convert categorical features into numeric (one hot vectors).\n"
      ]
    },
    {
      "cell_type": "code",
      "metadata": {
        "id": "63tJVBE0Kkju",
        "colab": {
          "base_uri": "https://localhost:8080/",
          "height": 302
        },
        "outputId": "6233414e-ff30-4966-cc64-0eb556d6b844"
      },
      "source": [
        "\n",
        "weekday_dummies=pd.get_dummies(key_combined_data.publish_weekday.astype('category'), prefix='weekday')\n",
        "country_dummies=pd.get_dummies(key_combined_data.country.astype('category'),prefix='country')\n",
        "category_dummies= pd.get_dummies(key_combined_data.category_id.astype('category'),prefix='category')\n",
        "\n",
        "combined_data_dummies=pd.concat([key_combined_data, weekday_dummies,country_dummies,category_dummies], axis=1)\n",
        "combined_data_dummies=combined_data_dummies.drop(columns={'publish_weekday','country','category_id'})\n",
        "\n",
        "combined_data_dummies.head(5)"
      ],
      "execution_count": 21,
      "outputs": [
        {
          "output_type": "execute_result",
          "data": {
            "text/html": [
              "\n",
              "  <div id=\"df-934ac330-080c-473b-8438-34a5bc9fad63\">\n",
              "    <div class=\"colab-df-container\">\n",
              "      <div>\n",
              "<style scoped>\n",
              "    .dataframe tbody tr th:only-of-type {\n",
              "        vertical-align: middle;\n",
              "    }\n",
              "\n",
              "    .dataframe tbody tr th {\n",
              "        vertical-align: top;\n",
              "    }\n",
              "\n",
              "    .dataframe thead th {\n",
              "        text-align: right;\n",
              "    }\n",
              "</style>\n",
              "<table border=\"1\" class=\"dataframe\">\n",
              "  <thead>\n",
              "    <tr style=\"text-align: right;\">\n",
              "      <th></th>\n",
              "      <th>comments_disabled</th>\n",
              "      <th>ratings_disabled</th>\n",
              "      <th>video_error_or_removed</th>\n",
              "      <th>likes_log</th>\n",
              "      <th>views_log</th>\n",
              "      <th>dislikes_log</th>\n",
              "      <th>comment_log</th>\n",
              "      <th>num_tags</th>\n",
              "      <th>desc_len</th>\n",
              "      <th>len_title</th>\n",
              "      <th>weekday_1</th>\n",
              "      <th>weekday_2</th>\n",
              "      <th>weekday_3</th>\n",
              "      <th>weekday_4</th>\n",
              "      <th>weekday_5</th>\n",
              "      <th>weekday_6</th>\n",
              "      <th>weekday_7</th>\n",
              "      <th>country_CA</th>\n",
              "      <th>country_FR</th>\n",
              "      <th>country_IN</th>\n",
              "      <th>country_US</th>\n",
              "      <th>category_1</th>\n",
              "      <th>category_10</th>\n",
              "      <th>category_15</th>\n",
              "      <th>category_17</th>\n",
              "      <th>category_19</th>\n",
              "      <th>category_2</th>\n",
              "      <th>category_20</th>\n",
              "      <th>category_22</th>\n",
              "      <th>category_23</th>\n",
              "      <th>category_24</th>\n",
              "      <th>category_25</th>\n",
              "      <th>category_26</th>\n",
              "      <th>category_27</th>\n",
              "      <th>category_28</th>\n",
              "      <th>category_29</th>\n",
              "      <th>category_30</th>\n",
              "      <th>category_43</th>\n",
              "      <th>category_44</th>\n",
              "    </tr>\n",
              "    <tr>\n",
              "      <th>video_id</th>\n",
              "      <th></th>\n",
              "      <th></th>\n",
              "      <th></th>\n",
              "      <th></th>\n",
              "      <th></th>\n",
              "      <th></th>\n",
              "      <th></th>\n",
              "      <th></th>\n",
              "      <th></th>\n",
              "      <th></th>\n",
              "      <th></th>\n",
              "      <th></th>\n",
              "      <th></th>\n",
              "      <th></th>\n",
              "      <th></th>\n",
              "      <th></th>\n",
              "      <th></th>\n",
              "      <th></th>\n",
              "      <th></th>\n",
              "      <th></th>\n",
              "      <th></th>\n",
              "      <th></th>\n",
              "      <th></th>\n",
              "      <th></th>\n",
              "      <th></th>\n",
              "      <th></th>\n",
              "      <th></th>\n",
              "      <th></th>\n",
              "      <th></th>\n",
              "      <th></th>\n",
              "      <th></th>\n",
              "      <th></th>\n",
              "      <th></th>\n",
              "      <th></th>\n",
              "      <th></th>\n",
              "      <th></th>\n",
              "      <th></th>\n",
              "      <th></th>\n",
              "      <th></th>\n",
              "    </tr>\n",
              "  </thead>\n",
              "  <tbody>\n",
              "    <tr>\n",
              "      <th>Ro6eob0LrCY</th>\n",
              "      <td>False</td>\n",
              "      <td>False</td>\n",
              "      <td>False</td>\n",
              "      <td>10.284762</td>\n",
              "      <td>12.267652</td>\n",
              "      <td>7.011214</td>\n",
              "      <td>8.247482</td>\n",
              "      <td>6</td>\n",
              "      <td>1412</td>\n",
              "      <td>40</td>\n",
              "      <td>1</td>\n",
              "      <td>0</td>\n",
              "      <td>0</td>\n",
              "      <td>0</td>\n",
              "      <td>0</td>\n",
              "      <td>0</td>\n",
              "      <td>0</td>\n",
              "      <td>0</td>\n",
              "      <td>1</td>\n",
              "      <td>0</td>\n",
              "      <td>0</td>\n",
              "      <td>0</td>\n",
              "      <td>0</td>\n",
              "      <td>0</td>\n",
              "      <td>0</td>\n",
              "      <td>0</td>\n",
              "      <td>0</td>\n",
              "      <td>0</td>\n",
              "      <td>0</td>\n",
              "      <td>0</td>\n",
              "      <td>1</td>\n",
              "      <td>0</td>\n",
              "      <td>0</td>\n",
              "      <td>0</td>\n",
              "      <td>0</td>\n",
              "      <td>0</td>\n",
              "      <td>0</td>\n",
              "      <td>0</td>\n",
              "      <td>0</td>\n",
              "    </tr>\n",
              "    <tr>\n",
              "      <th>Yo84eqYwP98</th>\n",
              "      <td>False</td>\n",
              "      <td>False</td>\n",
              "      <td>False</td>\n",
              "      <td>9.550662</td>\n",
              "      <td>12.977851</td>\n",
              "      <td>6.357842</td>\n",
              "      <td>7.057898</td>\n",
              "      <td>1</td>\n",
              "      <td>1828</td>\n",
              "      <td>100</td>\n",
              "      <td>0</td>\n",
              "      <td>0</td>\n",
              "      <td>0</td>\n",
              "      <td>0</td>\n",
              "      <td>0</td>\n",
              "      <td>0</td>\n",
              "      <td>1</td>\n",
              "      <td>0</td>\n",
              "      <td>1</td>\n",
              "      <td>0</td>\n",
              "      <td>0</td>\n",
              "      <td>0</td>\n",
              "      <td>0</td>\n",
              "      <td>0</td>\n",
              "      <td>0</td>\n",
              "      <td>0</td>\n",
              "      <td>0</td>\n",
              "      <td>0</td>\n",
              "      <td>0</td>\n",
              "      <td>0</td>\n",
              "      <td>1</td>\n",
              "      <td>0</td>\n",
              "      <td>0</td>\n",
              "      <td>0</td>\n",
              "      <td>0</td>\n",
              "      <td>0</td>\n",
              "      <td>0</td>\n",
              "      <td>0</td>\n",
              "      <td>0</td>\n",
              "    </tr>\n",
              "    <tr>\n",
              "      <th>ceqntSXE-10</th>\n",
              "      <td>False</td>\n",
              "      <td>False</td>\n",
              "      <td>False</td>\n",
              "      <td>11.241169</td>\n",
              "      <td>13.086019</td>\n",
              "      <td>6.169611</td>\n",
              "      <td>9.167537</td>\n",
              "      <td>5</td>\n",
              "      <td>338</td>\n",
              "      <td>55</td>\n",
              "      <td>1</td>\n",
              "      <td>0</td>\n",
              "      <td>0</td>\n",
              "      <td>0</td>\n",
              "      <td>0</td>\n",
              "      <td>0</td>\n",
              "      <td>0</td>\n",
              "      <td>0</td>\n",
              "      <td>1</td>\n",
              "      <td>0</td>\n",
              "      <td>0</td>\n",
              "      <td>0</td>\n",
              "      <td>0</td>\n",
              "      <td>0</td>\n",
              "      <td>0</td>\n",
              "      <td>0</td>\n",
              "      <td>0</td>\n",
              "      <td>0</td>\n",
              "      <td>0</td>\n",
              "      <td>1</td>\n",
              "      <td>0</td>\n",
              "      <td>0</td>\n",
              "      <td>0</td>\n",
              "      <td>0</td>\n",
              "      <td>0</td>\n",
              "      <td>0</td>\n",
              "      <td>0</td>\n",
              "      <td>0</td>\n",
              "      <td>0</td>\n",
              "    </tr>\n",
              "    <tr>\n",
              "      <th>WuTFI5qftCE</th>\n",
              "      <td>False</td>\n",
              "      <td>False</td>\n",
              "      <td>False</td>\n",
              "      <td>11.350607</td>\n",
              "      <td>13.737790</td>\n",
              "      <td>6.311735</td>\n",
              "      <td>8.367300</td>\n",
              "      <td>8</td>\n",
              "      <td>170</td>\n",
              "      <td>31</td>\n",
              "      <td>0</td>\n",
              "      <td>0</td>\n",
              "      <td>0</td>\n",
              "      <td>0</td>\n",
              "      <td>0</td>\n",
              "      <td>0</td>\n",
              "      <td>1</td>\n",
              "      <td>0</td>\n",
              "      <td>1</td>\n",
              "      <td>0</td>\n",
              "      <td>0</td>\n",
              "      <td>0</td>\n",
              "      <td>0</td>\n",
              "      <td>0</td>\n",
              "      <td>0</td>\n",
              "      <td>0</td>\n",
              "      <td>0</td>\n",
              "      <td>1</td>\n",
              "      <td>0</td>\n",
              "      <td>0</td>\n",
              "      <td>0</td>\n",
              "      <td>0</td>\n",
              "      <td>0</td>\n",
              "      <td>0</td>\n",
              "      <td>0</td>\n",
              "      <td>0</td>\n",
              "      <td>0</td>\n",
              "      <td>0</td>\n",
              "      <td>0</td>\n",
              "    </tr>\n",
              "    <tr>\n",
              "      <th>ee6OFs8TdEg</th>\n",
              "      <td>False</td>\n",
              "      <td>False</td>\n",
              "      <td>False</td>\n",
              "      <td>8.998631</td>\n",
              "      <td>11.861439</td>\n",
              "      <td>4.290459</td>\n",
              "      <td>6.177944</td>\n",
              "      <td>24</td>\n",
              "      <td>1384</td>\n",
              "      <td>58</td>\n",
              "      <td>1</td>\n",
              "      <td>0</td>\n",
              "      <td>0</td>\n",
              "      <td>0</td>\n",
              "      <td>0</td>\n",
              "      <td>0</td>\n",
              "      <td>0</td>\n",
              "      <td>0</td>\n",
              "      <td>1</td>\n",
              "      <td>0</td>\n",
              "      <td>0</td>\n",
              "      <td>0</td>\n",
              "      <td>0</td>\n",
              "      <td>0</td>\n",
              "      <td>1</td>\n",
              "      <td>0</td>\n",
              "      <td>0</td>\n",
              "      <td>0</td>\n",
              "      <td>0</td>\n",
              "      <td>0</td>\n",
              "      <td>0</td>\n",
              "      <td>0</td>\n",
              "      <td>0</td>\n",
              "      <td>0</td>\n",
              "      <td>0</td>\n",
              "      <td>0</td>\n",
              "      <td>0</td>\n",
              "      <td>0</td>\n",
              "      <td>0</td>\n",
              "    </tr>\n",
              "  </tbody>\n",
              "</table>\n",
              "</div>\n",
              "      <button class=\"colab-df-convert\" onclick=\"convertToInteractive('df-934ac330-080c-473b-8438-34a5bc9fad63')\"\n",
              "              title=\"Convert this dataframe to an interactive table.\"\n",
              "              style=\"display:none;\">\n",
              "        \n",
              "  <svg xmlns=\"http://www.w3.org/2000/svg\" height=\"24px\"viewBox=\"0 0 24 24\"\n",
              "       width=\"24px\">\n",
              "    <path d=\"M0 0h24v24H0V0z\" fill=\"none\"/>\n",
              "    <path d=\"M18.56 5.44l.94 2.06.94-2.06 2.06-.94-2.06-.94-.94-2.06-.94 2.06-2.06.94zm-11 1L8.5 8.5l.94-2.06 2.06-.94-2.06-.94L8.5 2.5l-.94 2.06-2.06.94zm10 10l.94 2.06.94-2.06 2.06-.94-2.06-.94-.94-2.06-.94 2.06-2.06.94z\"/><path d=\"M17.41 7.96l-1.37-1.37c-.4-.4-.92-.59-1.43-.59-.52 0-1.04.2-1.43.59L10.3 9.45l-7.72 7.72c-.78.78-.78 2.05 0 2.83L4 21.41c.39.39.9.59 1.41.59.51 0 1.02-.2 1.41-.59l7.78-7.78 2.81-2.81c.8-.78.8-2.07 0-2.86zM5.41 20L4 18.59l7.72-7.72 1.47 1.35L5.41 20z\"/>\n",
              "  </svg>\n",
              "      </button>\n",
              "      \n",
              "  <style>\n",
              "    .colab-df-container {\n",
              "      display:flex;\n",
              "      flex-wrap:wrap;\n",
              "      gap: 12px;\n",
              "    }\n",
              "\n",
              "    .colab-df-convert {\n",
              "      background-color: #E8F0FE;\n",
              "      border: none;\n",
              "      border-radius: 50%;\n",
              "      cursor: pointer;\n",
              "      display: none;\n",
              "      fill: #1967D2;\n",
              "      height: 32px;\n",
              "      padding: 0 0 0 0;\n",
              "      width: 32px;\n",
              "    }\n",
              "\n",
              "    .colab-df-convert:hover {\n",
              "      background-color: #E2EBFA;\n",
              "      box-shadow: 0px 1px 2px rgba(60, 64, 67, 0.3), 0px 1px 3px 1px rgba(60, 64, 67, 0.15);\n",
              "      fill: #174EA6;\n",
              "    }\n",
              "\n",
              "    [theme=dark] .colab-df-convert {\n",
              "      background-color: #3B4455;\n",
              "      fill: #D2E3FC;\n",
              "    }\n",
              "\n",
              "    [theme=dark] .colab-df-convert:hover {\n",
              "      background-color: #434B5C;\n",
              "      box-shadow: 0px 1px 3px 1px rgba(0, 0, 0, 0.15);\n",
              "      filter: drop-shadow(0px 1px 2px rgba(0, 0, 0, 0.3));\n",
              "      fill: #FFFFFF;\n",
              "    }\n",
              "  </style>\n",
              "\n",
              "      <script>\n",
              "        const buttonEl =\n",
              "          document.querySelector('#df-934ac330-080c-473b-8438-34a5bc9fad63 button.colab-df-convert');\n",
              "        buttonEl.style.display =\n",
              "          google.colab.kernel.accessAllowed ? 'block' : 'none';\n",
              "\n",
              "        async function convertToInteractive(key) {\n",
              "          const element = document.querySelector('#df-934ac330-080c-473b-8438-34a5bc9fad63');\n",
              "          const dataTable =\n",
              "            await google.colab.kernel.invokeFunction('convertToInteractive',\n",
              "                                                     [key], {});\n",
              "          if (!dataTable) return;\n",
              "\n",
              "          const docLinkHtml = 'Like what you see? Visit the ' +\n",
              "            '<a target=\"_blank\" href=https://colab.research.google.com/notebooks/data_table.ipynb>data table notebook</a>'\n",
              "            + ' to learn more about interactive tables.';\n",
              "          element.innerHTML = '';\n",
              "          dataTable['output_type'] = 'display_data';\n",
              "          await google.colab.output.renderOutput(dataTable, element);\n",
              "          const docLink = document.createElement('div');\n",
              "          docLink.innerHTML = docLinkHtml;\n",
              "          element.appendChild(docLink);\n",
              "        }\n",
              "      </script>\n",
              "    </div>\n",
              "  </div>\n",
              "  "
            ],
            "text/plain": [
              "             comments_disabled  ratings_disabled  ...  category_43  category_44\n",
              "video_id                                          ...                          \n",
              "Ro6eob0LrCY              False             False  ...            0            0\n",
              "Yo84eqYwP98              False             False  ...            0            0\n",
              "ceqntSXE-10              False             False  ...            0            0\n",
              "WuTFI5qftCE              False             False  ...            0            0\n",
              "ee6OFs8TdEg              False             False  ...            0            0\n",
              "\n",
              "[5 rows x 39 columns]"
            ]
          },
          "metadata": {},
          "execution_count": 21
        }
      ]
    },
    {
      "cell_type": "markdown",
      "metadata": {
        "id": "kAsgbsEn6lzv"
      },
      "source": [
        "Write out the modified data as csv that we can reuse it "
      ]
    },
    {
      "cell_type": "code",
      "metadata": {
        "id": "-t8fKXq36k6P",
        "colab": {
          "base_uri": "https://localhost:8080/",
          "height": 519
        },
        "outputId": "15b5b542-99b5-4181-ae83-d7b12d4cfffc"
      },
      "source": [
        "combined_data_sec_2 = combined_data_dummies.copy()\n",
        "combined_data_sec_2.rename(columns = {'views_log':'label'}, inplace = True) \n",
        "combined_data_sec_2.to_csv('combined_data.csv')\n",
        "\n",
        "combined_data_sec_2"
      ],
      "execution_count": 22,
      "outputs": [
        {
          "output_type": "execute_result",
          "data": {
            "text/html": [
              "\n",
              "  <div id=\"df-aeb8c988-4897-4889-9021-7e11b237c9f9\">\n",
              "    <div class=\"colab-df-container\">\n",
              "      <div>\n",
              "<style scoped>\n",
              "    .dataframe tbody tr th:only-of-type {\n",
              "        vertical-align: middle;\n",
              "    }\n",
              "\n",
              "    .dataframe tbody tr th {\n",
              "        vertical-align: top;\n",
              "    }\n",
              "\n",
              "    .dataframe thead th {\n",
              "        text-align: right;\n",
              "    }\n",
              "</style>\n",
              "<table border=\"1\" class=\"dataframe\">\n",
              "  <thead>\n",
              "    <tr style=\"text-align: right;\">\n",
              "      <th></th>\n",
              "      <th>comments_disabled</th>\n",
              "      <th>ratings_disabled</th>\n",
              "      <th>video_error_or_removed</th>\n",
              "      <th>likes_log</th>\n",
              "      <th>label</th>\n",
              "      <th>dislikes_log</th>\n",
              "      <th>comment_log</th>\n",
              "      <th>num_tags</th>\n",
              "      <th>desc_len</th>\n",
              "      <th>len_title</th>\n",
              "      <th>weekday_1</th>\n",
              "      <th>weekday_2</th>\n",
              "      <th>weekday_3</th>\n",
              "      <th>weekday_4</th>\n",
              "      <th>weekday_5</th>\n",
              "      <th>weekday_6</th>\n",
              "      <th>weekday_7</th>\n",
              "      <th>country_CA</th>\n",
              "      <th>country_FR</th>\n",
              "      <th>country_IN</th>\n",
              "      <th>country_US</th>\n",
              "      <th>category_1</th>\n",
              "      <th>category_10</th>\n",
              "      <th>category_15</th>\n",
              "      <th>category_17</th>\n",
              "      <th>category_19</th>\n",
              "      <th>category_2</th>\n",
              "      <th>category_20</th>\n",
              "      <th>category_22</th>\n",
              "      <th>category_23</th>\n",
              "      <th>category_24</th>\n",
              "      <th>category_25</th>\n",
              "      <th>category_26</th>\n",
              "      <th>category_27</th>\n",
              "      <th>category_28</th>\n",
              "      <th>category_29</th>\n",
              "      <th>category_30</th>\n",
              "      <th>category_43</th>\n",
              "      <th>category_44</th>\n",
              "    </tr>\n",
              "    <tr>\n",
              "      <th>video_id</th>\n",
              "      <th></th>\n",
              "      <th></th>\n",
              "      <th></th>\n",
              "      <th></th>\n",
              "      <th></th>\n",
              "      <th></th>\n",
              "      <th></th>\n",
              "      <th></th>\n",
              "      <th></th>\n",
              "      <th></th>\n",
              "      <th></th>\n",
              "      <th></th>\n",
              "      <th></th>\n",
              "      <th></th>\n",
              "      <th></th>\n",
              "      <th></th>\n",
              "      <th></th>\n",
              "      <th></th>\n",
              "      <th></th>\n",
              "      <th></th>\n",
              "      <th></th>\n",
              "      <th></th>\n",
              "      <th></th>\n",
              "      <th></th>\n",
              "      <th></th>\n",
              "      <th></th>\n",
              "      <th></th>\n",
              "      <th></th>\n",
              "      <th></th>\n",
              "      <th></th>\n",
              "      <th></th>\n",
              "      <th></th>\n",
              "      <th></th>\n",
              "      <th></th>\n",
              "      <th></th>\n",
              "      <th></th>\n",
              "      <th></th>\n",
              "      <th></th>\n",
              "      <th></th>\n",
              "    </tr>\n",
              "  </thead>\n",
              "  <tbody>\n",
              "    <tr>\n",
              "      <th>Ro6eob0LrCY</th>\n",
              "      <td>False</td>\n",
              "      <td>False</td>\n",
              "      <td>False</td>\n",
              "      <td>10.284762</td>\n",
              "      <td>12.267652</td>\n",
              "      <td>7.011214</td>\n",
              "      <td>8.247482</td>\n",
              "      <td>6</td>\n",
              "      <td>1412</td>\n",
              "      <td>40</td>\n",
              "      <td>1</td>\n",
              "      <td>0</td>\n",
              "      <td>0</td>\n",
              "      <td>0</td>\n",
              "      <td>0</td>\n",
              "      <td>0</td>\n",
              "      <td>0</td>\n",
              "      <td>0</td>\n",
              "      <td>1</td>\n",
              "      <td>0</td>\n",
              "      <td>0</td>\n",
              "      <td>0</td>\n",
              "      <td>0</td>\n",
              "      <td>0</td>\n",
              "      <td>0</td>\n",
              "      <td>0</td>\n",
              "      <td>0</td>\n",
              "      <td>0</td>\n",
              "      <td>0</td>\n",
              "      <td>0</td>\n",
              "      <td>1</td>\n",
              "      <td>0</td>\n",
              "      <td>0</td>\n",
              "      <td>0</td>\n",
              "      <td>0</td>\n",
              "      <td>0</td>\n",
              "      <td>0</td>\n",
              "      <td>0</td>\n",
              "      <td>0</td>\n",
              "    </tr>\n",
              "    <tr>\n",
              "      <th>Yo84eqYwP98</th>\n",
              "      <td>False</td>\n",
              "      <td>False</td>\n",
              "      <td>False</td>\n",
              "      <td>9.550662</td>\n",
              "      <td>12.977851</td>\n",
              "      <td>6.357842</td>\n",
              "      <td>7.057898</td>\n",
              "      <td>1</td>\n",
              "      <td>1828</td>\n",
              "      <td>100</td>\n",
              "      <td>0</td>\n",
              "      <td>0</td>\n",
              "      <td>0</td>\n",
              "      <td>0</td>\n",
              "      <td>0</td>\n",
              "      <td>0</td>\n",
              "      <td>1</td>\n",
              "      <td>0</td>\n",
              "      <td>1</td>\n",
              "      <td>0</td>\n",
              "      <td>0</td>\n",
              "      <td>0</td>\n",
              "      <td>0</td>\n",
              "      <td>0</td>\n",
              "      <td>0</td>\n",
              "      <td>0</td>\n",
              "      <td>0</td>\n",
              "      <td>0</td>\n",
              "      <td>0</td>\n",
              "      <td>0</td>\n",
              "      <td>1</td>\n",
              "      <td>0</td>\n",
              "      <td>0</td>\n",
              "      <td>0</td>\n",
              "      <td>0</td>\n",
              "      <td>0</td>\n",
              "      <td>0</td>\n",
              "      <td>0</td>\n",
              "      <td>0</td>\n",
              "    </tr>\n",
              "    <tr>\n",
              "      <th>ceqntSXE-10</th>\n",
              "      <td>False</td>\n",
              "      <td>False</td>\n",
              "      <td>False</td>\n",
              "      <td>11.241169</td>\n",
              "      <td>13.086019</td>\n",
              "      <td>6.169611</td>\n",
              "      <td>9.167537</td>\n",
              "      <td>5</td>\n",
              "      <td>338</td>\n",
              "      <td>55</td>\n",
              "      <td>1</td>\n",
              "      <td>0</td>\n",
              "      <td>0</td>\n",
              "      <td>0</td>\n",
              "      <td>0</td>\n",
              "      <td>0</td>\n",
              "      <td>0</td>\n",
              "      <td>0</td>\n",
              "      <td>1</td>\n",
              "      <td>0</td>\n",
              "      <td>0</td>\n",
              "      <td>0</td>\n",
              "      <td>0</td>\n",
              "      <td>0</td>\n",
              "      <td>0</td>\n",
              "      <td>0</td>\n",
              "      <td>0</td>\n",
              "      <td>0</td>\n",
              "      <td>0</td>\n",
              "      <td>1</td>\n",
              "      <td>0</td>\n",
              "      <td>0</td>\n",
              "      <td>0</td>\n",
              "      <td>0</td>\n",
              "      <td>0</td>\n",
              "      <td>0</td>\n",
              "      <td>0</td>\n",
              "      <td>0</td>\n",
              "      <td>0</td>\n",
              "    </tr>\n",
              "    <tr>\n",
              "      <th>WuTFI5qftCE</th>\n",
              "      <td>False</td>\n",
              "      <td>False</td>\n",
              "      <td>False</td>\n",
              "      <td>11.350607</td>\n",
              "      <td>13.737790</td>\n",
              "      <td>6.311735</td>\n",
              "      <td>8.367300</td>\n",
              "      <td>8</td>\n",
              "      <td>170</td>\n",
              "      <td>31</td>\n",
              "      <td>0</td>\n",
              "      <td>0</td>\n",
              "      <td>0</td>\n",
              "      <td>0</td>\n",
              "      <td>0</td>\n",
              "      <td>0</td>\n",
              "      <td>1</td>\n",
              "      <td>0</td>\n",
              "      <td>1</td>\n",
              "      <td>0</td>\n",
              "      <td>0</td>\n",
              "      <td>0</td>\n",
              "      <td>0</td>\n",
              "      <td>0</td>\n",
              "      <td>0</td>\n",
              "      <td>0</td>\n",
              "      <td>0</td>\n",
              "      <td>1</td>\n",
              "      <td>0</td>\n",
              "      <td>0</td>\n",
              "      <td>0</td>\n",
              "      <td>0</td>\n",
              "      <td>0</td>\n",
              "      <td>0</td>\n",
              "      <td>0</td>\n",
              "      <td>0</td>\n",
              "      <td>0</td>\n",
              "      <td>0</td>\n",
              "      <td>0</td>\n",
              "    </tr>\n",
              "    <tr>\n",
              "      <th>ee6OFs8TdEg</th>\n",
              "      <td>False</td>\n",
              "      <td>False</td>\n",
              "      <td>False</td>\n",
              "      <td>8.998631</td>\n",
              "      <td>11.861439</td>\n",
              "      <td>4.290459</td>\n",
              "      <td>6.177944</td>\n",
              "      <td>24</td>\n",
              "      <td>1384</td>\n",
              "      <td>58</td>\n",
              "      <td>1</td>\n",
              "      <td>0</td>\n",
              "      <td>0</td>\n",
              "      <td>0</td>\n",
              "      <td>0</td>\n",
              "      <td>0</td>\n",
              "      <td>0</td>\n",
              "      <td>0</td>\n",
              "      <td>1</td>\n",
              "      <td>0</td>\n",
              "      <td>0</td>\n",
              "      <td>0</td>\n",
              "      <td>0</td>\n",
              "      <td>0</td>\n",
              "      <td>1</td>\n",
              "      <td>0</td>\n",
              "      <td>0</td>\n",
              "      <td>0</td>\n",
              "      <td>0</td>\n",
              "      <td>0</td>\n",
              "      <td>0</td>\n",
              "      <td>0</td>\n",
              "      <td>0</td>\n",
              "      <td>0</td>\n",
              "      <td>0</td>\n",
              "      <td>0</td>\n",
              "      <td>0</td>\n",
              "      <td>0</td>\n",
              "      <td>0</td>\n",
              "    </tr>\n",
              "    <tr>\n",
              "      <th>...</th>\n",
              "      <td>...</td>\n",
              "      <td>...</td>\n",
              "      <td>...</td>\n",
              "      <td>...</td>\n",
              "      <td>...</td>\n",
              "      <td>...</td>\n",
              "      <td>...</td>\n",
              "      <td>...</td>\n",
              "      <td>...</td>\n",
              "      <td>...</td>\n",
              "      <td>...</td>\n",
              "      <td>...</td>\n",
              "      <td>...</td>\n",
              "      <td>...</td>\n",
              "      <td>...</td>\n",
              "      <td>...</td>\n",
              "      <td>...</td>\n",
              "      <td>...</td>\n",
              "      <td>...</td>\n",
              "      <td>...</td>\n",
              "      <td>...</td>\n",
              "      <td>...</td>\n",
              "      <td>...</td>\n",
              "      <td>...</td>\n",
              "      <td>...</td>\n",
              "      <td>...</td>\n",
              "      <td>...</td>\n",
              "      <td>...</td>\n",
              "      <td>...</td>\n",
              "      <td>...</td>\n",
              "      <td>...</td>\n",
              "      <td>...</td>\n",
              "      <td>...</td>\n",
              "      <td>...</td>\n",
              "      <td>...</td>\n",
              "      <td>...</td>\n",
              "      <td>...</td>\n",
              "      <td>...</td>\n",
              "      <td>...</td>\n",
              "    </tr>\n",
              "    <tr>\n",
              "      <th>1PhPYr_9zRY</th>\n",
              "      <td>False</td>\n",
              "      <td>False</td>\n",
              "      <td>False</td>\n",
              "      <td>13.378383</td>\n",
              "      <td>15.926830</td>\n",
              "      <td>8.307213</td>\n",
              "      <td>11.044696</td>\n",
              "      <td>27</td>\n",
              "      <td>926</td>\n",
              "      <td>52</td>\n",
              "      <td>0</td>\n",
              "      <td>0</td>\n",
              "      <td>0</td>\n",
              "      <td>0</td>\n",
              "      <td>1</td>\n",
              "      <td>0</td>\n",
              "      <td>0</td>\n",
              "      <td>0</td>\n",
              "      <td>0</td>\n",
              "      <td>0</td>\n",
              "      <td>1</td>\n",
              "      <td>0</td>\n",
              "      <td>0</td>\n",
              "      <td>0</td>\n",
              "      <td>0</td>\n",
              "      <td>0</td>\n",
              "      <td>0</td>\n",
              "      <td>0</td>\n",
              "      <td>1</td>\n",
              "      <td>0</td>\n",
              "      <td>0</td>\n",
              "      <td>0</td>\n",
              "      <td>0</td>\n",
              "      <td>0</td>\n",
              "      <td>0</td>\n",
              "      <td>0</td>\n",
              "      <td>0</td>\n",
              "      <td>0</td>\n",
              "      <td>0</td>\n",
              "    </tr>\n",
              "    <tr>\n",
              "      <th>BZt0qjTWNhw</th>\n",
              "      <td>False</td>\n",
              "      <td>False</td>\n",
              "      <td>False</td>\n",
              "      <td>10.549569</td>\n",
              "      <td>14.337638</td>\n",
              "      <td>7.234177</td>\n",
              "      <td>7.885329</td>\n",
              "      <td>14</td>\n",
              "      <td>46</td>\n",
              "      <td>28</td>\n",
              "      <td>0</td>\n",
              "      <td>0</td>\n",
              "      <td>0</td>\n",
              "      <td>0</td>\n",
              "      <td>1</td>\n",
              "      <td>0</td>\n",
              "      <td>0</td>\n",
              "      <td>0</td>\n",
              "      <td>0</td>\n",
              "      <td>0</td>\n",
              "      <td>1</td>\n",
              "      <td>0</td>\n",
              "      <td>0</td>\n",
              "      <td>1</td>\n",
              "      <td>0</td>\n",
              "      <td>0</td>\n",
              "      <td>0</td>\n",
              "      <td>0</td>\n",
              "      <td>0</td>\n",
              "      <td>0</td>\n",
              "      <td>0</td>\n",
              "      <td>0</td>\n",
              "      <td>0</td>\n",
              "      <td>0</td>\n",
              "      <td>0</td>\n",
              "      <td>0</td>\n",
              "      <td>0</td>\n",
              "      <td>0</td>\n",
              "      <td>0</td>\n",
              "    </tr>\n",
              "    <tr>\n",
              "      <th>D6Oy4LfoqsU</th>\n",
              "      <td>False</td>\n",
              "      <td>False</td>\n",
              "      <td>False</td>\n",
              "      <td>10.780393</td>\n",
              "      <td>13.879848</td>\n",
              "      <td>6.940222</td>\n",
              "      <td>8.292298</td>\n",
              "      <td>24</td>\n",
              "      <td>775</td>\n",
              "      <td>84</td>\n",
              "      <td>0</td>\n",
              "      <td>0</td>\n",
              "      <td>0</td>\n",
              "      <td>0</td>\n",
              "      <td>1</td>\n",
              "      <td>0</td>\n",
              "      <td>0</td>\n",
              "      <td>0</td>\n",
              "      <td>0</td>\n",
              "      <td>0</td>\n",
              "      <td>1</td>\n",
              "      <td>0</td>\n",
              "      <td>0</td>\n",
              "      <td>0</td>\n",
              "      <td>0</td>\n",
              "      <td>0</td>\n",
              "      <td>0</td>\n",
              "      <td>0</td>\n",
              "      <td>0</td>\n",
              "      <td>0</td>\n",
              "      <td>1</td>\n",
              "      <td>0</td>\n",
              "      <td>0</td>\n",
              "      <td>0</td>\n",
              "      <td>0</td>\n",
              "      <td>0</td>\n",
              "      <td>0</td>\n",
              "      <td>0</td>\n",
              "      <td>0</td>\n",
              "    </tr>\n",
              "    <tr>\n",
              "      <th>oV0zkMe1K8s</th>\n",
              "      <td>False</td>\n",
              "      <td>False</td>\n",
              "      <td>False</td>\n",
              "      <td>12.170228</td>\n",
              "      <td>15.549078</td>\n",
              "      <td>7.954021</td>\n",
              "      <td>9.479527</td>\n",
              "      <td>22</td>\n",
              "      <td>3268</td>\n",
              "      <td>35</td>\n",
              "      <td>0</td>\n",
              "      <td>0</td>\n",
              "      <td>0</td>\n",
              "      <td>1</td>\n",
              "      <td>0</td>\n",
              "      <td>0</td>\n",
              "      <td>0</td>\n",
              "      <td>0</td>\n",
              "      <td>0</td>\n",
              "      <td>0</td>\n",
              "      <td>1</td>\n",
              "      <td>1</td>\n",
              "      <td>0</td>\n",
              "      <td>0</td>\n",
              "      <td>0</td>\n",
              "      <td>0</td>\n",
              "      <td>0</td>\n",
              "      <td>0</td>\n",
              "      <td>0</td>\n",
              "      <td>0</td>\n",
              "      <td>0</td>\n",
              "      <td>0</td>\n",
              "      <td>0</td>\n",
              "      <td>0</td>\n",
              "      <td>0</td>\n",
              "      <td>0</td>\n",
              "      <td>0</td>\n",
              "      <td>0</td>\n",
              "      <td>0</td>\n",
              "    </tr>\n",
              "    <tr>\n",
              "      <th>ooyjaVdt-jA</th>\n",
              "      <td>False</td>\n",
              "      <td>False</td>\n",
              "      <td>False</td>\n",
              "      <td>12.785715</td>\n",
              "      <td>16.148248</td>\n",
              "      <td>12.268939</td>\n",
              "      <td>11.883081</td>\n",
              "      <td>4</td>\n",
              "      <td>709</td>\n",
              "      <td>64</td>\n",
              "      <td>0</td>\n",
              "      <td>0</td>\n",
              "      <td>0</td>\n",
              "      <td>1</td>\n",
              "      <td>0</td>\n",
              "      <td>0</td>\n",
              "      <td>0</td>\n",
              "      <td>0</td>\n",
              "      <td>0</td>\n",
              "      <td>0</td>\n",
              "      <td>1</td>\n",
              "      <td>0</td>\n",
              "      <td>0</td>\n",
              "      <td>0</td>\n",
              "      <td>0</td>\n",
              "      <td>0</td>\n",
              "      <td>0</td>\n",
              "      <td>1</td>\n",
              "      <td>0</td>\n",
              "      <td>0</td>\n",
              "      <td>0</td>\n",
              "      <td>0</td>\n",
              "      <td>0</td>\n",
              "      <td>0</td>\n",
              "      <td>0</td>\n",
              "      <td>0</td>\n",
              "      <td>0</td>\n",
              "      <td>0</td>\n",
              "      <td>0</td>\n",
              "    </tr>\n",
              "  </tbody>\n",
              "</table>\n",
              "<p>154567 rows × 39 columns</p>\n",
              "</div>\n",
              "      <button class=\"colab-df-convert\" onclick=\"convertToInteractive('df-aeb8c988-4897-4889-9021-7e11b237c9f9')\"\n",
              "              title=\"Convert this dataframe to an interactive table.\"\n",
              "              style=\"display:none;\">\n",
              "        \n",
              "  <svg xmlns=\"http://www.w3.org/2000/svg\" height=\"24px\"viewBox=\"0 0 24 24\"\n",
              "       width=\"24px\">\n",
              "    <path d=\"M0 0h24v24H0V0z\" fill=\"none\"/>\n",
              "    <path d=\"M18.56 5.44l.94 2.06.94-2.06 2.06-.94-2.06-.94-.94-2.06-.94 2.06-2.06.94zm-11 1L8.5 8.5l.94-2.06 2.06-.94-2.06-.94L8.5 2.5l-.94 2.06-2.06.94zm10 10l.94 2.06.94-2.06 2.06-.94-2.06-.94-.94-2.06-.94 2.06-2.06.94z\"/><path d=\"M17.41 7.96l-1.37-1.37c-.4-.4-.92-.59-1.43-.59-.52 0-1.04.2-1.43.59L10.3 9.45l-7.72 7.72c-.78.78-.78 2.05 0 2.83L4 21.41c.39.39.9.59 1.41.59.51 0 1.02-.2 1.41-.59l7.78-7.78 2.81-2.81c.8-.78.8-2.07 0-2.86zM5.41 20L4 18.59l7.72-7.72 1.47 1.35L5.41 20z\"/>\n",
              "  </svg>\n",
              "      </button>\n",
              "      \n",
              "  <style>\n",
              "    .colab-df-container {\n",
              "      display:flex;\n",
              "      flex-wrap:wrap;\n",
              "      gap: 12px;\n",
              "    }\n",
              "\n",
              "    .colab-df-convert {\n",
              "      background-color: #E8F0FE;\n",
              "      border: none;\n",
              "      border-radius: 50%;\n",
              "      cursor: pointer;\n",
              "      display: none;\n",
              "      fill: #1967D2;\n",
              "      height: 32px;\n",
              "      padding: 0 0 0 0;\n",
              "      width: 32px;\n",
              "    }\n",
              "\n",
              "    .colab-df-convert:hover {\n",
              "      background-color: #E2EBFA;\n",
              "      box-shadow: 0px 1px 2px rgba(60, 64, 67, 0.3), 0px 1px 3px 1px rgba(60, 64, 67, 0.15);\n",
              "      fill: #174EA6;\n",
              "    }\n",
              "\n",
              "    [theme=dark] .colab-df-convert {\n",
              "      background-color: #3B4455;\n",
              "      fill: #D2E3FC;\n",
              "    }\n",
              "\n",
              "    [theme=dark] .colab-df-convert:hover {\n",
              "      background-color: #434B5C;\n",
              "      box-shadow: 0px 1px 3px 1px rgba(0, 0, 0, 0.15);\n",
              "      filter: drop-shadow(0px 1px 2px rgba(0, 0, 0, 0.3));\n",
              "      fill: #FFFFFF;\n",
              "    }\n",
              "  </style>\n",
              "\n",
              "      <script>\n",
              "        const buttonEl =\n",
              "          document.querySelector('#df-aeb8c988-4897-4889-9021-7e11b237c9f9 button.colab-df-convert');\n",
              "        buttonEl.style.display =\n",
              "          google.colab.kernel.accessAllowed ? 'block' : 'none';\n",
              "\n",
              "        async function convertToInteractive(key) {\n",
              "          const element = document.querySelector('#df-aeb8c988-4897-4889-9021-7e11b237c9f9');\n",
              "          const dataTable =\n",
              "            await google.colab.kernel.invokeFunction('convertToInteractive',\n",
              "                                                     [key], {});\n",
              "          if (!dataTable) return;\n",
              "\n",
              "          const docLinkHtml = 'Like what you see? Visit the ' +\n",
              "            '<a target=\"_blank\" href=https://colab.research.google.com/notebooks/data_table.ipynb>data table notebook</a>'\n",
              "            + ' to learn more about interactive tables.';\n",
              "          element.innerHTML = '';\n",
              "          dataTable['output_type'] = 'display_data';\n",
              "          await google.colab.output.renderOutput(dataTable, element);\n",
              "          const docLink = document.createElement('div');\n",
              "          docLink.innerHTML = docLinkHtml;\n",
              "          element.appendChild(docLink);\n",
              "        }\n",
              "      </script>\n",
              "    </div>\n",
              "  </div>\n",
              "  "
            ],
            "text/plain": [
              "             comments_disabled  ratings_disabled  ...  category_43  category_44\n",
              "video_id                                          ...                          \n",
              "Ro6eob0LrCY              False             False  ...            0            0\n",
              "Yo84eqYwP98              False             False  ...            0            0\n",
              "ceqntSXE-10              False             False  ...            0            0\n",
              "WuTFI5qftCE              False             False  ...            0            0\n",
              "ee6OFs8TdEg              False             False  ...            0            0\n",
              "...                        ...               ...  ...          ...          ...\n",
              "1PhPYr_9zRY              False             False  ...            0            0\n",
              "BZt0qjTWNhw              False             False  ...            0            0\n",
              "D6Oy4LfoqsU              False             False  ...            0            0\n",
              "oV0zkMe1K8s              False             False  ...            0            0\n",
              "ooyjaVdt-jA              False             False  ...            0            0\n",
              "\n",
              "[154567 rows x 39 columns]"
            ]
          },
          "metadata": {},
          "execution_count": 22
        }
      ]
    },
    {
      "cell_type": "markdown",
      "source": [
        "### Random Sampling / Split X,y"
      ],
      "metadata": {
        "id": "IFuz-l_oQBWg"
      }
    },
    {
      "cell_type": "markdown",
      "metadata": {
        "id": "FIcXjRtDMlFt"
      },
      "source": [
        "\n",
        "Split the data into features(anything but views_log) and label and the label (views_log)"
      ]
    },
    {
      "cell_type": "code",
      "metadata": {
        "colab": {
          "base_uri": "https://localhost:8080/"
        },
        "id": "3nSwRvMSSFa3",
        "outputId": "98fbc700-62d6-46ed-d143-d9359edf9572"
      },
      "source": [
        "\n",
        "label = combined_data_sec_2['label']\n",
        "features = combined_data_sec_2.drop(['label','desc_len','len_title','comments_disabled','ratings_disabled'],axis=1)\n",
        "\n",
        "features.shape"
      ],
      "execution_count": 53,
      "outputs": [
        {
          "output_type": "execute_result",
          "data": {
            "text/plain": [
              "(154567, 34)"
            ]
          },
          "metadata": {},
          "execution_count": 53
        }
      ]
    },
    {
      "cell_type": "code",
      "source": [
        "sample_data = combined_data_sec_2.sample(10000)\n",
        "sample_label = sample_data['label']\n",
        "sample_features = sample_data.drop(['label','desc_len','len_title','comments_disabled','ratings_disabled'],axis=1)\n",
        "sample_features.shape"
      ],
      "metadata": {
        "colab": {
          "base_uri": "https://localhost:8080/"
        },
        "id": "nCZd3LdnQHyT",
        "outputId": "89a57f68-d360-47ec-91f1-8270ea1bef59"
      },
      "execution_count": 52,
      "outputs": [
        {
          "output_type": "execute_result",
          "data": {
            "text/plain": [
              "(10000, 34)"
            ]
          },
          "metadata": {},
          "execution_count": 52
        }
      ]
    },
    {
      "cell_type": "markdown",
      "metadata": {
        "id": "a9rwVcftQJwu"
      },
      "source": [
        "## Machine Learning using sklearn \n",
        "\n",
        "Scikit-learn (known as sklearn) features various classification, regression and clustering algorithms including support vector machines, random forests, gradient boosting, k-means and DBSCAN, and is designed to interoperate with the Python numerical and scientific libraries NumPy and SciPy.\n",
        "\n",
        "Reference [here](https://scikit-learn.org/stable/modules/classes.html)\n",
        "\n",
        "Train some machine learning models using sklearn to predict views (view_log) "
      ]
    },
    {
      "cell_type": "markdown",
      "metadata": {
        "id": "5955JflOaxtP"
      },
      "source": [
        "### Split data into train and test \n",
        "\n",
        "\n"
      ]
    },
    {
      "cell_type": "code",
      "metadata": {
        "id": "1b5bKkQkR9lT"
      },
      "source": [
        "from sklearn.model_selection import train_test_split\n",
        "# y= label\n",
        "# x= features\n",
        "\n",
        "x_train, x_test, y_train, y_test = train_test_split(features,label, test_size =0.20)\n",
        "\n",
        "#random sample\n",
        "sx_train, sx_test, sy_train, sy_test = train_test_split(sample_features,sample_label, test_size =0.20)\n",
        "\n"
      ],
      "execution_count": 54,
      "outputs": []
    },
    {
      "cell_type": "markdown",
      "metadata": {
        "id": "dbfiYK_8RGKI"
      },
      "source": [
        "### Train Machine Learning Models."
      ]
    },
    {
      "cell_type": "markdown",
      "metadata": {
        "id": "7EPYfVVMRMDd"
      },
      "source": [
        "#### Linear Regression \n",
        "\n",
        "with baseline dataset\n"
      ]
    },
    {
      "cell_type": "code",
      "metadata": {
        "colab": {
          "base_uri": "https://localhost:8080/"
        },
        "id": "A6wS3Rc_TZGT",
        "outputId": "7648d179-8609-48f4-872a-b6165de1295e"
      },
      "source": [
        "from sklearn.linear_model import LinearRegression\n",
        "from sklearn.metrics import mean_squared_error, r2_score\n",
        "\n",
        "def LR (x_train, y_train, x_test, y_test):\n",
        "    regr_base = LinearRegression()\n",
        "    regr_base.fit(x_train, y_train)\n",
        "    y_pred = regr_base.predict(x_test)\n",
        "\n",
        "    regr_bass_mse_test = mean_squared_error(y_pred,y_test)\n",
        "    regr_base_r2 =r2_score(y_pred,y_test)\n",
        "\n",
        "    print(f'LR_MES:{regr_base_mse_test}, LR_r2 socre : {regr_base_r2}' )\n",
        "    return regr_base\n",
        "\n",
        "LR(x_train, y_train, x_test, y_test)\n",
        "LR(sx_train, sy_train, sx_test, sy_test)"
      ],
      "execution_count": 60,
      "outputs": [
        {
          "output_type": "stream",
          "name": "stdout",
          "text": [
            "LR_MES:0.652214240584962, LR_r2 socre : 0.752866531763413\n",
            "LR_MES:0.652214240584962, LR_r2 socre : 0.7476739455000418\n"
          ]
        }
      ]
    },
    {
      "cell_type": "markdown",
      "source": [
        "Accuracies of Linear Regression on Sampling Data vs. Fullset are similar"
      ],
      "metadata": {
        "id": "u0gXY7f7Tk6D"
      }
    },
    {
      "cell_type": "markdown",
      "metadata": {
        "id": "jpu9aiyYbAUS"
      },
      "source": [
        "#### Dimensionality reduction with PCA \n",
        "\n"
      ]
    },
    {
      "cell_type": "markdown",
      "metadata": {
        "id": "aTqcy4x-TXv9"
      },
      "source": [
        " Fitting PCA and explained_variance_ratiio\n"
      ]
    },
    {
      "cell_type": "code",
      "metadata": {
        "colab": {
          "base_uri": "https://localhost:8080/",
          "height": 282
        },
        "id": "NjpuExM0Vx8s",
        "outputId": "562cc5c1-3f93-4959-b0c5-ac72f2cef7d5"
      },
      "source": [
        "import numpy as np\n",
        "from sklearn.decomposition import PCA\n",
        "from sklearn.preprocessing import  StandardScaler\n",
        "\n",
        "x1_train = StandardScaler().fit_transform(x_train)\n",
        "pca=PCA()\n",
        "pca.fit_transform(x1_train) \n",
        "\n",
        "plt.plot(pca.explained_variance_ratio_.cumsum())\n",
        "\n",
        "\n",
        "for i,  x in enumerate(pca.explained_variance_ratio_.cumsum()):\n",
        "  if x >0.95:\n",
        "    print (f'Number of component cover over 95% is {i}')\n",
        "    break"
      ],
      "execution_count": 61,
      "outputs": [
        {
          "output_type": "stream",
          "name": "stdout",
          "text": [
            "Number of component cover over 95% is 27\n"
          ]
        },
        {
          "output_type": "display_data",
          "data": {
            "image/png": "[encoded data removed]",
            "text/plain": [
              "<Figure size 432x288 with 1 Axes>"
            ]
          },
          "metadata": {
            "needs_background": "light"
          }
        }
      ]
    },
    {
      "cell_type": "markdown",
      "metadata": {
        "id": "4sw_JKLLbMcc"
      },
      "source": [
        "### Random Forest.\n",
        "\n"
      ]
    },
    {
      "cell_type": "markdown",
      "metadata": {
        "id": "UwTfPha2TUub"
      },
      "source": [
        "##### Step 1: Hyperparameter tuning. \n",
        "\n",
        "tune the max_depth hyperparameter using grid search. We have already tested the number of estimators hyperparameter for you. Note this section may take a while to run depending on how large your grid is. \n",
        "\n"
      ]
    },
    {
      "cell_type": "code",
      "metadata": {
        "id": "W08Wd5JKZWyz",
        "colab": {
          "base_uri": "https://localhost:8080/"
        },
        "outputId": "7198de50-765f-4f32-c456-39b118514e94"
      },
      "source": [
        "from sklearn.ensemble import RandomForestRegressor\n",
        "from sklearn.model_selection import GridSearchCV\n",
        "from sklearn.metrics import mean_squared_error\n",
        "import numpy as np\n",
        "\n",
        "depth = [4,8,16]\n",
        "criterion = [\"gini\", 'entropy'] #default=”gini”\n",
        "max_features =[\"sqrt\", \"log2\"]  #  default=”auto”\n",
        "\n",
        "# tune parameter using gredsearchCV\n",
        "\n",
        "params = {'max_depth': depth,\n",
        "          'max_features': max_features}\n",
        "\n",
        "rf_base = RandomForestRegressor(random_state=42)\n",
        "grid_search_rf_dt = GridSearchCV(rf_base, params, cv = 5)\n",
        "\n",
        "%time\n",
        "grid_search_rf_dt.fit(sx_train, sy_train)\n"
      ],
      "execution_count": 78,
      "outputs": [
        {
          "output_type": "stream",
          "name": "stdout",
          "text": [
            "CPU times: user 5 µs, sys: 0 ns, total: 5 µs\n",
            "Wall time: 8.11 µs\n"
          ]
        },
        {
          "output_type": "execute_result",
          "data": {
            "text/plain": [
              "GridSearchCV(cv=5, estimator=RandomForestRegressor(random_state=42),\n",
              "             param_grid={'max_depth': [4, 8, 16],\n",
              "                         'max_features': ['sqrt', 'log2']})"
            ]
          },
          "metadata": {},
          "execution_count": 78
        }
      ]
    },
    {
      "cell_type": "code",
      "source": [
        "grid_search_rf_dt.best_params_"
      ],
      "metadata": {
        "colab": {
          "base_uri": "https://localhost:8080/"
        },
        "id": "_4WMCrZ9Utsg",
        "outputId": "068f1d49-1f30-405b-fdf6-f64e13087ade"
      },
      "execution_count": 107,
      "outputs": [
        {
          "output_type": "execute_result",
          "data": {
            "text/plain": [
              "{'max_depth': 16, 'max_features': 'sqrt'}"
            ]
          },
          "metadata": {},
          "execution_count": 107
        }
      ]
    },
    {
      "cell_type": "markdown",
      "metadata": {
        "id": "cLnVsNVzS2Co"
      },
      "source": [
        "##### Step 2: Fitting RF\n",
        "Fit the random forest on the training data using the parameters you computed above. Then make predictions on the test set, report the root mean squared error for the test set. "
      ]
    },
    {
      "cell_type": "code",
      "metadata": {
        "id": "3avoNnIaZe3P",
        "colab": {
          "base_uri": "https://localhost:8080/"
        },
        "outputId": "573f28e3-2b8e-4e78-f0bd-c8a0ddea40c2"
      },
      "source": [
        "\n",
        "clf = RandomForestRegressor(n_estimators=140, max_depth=16, max_features='sqrt')\n",
        "clf.fit(sx_train, sy_train)\n",
        "y_pred = clf.predict(sx_test)\n",
        "train_y_pred = clf.predict(sx_train)\n",
        "\n",
        "train_mse = mean_squared_error(train_y_pred, sy_train)\n",
        "train_r2 = r2_score(train_y_pred,sy_train)\n",
        "\n",
        "mse = mean_squared_error(y_pred, sy_test)\n",
        "r2 = r2_score(y_pred,sy_test)\n",
        "\n",
        "print(f'RF_train_MES:{train_mse}, RF_train r2 socre : {train_r2}' )\n",
        "print(f'RF_test MES:{mse}, RF_test r2 socre : {r2}' )\n"
      ],
      "execution_count": 77,
      "outputs": [
        {
          "output_type": "stream",
          "name": "stdout",
          "text": [
            "RF_train_MES:0.1347427862920481, RF_train r2 socre : 0.9517774536875314\n",
            "RF_test MES:0.44151078487673767, RF_test r2 socre : 0.8266018499242298\n"
          ]
        }
      ]
    },
    {
      "cell_type": "markdown",
      "metadata": {
        "id": "q_eSiS5ZbVjf"
      },
      "source": [
        "# Distributed Machine Learning with Apache Spark \n",
        "\n",
        "Apache Spark ML : good for Big Data,  classification, regression, clustering, collaborative filtering, dimensionality reduction, and underlying optimization primitives.\n",
        "\n",
        "Reference [here](https://spark.apache.org/docs/latest/ml-guide.html)"
      ]
    },
    {
      "cell_type": "markdown",
      "metadata": {
        "id": "R4nyIijZhTXK"
      },
      "source": [
        "### Initializing Spark Connection \n"
      ]
    },
    {
      "cell_type": "code",
      "metadata": {
        "id": "G8RH4R771X6n",
        "colab": {
          "base_uri": "https://localhost:8080/",
          "height": 1000
        },
        "outputId": "af06e6cc-411c-4023-eb8c-c5bc08a7f8f9"
      },
      "source": [
        "!apt install libkrb5-dev\n",
        "!wget https://www-us.apache.org/dist/spark/spark-2.4.5/spark-2.4.5-bin-hadoop2.7.tgz\n",
        "!tar xf spark-2.4.5-bin-hadoop2.7.tgz\n",
        "!pip install findspark\n",
        "!pip install sparkmagic\n",
        "!pip install pyspark\n",
        "!pip install pyspark --user\n",
        "!pip install seaborn --user\n",
        "!pip install plotly --user\n",
        "!pip install imageio --user\n",
        "!pip install folium --user"
      ],
      "execution_count": 83,
      "outputs": [
        {
          "output_type": "stream",
          "name": "stdout",
          "text": [
            "Reading package lists... Done\n",
            "Building dependency tree       \n",
            "Reading state information... Done\n",
            "The following additional packages will be installed:\n",
            "  comerr-dev krb5-multidev libgssrpc4 libkadm5clnt-mit11 libkadm5srv-mit11\n",
            "  libkdb5-9\n",
            "Suggested packages:\n",
            "  doc-base krb5-doc krb5-user\n",
            "The following NEW packages will be installed:\n",
            "  comerr-dev krb5-multidev libgssrpc4 libkadm5clnt-mit11 libkadm5srv-mit11\n",
            "  libkdb5-9 libkrb5-dev\n",
            "0 upgraded, 7 newly installed, 0 to remove and 37 not upgraded.\n",
            "Need to get 349 kB of archives.\n",
            "After this operation, 1,992 kB of additional disk space will be used.\n",
            "Get:1 http://archive.ubuntu.com/ubuntu bionic-updates/main amd64 libgssrpc4 amd64 1.16-2ubuntu0.2 [54.4 kB]\n",
            "Get:2 http://archive.ubuntu.com/ubuntu bionic-updates/main amd64 libkdb5-9 amd64 1.16-2ubuntu0.2 [37.3 kB]\n",
            "Get:3 http://archive.ubuntu.com/ubuntu bionic-updates/main amd64 libkadm5srv-mit11 amd64 1.16-2ubuntu0.2 [49.7 kB]\n",
            "Get:4 http://archive.ubuntu.com/ubuntu bionic-updates/main amd64 libkadm5clnt-mit11 amd64 1.16-2ubuntu0.2 [38.0 kB]\n",
            "Get:5 http://archive.ubuntu.com/ubuntu bionic-updates/main amd64 comerr-dev amd64 2.1-1.44.1-1ubuntu1.3 [38.5 kB]\n",
            "Get:6 http://archive.ubuntu.com/ubuntu bionic-updates/main amd64 krb5-multidev amd64 1.16-2ubuntu0.2 [120 kB]\n",
            "Get:7 http://archive.ubuntu.com/ubuntu bionic-updates/main amd64 libkrb5-dev amd64 1.16-2ubuntu0.2 [11.7 kB]\n",
            "Fetched 349 kB in 1s (590 kB/s)\n",
            "Selecting previously unselected package libgssrpc4:amd64.\n",
            "(Reading database ... 155229 files and directories currently installed.)\n",
            "Preparing to unpack .../0-libgssrpc4_1.16-2ubuntu0.2_amd64.deb ...\n",
            "Unpacking libgssrpc4:amd64 (1.16-2ubuntu0.2) ...\n",
            "Selecting previously unselected package libkdb5-9:amd64.\n",
            "Preparing to unpack .../1-libkdb5-9_1.16-2ubuntu0.2_amd64.deb ...\n",
            "Unpacking libkdb5-9:amd64 (1.16-2ubuntu0.2) ...\n",
            "Selecting previously unselected package libkadm5srv-mit11:amd64.\n",
            "Preparing to unpack .../2-libkadm5srv-mit11_1.16-2ubuntu0.2_amd64.deb ...\n",
            "Unpacking libkadm5srv-mit11:amd64 (1.16-2ubuntu0.2) ...\n",
            "Selecting previously unselected package libkadm5clnt-mit11:amd64.\n",
            "Preparing to unpack .../3-libkadm5clnt-mit11_1.16-2ubuntu0.2_amd64.deb ...\n",
            "Unpacking libkadm5clnt-mit11:amd64 (1.16-2ubuntu0.2) ...\n",
            "Selecting previously unselected package comerr-dev:amd64.\n",
            "Preparing to unpack .../4-comerr-dev_2.1-1.44.1-1ubuntu1.3_amd64.deb ...\n",
            "Unpacking comerr-dev:amd64 (2.1-1.44.1-1ubuntu1.3) ...\n",
            "Selecting previously unselected package krb5-multidev:amd64.\n",
            "Preparing to unpack .../5-krb5-multidev_1.16-2ubuntu0.2_amd64.deb ...\n",
            "Unpacking krb5-multidev:amd64 (1.16-2ubuntu0.2) ...\n",
            "Selecting previously unselected package libkrb5-dev:amd64.\n",
            "Preparing to unpack .../6-libkrb5-dev_1.16-2ubuntu0.2_amd64.deb ...\n",
            "Unpacking libkrb5-dev:amd64 (1.16-2ubuntu0.2) ...\n",
            "Setting up libgssrpc4:amd64 (1.16-2ubuntu0.2) ...\n",
            "Setting up comerr-dev:amd64 (2.1-1.44.1-1ubuntu1.3) ...\n",
            "Setting up libkdb5-9:amd64 (1.16-2ubuntu0.2) ...\n",
            "Setting up libkadm5srv-mit11:amd64 (1.16-2ubuntu0.2) ...\n",
            "Setting up libkadm5clnt-mit11:amd64 (1.16-2ubuntu0.2) ...\n",
            "Setting up krb5-multidev:amd64 (1.16-2ubuntu0.2) ...\n",
            "Setting up libkrb5-dev:amd64 (1.16-2ubuntu0.2) ...\n",
            "Processing triggers for man-db (2.8.3-2ubuntu0.1) ...\n",
            "Processing triggers for libc-bin (2.27-3ubuntu1.3) ...\n",
            "/sbin/ldconfig.real: /usr/local/lib/python3.7/dist-packages/ideep4py/lib/libmkldnn.so.0 is not a symbolic link\n",
            "\n",
            "--2022-01-14 02:18:14--  https://www-us.apache.org/dist/spark/spark-2.4.5/spark-2.4.5-bin-hadoop2.7.tgz\n",
            "Resolving www-us.apache.org (www-us.apache.org)... failed: Name or service not known.\n",
            "wget: unable to resolve host address ‘www-us.apache.org’\n",
            "tar: spark-2.4.5-bin-hadoop2.7.tgz: Cannot open: No such file or directory\n",
            "tar: Error is not recoverable: exiting now\n",
            "Collecting findspark\n",
            "  Downloading findspark-1.4.2-py2.py3-none-any.whl (4.2 kB)\n",
            "Installing collected packages: findspark\n",
            "Successfully installed findspark-1.4.2\n",
            "Collecting sparkmagic\n",
            "  Downloading sparkmagic-0.19.1.tar.gz (43 kB)\n",
            "\u001b[K     |████████████████████████████████| 43 kB 2.0 MB/s \n",
            "\u001b[?25hCollecting hdijupyterutils>=0.6\n",
            "  Downloading hdijupyterutils-0.19.1.tar.gz (5.0 kB)\n",
            "Collecting autovizwidget>=0.6\n",
            "  Downloading autovizwidget-0.19.1.tar.gz (8.7 kB)\n",
            "Requirement already satisfied: ipython>=4.0.2 in /usr/local/lib/python3.7/dist-packages (from sparkmagic) (5.5.0)\n",
            "Collecting nose\n",
            "  Downloading nose-1.3.7-py3-none-any.whl (154 kB)\n",
            "\u001b[K     |████████████████████████████████| 154 kB 52.9 MB/s \n",
            "\u001b[?25hCollecting mock\n",
            "  Downloading mock-4.0.3-py3-none-any.whl (28 kB)\n",
            "Requirement already satisfied: pandas>=0.17.1 in /usr/local/lib/python3.7/dist-packages (from sparkmagic) (1.1.5)\n",
            "Requirement already satisfied: numpy in /usr/local/lib/python3.7/dist-packages (from sparkmagic) (1.19.5)\n",
            "Requirement already satisfied: requests in /usr/local/lib/python3.7/dist-packages (from sparkmagic) (2.23.0)\n",
            "Requirement already satisfied: ipykernel<6.0.0 in /usr/local/lib/python3.7/dist-packages (from sparkmagic) (4.10.1)\n",
            "Requirement already satisfied: ipywidgets>5.0.0 in /usr/local/lib/python3.7/dist-packages (from sparkmagic) (7.6.5)\n",
            "Requirement already satisfied: notebook>=4.2 in /usr/local/lib/python3.7/dist-packages (from sparkmagic) (5.3.1)\n",
            "Requirement already satisfied: tornado>=4 in /usr/local/lib/python3.7/dist-packages (from sparkmagic) (5.1.1)\n",
            "Collecting requests_kerberos>=0.8.0\n",
            "  Downloading requests_kerberos-0.14.0-py2.py3-none-any.whl (11 kB)\n",
            "Requirement already satisfied: plotly>=3 in /usr/local/lib/python3.7/dist-packages (from autovizwidget>=0.6->sparkmagic) (4.4.1)\n",
            "Requirement already satisfied: jupyter>=1 in /usr/local/lib/python3.7/dist-packages (from hdijupyterutils>=0.6->sparkmagic) (1.0.0)\n",
            "Requirement already satisfied: traitlets>=4.1.0 in /usr/local/lib/python3.7/dist-packages (from ipykernel<6.0.0->sparkmagic) (5.1.1)\n",
            "Requirement already satisfied: jupyter-client in /usr/local/lib/python3.7/dist-packages (from ipykernel<6.0.0->sparkmagic) (5.3.5)\n",
            "Requirement already satisfied: pygments in /usr/local/lib/python3.7/dist-packages (from ipython>=4.0.2->sparkmagic) (2.6.1)\n",
            "Requirement already satisfied: prompt-toolkit<2.0.0,>=1.0.4 in /usr/local/lib/python3.7/dist-packages (from ipython>=4.0.2->sparkmagic) (1.0.18)\n",
            "Requirement already satisfied: setuptools>=18.5 in /usr/local/lib/python3.7/dist-packages (from ipython>=4.0.2->sparkmagic) (57.4.0)\n",
            "Requirement already satisfied: decorator in /usr/local/lib/python3.7/dist-packages (from ipython>=4.0.2->sparkmagic) (4.4.2)\n",
            "Requirement already satisfied: simplegeneric>0.8 in /usr/local/lib/python3.7/dist-packages (from ipython>=4.0.2->sparkmagic) (0.8.1)\n",
            "Requirement already satisfied: pickleshare in /usr/local/lib/python3.7/dist-packages (from ipython>=4.0.2->sparkmagic) (0.7.5)\n",
            "Requirement already satisfied: pexpect in /usr/local/lib/python3.7/dist-packages (from ipython>=4.0.2->sparkmagic) (4.8.0)\n",
            "Requirement already satisfied: widgetsnbextension~=3.5.0 in /usr/local/lib/python3.7/dist-packages (from ipywidgets>5.0.0->sparkmagic) (3.5.2)\n",
            "Requirement already satisfied: jupyterlab-widgets>=1.0.0 in /usr/local/lib/python3.7/dist-packages (from ipywidgets>5.0.0->sparkmagic) (1.0.2)\n",
            "Requirement already satisfied: ipython-genutils~=0.2.0 in /usr/local/lib/python3.7/dist-packages (from ipywidgets>5.0.0->sparkmagic) (0.2.0)\n",
            "Requirement already satisfied: nbformat>=4.2.0 in /usr/local/lib/python3.7/dist-packages (from ipywidgets>5.0.0->sparkmagic) (5.1.3)\n",
            "Requirement already satisfied: qtconsole in /usr/local/lib/python3.7/dist-packages (from jupyter>=1->hdijupyterutils>=0.6->sparkmagic) (5.2.2)\n",
            "Requirement already satisfied: nbconvert in /usr/local/lib/python3.7/dist-packages (from jupyter>=1->hdijupyterutils>=0.6->sparkmagic) (5.6.1)\n",
            "Requirement already satisfied: jupyter-console in /usr/local/lib/python3.7/dist-packages (from jupyter>=1->hdijupyterutils>=0.6->sparkmagic) (5.2.0)\n",
            "Requirement already satisfied: jsonschema!=2.5.0,>=2.4 in /usr/local/lib/python3.7/dist-packages (from nbformat>=4.2.0->ipywidgets>5.0.0->sparkmagic) (4.3.3)\n",
            "Requirement already satisfied: jupyter-core in /usr/local/lib/python3.7/dist-packages (from nbformat>=4.2.0->ipywidgets>5.0.0->sparkmagic) (4.9.1)\n",
            "Requirement already satisfied: importlib-metadata in /usr/local/lib/python3.7/dist-packages (from jsonschema!=2.5.0,>=2.4->nbformat>=4.2.0->ipywidgets>5.0.0->sparkmagic) (4.10.0)\n",
            "Requirement already satisfied: importlib-resources>=1.4.0 in /usr/local/lib/python3.7/dist-packages (from jsonschema!=2.5.0,>=2.4->nbformat>=4.2.0->ipywidgets>5.0.0->sparkmagic) (5.4.0)\n",
            "Requirement already satisfied: pyrsistent!=0.17.0,!=0.17.1,!=0.17.2,>=0.14.0 in /usr/local/lib/python3.7/dist-packages (from jsonschema!=2.5.0,>=2.4->nbformat>=4.2.0->ipywidgets>5.0.0->sparkmagic) (0.18.0)\n",
            "Requirement already satisfied: attrs>=17.4.0 in /usr/local/lib/python3.7/dist-packages (from jsonschema!=2.5.0,>=2.4->nbformat>=4.2.0->ipywidgets>5.0.0->sparkmagic) (21.4.0)\n",
            "Requirement already satisfied: typing-extensions in /usr/local/lib/python3.7/dist-packages (from jsonschema!=2.5.0,>=2.4->nbformat>=4.2.0->ipywidgets>5.0.0->sparkmagic) (3.10.0.2)\n",
            "Requirement already satisfied: zipp>=3.1.0 in /usr/local/lib/python3.7/dist-packages (from importlib-resources>=1.4.0->jsonschema!=2.5.0,>=2.4->nbformat>=4.2.0->ipywidgets>5.0.0->sparkmagic) (3.7.0)\n",
            "Requirement already satisfied: jinja2 in /usr/local/lib/python3.7/dist-packages (from notebook>=4.2->sparkmagic) (2.11.3)\n",
            "Requirement already satisfied: Send2Trash in /usr/local/lib/python3.7/dist-packages (from notebook>=4.2->sparkmagic) (1.8.0)\n",
            "Requirement already satisfied: terminado>=0.8.1 in /usr/local/lib/python3.7/dist-packages (from notebook>=4.2->sparkmagic) (0.12.1)\n",
            "Requirement already satisfied: python-dateutil>=2.1 in /usr/local/lib/python3.7/dist-packages (from jupyter-client->ipykernel<6.0.0->sparkmagic) (2.8.2)\n",
            "Requirement already satisfied: pyzmq>=13 in /usr/local/lib/python3.7/dist-packages (from jupyter-client->ipykernel<6.0.0->sparkmagic) (22.3.0)\n",
            "Requirement already satisfied: pytz>=2017.2 in /usr/local/lib/python3.7/dist-packages (from pandas>=0.17.1->sparkmagic) (2018.9)\n",
            "Requirement already satisfied: retrying>=1.3.3 in /usr/local/lib/python3.7/dist-packages (from plotly>=3->autovizwidget>=0.6->sparkmagic) (1.3.3)\n",
            "Requirement already satisfied: six in /usr/local/lib/python3.7/dist-packages (from plotly>=3->autovizwidget>=0.6->sparkmagic) (1.15.0)\n",
            "Requirement already satisfied: wcwidth in /usr/local/lib/python3.7/dist-packages (from prompt-toolkit<2.0.0,>=1.0.4->ipython>=4.0.2->sparkmagic) (0.2.5)\n",
            "Collecting cryptography>=1.3\n",
            "  Downloading cryptography-36.0.1-cp36-abi3-manylinux_2_24_x86_64.whl (3.6 MB)\n",
            "\u001b[K     |████████████████████████████████| 3.6 MB 58.3 MB/s \n",
            "\u001b[?25hCollecting pyspnego[kerberos]\n",
            "  Downloading pyspnego-0.3.1-py2.py3-none-any.whl (110 kB)\n",
            "\u001b[K     |████████████████████████████████| 110 kB 85.4 MB/s \n",
            "\u001b[?25hRequirement already satisfied: cffi>=1.12 in /usr/local/lib/python3.7/dist-packages (from cryptography>=1.3->requests_kerberos>=0.8.0->sparkmagic) (1.15.0)\n",
            "Requirement already satisfied: pycparser in /usr/local/lib/python3.7/dist-packages (from cffi>=1.12->cryptography>=1.3->requests_kerberos>=0.8.0->sparkmagic) (2.21)\n",
            "Requirement already satisfied: idna<3,>=2.5 in /usr/local/lib/python3.7/dist-packages (from requests->sparkmagic) (2.10)\n",
            "Collecting urllib3!=1.25.0,!=1.25.1,<1.26,>=1.21.1\n",
            "  Downloading urllib3-1.25.11-py2.py3-none-any.whl (127 kB)\n",
            "\u001b[K     |████████████████████████████████| 127 kB 87.1 MB/s \n",
            "\u001b[?25hRequirement already satisfied: chardet<4,>=3.0.2 in /usr/local/lib/python3.7/dist-packages (from requests->sparkmagic) (3.0.4)\n",
            "Requirement already satisfied: certifi>=2017.4.17 in /usr/local/lib/python3.7/dist-packages (from requests->sparkmagic) (2021.10.8)\n",
            "Requirement already satisfied: ptyprocess in /usr/local/lib/python3.7/dist-packages (from terminado>=0.8.1->notebook>=4.2->sparkmagic) (0.7.0)\n",
            "Requirement already satisfied: MarkupSafe>=0.23 in /usr/local/lib/python3.7/dist-packages (from jinja2->notebook>=4.2->sparkmagic) (2.0.1)\n",
            "Requirement already satisfied: pandocfilters>=1.4.1 in /usr/local/lib/python3.7/dist-packages (from nbconvert->jupyter>=1->hdijupyterutils>=0.6->sparkmagic) (1.5.0)\n",
            "Requirement already satisfied: defusedxml in /usr/local/lib/python3.7/dist-packages (from nbconvert->jupyter>=1->hdijupyterutils>=0.6->sparkmagic) (0.7.1)\n",
            "Requirement already satisfied: testpath in /usr/local/lib/python3.7/dist-packages (from nbconvert->jupyter>=1->hdijupyterutils>=0.6->sparkmagic) (0.5.0)\n",
            "Requirement already satisfied: entrypoints>=0.2.2 in /usr/local/lib/python3.7/dist-packages (from nbconvert->jupyter>=1->hdijupyterutils>=0.6->sparkmagic) (0.3)\n",
            "Requirement already satisfied: mistune<2,>=0.8.1 in /usr/local/lib/python3.7/dist-packages (from nbconvert->jupyter>=1->hdijupyterutils>=0.6->sparkmagic) (0.8.4)\n",
            "Requirement already satisfied: bleach in /usr/local/lib/python3.7/dist-packages (from nbconvert->jupyter>=1->hdijupyterutils>=0.6->sparkmagic) (4.1.0)\n",
            "Requirement already satisfied: webencodings in /usr/local/lib/python3.7/dist-packages (from bleach->nbconvert->jupyter>=1->hdijupyterutils>=0.6->sparkmagic) (0.5.1)\n",
            "Requirement already satisfied: packaging in /usr/local/lib/python3.7/dist-packages (from bleach->nbconvert->jupyter>=1->hdijupyterutils>=0.6->sparkmagic) (21.3)\n",
            "Requirement already satisfied: pyparsing!=3.0.5,>=2.0.2 in /usr/local/lib/python3.7/dist-packages (from packaging->bleach->nbconvert->jupyter>=1->hdijupyterutils>=0.6->sparkmagic) (3.0.6)\n",
            "Collecting krb5\n",
            "  Downloading krb5-0.2.0.tar.gz (1.1 MB)\n",
            "\u001b[K     |████████████████████████████████| 1.1 MB 46.5 MB/s \n",
            "\u001b[?25h  Installing build dependencies ... \u001b[?25l\u001b[?25hdone\n",
            "  Getting requirements to build wheel ... \u001b[?25l\u001b[?25hdone\n",
            "    Preparing wheel metadata ... \u001b[?25l\u001b[?25hdone\n",
            "Collecting gssapi>=1.5.0\n",
            "  Downloading gssapi-1.7.2.tar.gz (1.2 MB)\n",
            "\u001b[K     |████████████████████████████████| 1.2 MB 50.0 MB/s \n",
            "\u001b[?25hRequirement already satisfied: qtpy in /usr/local/lib/python3.7/dist-packages (from qtconsole->jupyter>=1->hdijupyterutils>=0.6->sparkmagic) (2.0.0)\n",
            "Building wheels for collected packages: sparkmagic, autovizwidget, hdijupyterutils, gssapi, krb5\n",
            "  Building wheel for sparkmagic (setup.py) ... \u001b[?25l\u001b[?25hdone\n",
            "  Created wheel for sparkmagic: filename=sparkmagic-0.19.1-py3-none-any.whl size=64701 sha256=e9e7bd7fb6cf3bd616f209f1ad390c836c6824ee6defee8bf2f7da7adccedbf5\n",
            "  Stored in directory: /root/.cache/pip/wheels/77/00/d5/153197547803fa423ee3d0a7a1ff19f138cbcc385a5d11e0dd\n",
            "  Building wheel for autovizwidget (setup.py) ... \u001b[?25l\u001b[?25hdone\n",
            "  Created wheel for autovizwidget: filename=autovizwidget-0.19.1-py3-none-any.whl size=14544 sha256=3eb88bd7142022fe517be49d7fe7b0acffb92577d8496c6c17b462bca7aada5a\n",
            "  Stored in directory: /root/.cache/pip/wheels/09/76/d9/ff313b7bd4ff55b1ff8c299f31889f525dc5129556853e1330\n",
            "  Building wheel for hdijupyterutils (setup.py) ... \u001b[?25l\u001b[?25hdone\n",
            "  Created wheel for hdijupyterutils: filename=hdijupyterutils-0.19.1-py3-none-any.whl size=7676 sha256=10786158c3d213bee66f4aab2cd99c8755f0c666c77a05e084bc99c681cd4936\n",
            "  Stored in directory: /root/.cache/pip/wheels/18/64/eb/292698b4780fb4eed0d7521f8e8acac011eda244f368b88aa0\n",
            "  Building wheel for gssapi (setup.py) ... \u001b[?25l\u001b[?25hdone\n",
            "  Created wheel for gssapi: filename=gssapi-1.7.2-cp37-cp37m-linux_x86_64.whl size=2742852 sha256=e9fbaeb3b3da9e19f2e6b9aa00bb760100dea46b9593954f7aa09e83664e21ac\n",
            "  Stored in directory: /root/.cache/pip/wheels/7d/4a/6e/8842dfec4065ade6e79c0bd2c27217fec1d7f14d0b32452a8f\n",
            "  Building wheel for krb5 (PEP 517) ... \u001b[?25l\u001b[?25hdone\n",
            "  Created wheel for krb5: filename=krb5-0.2.0-cp37-cp37m-linux_x86_64.whl size=1708019 sha256=081a4e7772e1df552458981e7a100687774e650cd708f24e4805c4dcde4c112a\n",
            "  Stored in directory: /root/.cache/pip/wheels/09/f9/57/67fd688ebb69ae46210f945dbe258cc694c7697e698267d461\n",
            "Successfully built sparkmagic autovizwidget hdijupyterutils gssapi krb5\n",
            "Installing collected packages: cryptography, urllib3, pyspnego, nose, mock, krb5, gssapi, hdijupyterutils, requests-kerberos, autovizwidget, sparkmagic\n",
            "  Attempting uninstall: urllib3\n",
            "    Found existing installation: urllib3 1.26.8\n",
            "    Uninstalling urllib3-1.26.8:\n",
            "      Successfully uninstalled urllib3-1.26.8\n",
            "\u001b[31mERROR: pip's dependency resolver does not currently take into account all the packages that are installed. This behaviour is the source of the following dependency conflicts.\n",
            "datascience 0.10.6 requires folium==0.2.1, but you have folium 0.8.3 which is incompatible.\u001b[0m\n",
            "Successfully installed autovizwidget-0.19.1 cryptography-36.0.1 gssapi-1.7.2 hdijupyterutils-0.19.1 krb5-0.2.0 mock-4.0.3 nose-1.3.7 pyspnego-0.3.1 requests-kerberos-0.14.0 sparkmagic-0.19.1 urllib3-1.25.11\n"
          ]
        },
        {
          "output_type": "display_data",
          "data": {
            "application/vnd.colab-display-data+json": {
              "pip_warning": {
                "packages": [
                  "urllib3"
                ]
              }
            }
          },
          "metadata": {}
        },
        {
          "output_type": "stream",
          "name": "stdout",
          "text": [
            "Collecting pyspark\n",
            "  Downloading pyspark-3.2.0.tar.gz (281.3 MB)\n",
            "\u001b[K     |████████████████████████████████| 281.3 MB 39 kB/s \n",
            "\u001b[?25hCollecting py4j==0.10.9.2\n",
            "  Downloading py4j-0.10.9.2-py2.py3-none-any.whl (198 kB)\n",
            "\u001b[K     |████████████████████████████████| 198 kB 70.9 MB/s \n",
            "\u001b[?25hBuilding wheels for collected packages: pyspark\n",
            "  Building wheel for pyspark (setup.py) ... \u001b[?25l\u001b[?25hdone\n",
            "  Created wheel for pyspark: filename=pyspark-3.2.0-py2.py3-none-any.whl size=281805911 sha256=118c5f117730d2b8e3626b93460420642a5842c1b49cd0fc80275fe4a4c402b9\n",
            "  Stored in directory: /root/.cache/pip/wheels/0b/de/d2/9be5d59d7331c6c2a7c1b6d1a4f463ce107332b1ecd4e80718\n",
            "Successfully built pyspark\n",
            "Installing collected packages: py4j, pyspark\n",
            "Successfully installed py4j-0.10.9.2 pyspark-3.2.0\n",
            "Requirement already satisfied: pyspark in /usr/local/lib/python3.7/dist-packages (3.2.0)\n",
            "Requirement already satisfied: py4j==0.10.9.2 in /usr/local/lib/python3.7/dist-packages (from pyspark) (0.10.9.2)\n",
            "Requirement already satisfied: seaborn in /usr/local/lib/python3.7/dist-packages (0.11.2)\n",
            "Requirement already satisfied: pandas>=0.23 in /usr/local/lib/python3.7/dist-packages (from seaborn) (1.1.5)\n",
            "Requirement already satisfied: matplotlib>=2.2 in /usr/local/lib/python3.7/dist-packages (from seaborn) (3.2.2)\n",
            "Requirement already satisfied: scipy>=1.0 in /usr/local/lib/python3.7/dist-packages (from seaborn) (1.4.1)\n",
            "Requirement already satisfied: numpy>=1.15 in /usr/local/lib/python3.7/dist-packages (from seaborn) (1.19.5)\n",
            "Requirement already satisfied: pyparsing!=2.0.4,!=2.1.2,!=2.1.6,>=2.0.1 in /usr/local/lib/python3.7/dist-packages (from matplotlib>=2.2->seaborn) (3.0.6)\n",
            "Requirement already satisfied: kiwisolver>=1.0.1 in /usr/local/lib/python3.7/dist-packages (from matplotlib>=2.2->seaborn) (1.3.2)\n",
            "Requirement already satisfied: python-dateutil>=2.1 in /usr/local/lib/python3.7/dist-packages (from matplotlib>=2.2->seaborn) (2.8.2)\n",
            "Requirement already satisfied: cycler>=0.10 in /usr/local/lib/python3.7/dist-packages (from matplotlib>=2.2->seaborn) (0.11.0)\n",
            "Requirement already satisfied: pytz>=2017.2 in /usr/local/lib/python3.7/dist-packages (from pandas>=0.23->seaborn) (2018.9)\n",
            "Requirement already satisfied: six>=1.5 in /usr/local/lib/python3.7/dist-packages (from python-dateutil>=2.1->matplotlib>=2.2->seaborn) (1.15.0)\n",
            "Requirement already satisfied: plotly in /usr/local/lib/python3.7/dist-packages (4.4.1)\n",
            "Requirement already satisfied: six in /usr/local/lib/python3.7/dist-packages (from plotly) (1.15.0)\n",
            "Requirement already satisfied: retrying>=1.3.3 in /usr/local/lib/python3.7/dist-packages (from plotly) (1.3.3)\n",
            "Requirement already satisfied: imageio in /usr/local/lib/python3.7/dist-packages (2.4.1)\n",
            "Requirement already satisfied: pillow in /usr/local/lib/python3.7/dist-packages (from imageio) (7.1.2)\n",
            "Requirement already satisfied: numpy in /usr/local/lib/python3.7/dist-packages (from imageio) (1.19.5)\n",
            "Requirement already satisfied: folium in /usr/local/lib/python3.7/dist-packages (0.8.3)\n",
            "Requirement already satisfied: six in /usr/local/lib/python3.7/dist-packages (from folium) (1.15.0)\n",
            "Requirement already satisfied: branca>=0.3.0 in /usr/local/lib/python3.7/dist-packages (from folium) (0.4.2)\n",
            "Requirement already satisfied: jinja2 in /usr/local/lib/python3.7/dist-packages (from folium) (2.11.3)\n",
            "Requirement already satisfied: numpy in /usr/local/lib/python3.7/dist-packages (from folium) (1.19.5)\n",
            "Requirement already satisfied: requests in /usr/local/lib/python3.7/dist-packages (from folium) (2.23.0)\n",
            "Requirement already satisfied: MarkupSafe>=0.23 in /usr/local/lib/python3.7/dist-packages (from jinja2->folium) (2.0.1)\n",
            "Requirement already satisfied: chardet<4,>=3.0.2 in /usr/local/lib/python3.7/dist-packages (from requests->folium) (3.0.4)\n",
            "Requirement already satisfied: certifi>=2017.4.17 in /usr/local/lib/python3.7/dist-packages (from requests->folium) (2021.10.8)\n",
            "Requirement already satisfied: idna<3,>=2.5 in /usr/local/lib/python3.7/dist-packages (from requests->folium) (2.10)\n",
            "Requirement already satisfied: urllib3!=1.25.0,!=1.25.1,<1.26,>=1.21.1 in /usr/local/lib/python3.7/dist-packages (from requests->folium) (1.25.11)\n"
          ]
        }
      ]
    },
    {
      "cell_type": "code",
      "metadata": {
        "id": "pNctzcXRkexY",
        "colab": {
          "base_uri": "https://localhost:8080/"
        },
        "outputId": "be82a63c-aab1-4ef4-d9b4-845a308f3d2e"
      },
      "source": [
        "!apt update\n",
        "!apt install gcc python-dev libkrb5-dev"
      ],
      "execution_count": 84,
      "outputs": [
        {
          "output_type": "stream",
          "name": "stdout",
          "text": [
            "\u001b[33m\r0% [Working]\u001b[0m\r            \rGet:1 https://cloud.r-project.org/bin/linux/ubuntu bionic-cran40/ InRelease [3,626 B]\n",
            "\u001b[33m\r0% [Connecting to archive.ubuntu.com] [Connecting to security.ubuntu.com] [1 In\u001b[0m\u001b[33m\r0% [Connecting to archive.ubuntu.com] [Connecting to security.ubuntu.com] [Conn\u001b[0m\u001b[33m\r0% [1 InRelease gpgv 3,626 B] [Connecting to archive.ubuntu.com] [Connecting to\u001b[0m\r                                                                               \rIgn:2 https://developer.download.nvidia.com/compute/cuda/repos/ubuntu1804/x86_64  InRelease\n",
            "Get:3 http://ppa.launchpad.net/c2d4u.team/c2d4u4.0+/ubuntu bionic InRelease [15.9 kB]\n",
            "Ign:4 https://developer.download.nvidia.com/compute/machine-learning/repos/ubuntu1804/x86_64  InRelease\n",
            "Get:5 http://security.ubuntu.com/ubuntu bionic-security InRelease [88.7 kB]\n",
            "Hit:6 http://archive.ubuntu.com/ubuntu bionic InRelease\n",
            "Get:7 https://developer.download.nvidia.com/compute/cuda/repos/ubuntu1804/x86_64  Release [696 B]\n",
            "Hit:8 https://developer.download.nvidia.com/compute/machine-learning/repos/ubuntu1804/x86_64  Release\n",
            "Get:9 https://developer.download.nvidia.com/compute/cuda/repos/ubuntu1804/x86_64  Release.gpg [836 B]\n",
            "Get:10 http://archive.ubuntu.com/ubuntu bionic-updates InRelease [88.7 kB]\n",
            "Hit:11 http://ppa.launchpad.net/cran/libgit2/ubuntu bionic InRelease\n",
            "Hit:12 http://ppa.launchpad.net/deadsnakes/ppa/ubuntu bionic InRelease\n",
            "Get:13 http://archive.ubuntu.com/ubuntu bionic-backports InRelease [74.6 kB]\n",
            "Hit:14 http://ppa.launchpad.net/graphics-drivers/ppa/ubuntu bionic InRelease\n",
            "Get:15 http://ppa.launchpad.net/c2d4u.team/c2d4u4.0+/ubuntu bionic/main Sources [1,822 kB]\n",
            "Get:17 https://developer.download.nvidia.com/compute/cuda/repos/ubuntu1804/x86_64  Packages [867 kB]\n",
            "Get:18 http://ppa.launchpad.net/c2d4u.team/c2d4u4.0+/ubuntu bionic/main amd64 Packages [934 kB]\n",
            "Get:19 http://security.ubuntu.com/ubuntu bionic-security/main amd64 Packages [2,498 kB]\n",
            "Get:20 http://archive.ubuntu.com/ubuntu bionic-updates/restricted amd64 Packages [758 kB]\n",
            "Get:21 http://security.ubuntu.com/ubuntu bionic-security/universe amd64 Packages [1,459 kB]\n",
            "Get:22 http://security.ubuntu.com/ubuntu bionic-security/restricted amd64 Packages [725 kB]\n",
            "Get:23 http://archive.ubuntu.com/ubuntu bionic-updates/main amd64 Packages [2,935 kB]\n",
            "Get:24 http://archive.ubuntu.com/ubuntu bionic-updates/universe amd64 Packages [2,238 kB]\n",
            "Fetched 14.5 MB in 3s (4,539 kB/s)\n",
            "Reading package lists... Done\n",
            "Building dependency tree       \n",
            "Reading state information... Done\n",
            "43 packages can be upgraded. Run 'apt list --upgradable' to see them.\n",
            "Reading package lists... Done\n",
            "Building dependency tree       \n",
            "Reading state information... Done\n",
            "python-dev is already the newest version (2.7.15~rc1-1).\n",
            "gcc is already the newest version (4:7.4.0-1ubuntu2.3).\n",
            "gcc set to manually installed.\n",
            "libkrb5-dev is already the newest version (1.16-2ubuntu0.2).\n",
            "0 upgraded, 0 newly installed, 0 to remove and 43 not upgraded.\n"
          ]
        }
      ]
    },
    {
      "cell_type": "code",
      "metadata": {
        "id": "PP28kxLekWG7"
      },
      "source": [
        "from pyspark.sql import SparkSession\n",
        "from pyspark.sql.types import *\n",
        "import pyspark.sql.functions as F\n",
        "\n",
        "import os\n",
        "\n",
        "spark = SparkSession.builder.appName('ml-hw4').getOrCreate()\n"
      ],
      "execution_count": 85,
      "outputs": []
    },
    {
      "cell_type": "code",
      "metadata": {
        "id": "7Gm6aXPq1Ulc"
      },
      "source": [
        "%load_ext sparkmagic.magics"
      ],
      "execution_count": null,
      "outputs": []
    },
    {
      "cell_type": "code",
      "metadata": {
        "id": "NiGROEgu1gfN"
      },
      "source": [
        "#graph section\n",
        "import networkx as nx\n",
        "# SQLite RDBMS\n",
        "import sqlite3\n",
        "# Parallel processing\n",
        "# import swifter\n",
        "import pandas as pd\n",
        "# NoSQL DB\n",
        "from pymongo import MongoClient\n",
        "from pymongo.errors import DuplicateKeyError, OperationFailure\n",
        "\n",
        "import os\n",
        "os.environ['SPARK_HOME'] = '/content/spark-2.4.5-bin-hadoop2.7'\n",
        "os.environ[\"JAVA_HOME\"] = \"/usr/lib/jvm/java-8-openjdk-amd64\"\n",
        "import pyspark\n",
        "from pyspark.sql import SQLContext"
      ],
      "execution_count": null,
      "outputs": []
    },
    {
      "cell_type": "code",
      "metadata": {
        "id": "bF0xipwC1hme"
      },
      "source": [
        "try:\n",
        "    if(spark == None):\n",
        "        spark = SparkSession.builder.appName('Initial').getOrCreate()\n",
        "        sqlContext=SQLContext(spark)\n",
        "except NameError:\n",
        "    spark = SparkSession.builder.appName('Initial').getOrCreate()\n",
        "    sqlContext=SQLContext(spark)\n"
      ],
      "execution_count": null,
      "outputs": []
    },
    {
      "cell_type": "markdown",
      "metadata": {
        "id": "cbj7zOGQW7A2"
      },
      "source": [
        "###  Data for Spark ML \n",
        "\n",
        "Read the saved_csv (combined_data) into a spark dataframe. "
      ]
    },
    {
      "cell_type": "code",
      "metadata": {
        "id": "EFfs7q3P1KHX",
        "colab": {
          "base_uri": "https://localhost:8080/"
        },
        "outputId": "d5c470d5-6f64-4d7c-c22b-2ac0f08b29c5"
      },
      "source": [
        "\n",
        "# \"inferSchema\" flag to True : the columns are the correct datatypes and not all strings\n",
        "\n",
        "combined_data_sdf = spark.read.format(\"csv\").load(\"combined_data.csv\",inferSchema=\"true\", header=\"true\")\n",
        "combined_data_sdf"
      ],
      "execution_count": 86,
      "outputs": [
        {
          "output_type": "execute_result",
          "data": {
            "text/plain": [
              "DataFrame[video_id: string, comments_disabled: boolean, ratings_disabled: boolean, video_error_or_removed: boolean, likes_log: double, label: double, dislikes_log: double, comment_log: double, num_tags: int, desc_len: int, len_title: int, weekday_1: int, weekday_2: int, weekday_3: int, weekday_4: int, weekday_5: int, weekday_6: int, weekday_7: int, country_CA: int, country_FR: int, country_IN: int, country_US: int, category_1: int, category_10: int, category_15: int, category_17: int, category_19: int, category_2: int, category_20: int, category_22: int, category_23: int, category_24: int, category_25: int, category_26: int, category_27: int, category_28: int, category_29: int, category_30: int, category_43: int, category_44: int]"
            ]
          },
          "metadata": {},
          "execution_count": 86
        }
      ]
    },
    {
      "cell_type": "markdown",
      "metadata": {
        "id": "CbC1qlzhXd6L"
      },
      "source": [
        "Just make sure everything looks good"
      ]
    },
    {
      "cell_type": "code",
      "metadata": {
        "id": "sTb1GN4-1EXc",
        "colab": {
          "base_uri": "https://localhost:8080/"
        },
        "outputId": "031c6669-cdc2-42df-d77d-a6d3dd9d9687"
      },
      "source": [
        "combined_data_sdf.columns"
      ],
      "execution_count": 87,
      "outputs": [
        {
          "output_type": "execute_result",
          "data": {
            "text/plain": [
              "['video_id',\n",
              " 'comments_disabled',\n",
              " 'ratings_disabled',\n",
              " 'video_error_or_removed',\n",
              " 'likes_log',\n",
              " 'label',\n",
              " 'dislikes_log',\n",
              " 'comment_log',\n",
              " 'num_tags',\n",
              " 'desc_len',\n",
              " 'len_title',\n",
              " 'weekday_1',\n",
              " 'weekday_2',\n",
              " 'weekday_3',\n",
              " 'weekday_4',\n",
              " 'weekday_5',\n",
              " 'weekday_6',\n",
              " 'weekday_7',\n",
              " 'country_CA',\n",
              " 'country_FR',\n",
              " 'country_IN',\n",
              " 'country_US',\n",
              " 'category_1',\n",
              " 'category_10',\n",
              " 'category_15',\n",
              " 'category_17',\n",
              " 'category_19',\n",
              " 'category_2',\n",
              " 'category_20',\n",
              " 'category_22',\n",
              " 'category_23',\n",
              " 'category_24',\n",
              " 'category_25',\n",
              " 'category_26',\n",
              " 'category_27',\n",
              " 'category_28',\n",
              " 'category_29',\n",
              " 'category_30',\n",
              " 'category_43',\n",
              " 'category_44']"
            ]
          },
          "metadata": {},
          "execution_count": 87
        }
      ]
    },
    {
      "cell_type": "markdown",
      "metadata": {
        "id": "NFWmORJ8XhX_"
      },
      "source": [
        "Print out the dataframe schema and verify the datatypes"
      ]
    },
    {
      "cell_type": "code",
      "metadata": {
        "id": "22b4aWjueZuO",
        "colab": {
          "base_uri": "https://localhost:8080/"
        },
        "outputId": "6a5a84f7-56b3-413c-dda7-512d64bf8a7d"
      },
      "source": [
        "\n",
        "combined_data_sdf.printSchema()"
      ],
      "execution_count": 88,
      "outputs": [
        {
          "output_type": "stream",
          "name": "stdout",
          "text": [
            "root\n",
            " |-- video_id: string (nullable = true)\n",
            " |-- comments_disabled: boolean (nullable = true)\n",
            " |-- ratings_disabled: boolean (nullable = true)\n",
            " |-- video_error_or_removed: boolean (nullable = true)\n",
            " |-- likes_log: double (nullable = true)\n",
            " |-- label: double (nullable = true)\n",
            " |-- dislikes_log: double (nullable = true)\n",
            " |-- comment_log: double (nullable = true)\n",
            " |-- num_tags: integer (nullable = true)\n",
            " |-- desc_len: integer (nullable = true)\n",
            " |-- len_title: integer (nullable = true)\n",
            " |-- weekday_1: integer (nullable = true)\n",
            " |-- weekday_2: integer (nullable = true)\n",
            " |-- weekday_3: integer (nullable = true)\n",
            " |-- weekday_4: integer (nullable = true)\n",
            " |-- weekday_5: integer (nullable = true)\n",
            " |-- weekday_6: integer (nullable = true)\n",
            " |-- weekday_7: integer (nullable = true)\n",
            " |-- country_CA: integer (nullable = true)\n",
            " |-- country_FR: integer (nullable = true)\n",
            " |-- country_IN: integer (nullable = true)\n",
            " |-- country_US: integer (nullable = true)\n",
            " |-- category_1: integer (nullable = true)\n",
            " |-- category_10: integer (nullable = true)\n",
            " |-- category_15: integer (nullable = true)\n",
            " |-- category_17: integer (nullable = true)\n",
            " |-- category_19: integer (nullable = true)\n",
            " |-- category_2: integer (nullable = true)\n",
            " |-- category_20: integer (nullable = true)\n",
            " |-- category_22: integer (nullable = true)\n",
            " |-- category_23: integer (nullable = true)\n",
            " |-- category_24: integer (nullable = true)\n",
            " |-- category_25: integer (nullable = true)\n",
            " |-- category_26: integer (nullable = true)\n",
            " |-- category_27: integer (nullable = true)\n",
            " |-- category_28: integer (nullable = true)\n",
            " |-- category_29: integer (nullable = true)\n",
            " |-- category_30: integer (nullable = true)\n",
            " |-- category_43: integer (nullable = true)\n",
            " |-- category_44: integer (nullable = true)\n",
            "\n"
          ]
        }
      ]
    },
    {
      "cell_type": "markdown",
      "metadata": {
        "id": "fJ34pkSeXn3G"
      },
      "source": [
        "For Spark ML, create a single column feature \n",
        "\n",
        "VectorAssembler() to create a feature vector from all categorical and numerical features saved as “features”.\n"
      ]
    },
    {
      "cell_type": "code",
      "metadata": {
        "id": "HwWWc_0Ttyg4"
      },
      "source": [
        "from pyspark.ml.feature import StringIndexer, VectorAssembler"
      ],
      "execution_count": 89,
      "outputs": []
    },
    {
      "cell_type": "code",
      "metadata": {
        "id": "XIcLnx7bt7Q8"
      },
      "source": [
        "\n",
        "all_columns = combined_data_sdf.columns"
      ],
      "execution_count": 90,
      "outputs": []
    },
    {
      "cell_type": "markdown",
      "metadata": {
        "id": "BqiuAgWxh2yv"
      },
      "source": [
        "Create a drop_columns to exclude for ML"
      ]
    },
    {
      "cell_type": "code",
      "metadata": {
        "id": "B-_2Tsy5uzIo"
      },
      "source": [
        "\n",
        "drop_columns = ['video_id','label','len_title','desc_len','comments_disabled','ratings_disabled']"
      ],
      "execution_count": 91,
      "outputs": []
    },
    {
      "cell_type": "code",
      "metadata": {
        "id": "GWgiDQuciHKt",
        "colab": {
          "base_uri": "https://localhost:8080/"
        },
        "outputId": "9365c08b-a8e8-45b3-80d1-1e82adc2fcc6"
      },
      "source": [
        "columns_to_use = [i for i in all_columns if i not in drop_columns]\n",
        "columns_to_use"
      ],
      "execution_count": 92,
      "outputs": [
        {
          "output_type": "execute_result",
          "data": {
            "text/plain": [
              "['video_error_or_removed',\n",
              " 'likes_log',\n",
              " 'dislikes_log',\n",
              " 'comment_log',\n",
              " 'num_tags',\n",
              " 'weekday_1',\n",
              " 'weekday_2',\n",
              " 'weekday_3',\n",
              " 'weekday_4',\n",
              " 'weekday_5',\n",
              " 'weekday_6',\n",
              " 'weekday_7',\n",
              " 'country_CA',\n",
              " 'country_FR',\n",
              " 'country_IN',\n",
              " 'country_US',\n",
              " 'category_1',\n",
              " 'category_10',\n",
              " 'category_15',\n",
              " 'category_17',\n",
              " 'category_19',\n",
              " 'category_2',\n",
              " 'category_20',\n",
              " 'category_22',\n",
              " 'category_23',\n",
              " 'category_24',\n",
              " 'category_25',\n",
              " 'category_26',\n",
              " 'category_27',\n",
              " 'category_28',\n",
              " 'category_29',\n",
              " 'category_30',\n",
              " 'category_43',\n",
              " 'category_44']"
            ]
          },
          "metadata": {},
          "execution_count": 92
        }
      ]
    },
    {
      "cell_type": "markdown",
      "metadata": {
        "id": "V4kOg6TWiOcm"
      },
      "source": [
        "Create a VectorAssembler object with columns you want to use. "
      ]
    },
    {
      "cell_type": "code",
      "metadata": {
        "id": "cPl796SvpvoU",
        "colab": {
          "base_uri": "https://localhost:8080/"
        },
        "outputId": "6113f076-fb78-4e8e-a491-0be92624fabd"
      },
      "source": [
        "assembler = VectorAssembler(inputCols=columns_to_use, outputCol=\"features\")\n",
        "combined_data_sdf2 = assembler.transform(combined_data_sdf)\n",
        "\n",
        "combined_data_sdf2.select('features','label').show(5)\n"
      ],
      "execution_count": 93,
      "outputs": [
        {
          "output_type": "stream",
          "name": "stdout",
          "text": [
            "+--------------------+------------------+\n",
            "|            features|             label|\n",
            "+--------------------+------------------+\n",
            "|(34,[1,2,3,4,5,13...|12.267652105461218|\n",
            "|(34,[1,2,3,4,11,1...|12.977850768461046|\n",
            "|(34,[1,2,3,4,5,13...|13.086018844077508|\n",
            "|(34,[1,2,3,4,11,1...|13.737790068520269|\n",
            "|(34,[1,2,3,4,5,13...|11.861439196628254|\n",
            "+--------------------+------------------+\n",
            "only showing top 5 rows\n",
            "\n"
          ]
        }
      ]
    },
    {
      "cell_type": "markdown",
      "metadata": {
        "id": "X7_HC7cTif1k"
      },
      "source": [
        "\n",
        "Create a pipeline with many stages. *OPTIONAL*\n",
        "\n",
        "In this step, we will create a pipeline with a single stage - the assembler. Fit the pipeline to your data and create the transformed dataframe and name it 'modified_data_sdf'."
      ]
    },
    {
      "cell_type": "code",
      "metadata": {
        "id": "iuO1Mu9IvTEz",
        "colab": {
          "base_uri": "https://localhost:8080/"
        },
        "outputId": "adcb1fe1-ab7e-401c-f682-aa556ce2c7d8"
      },
      "source": [
        "from pyspark.ml import Pipeline\n",
        "\n",
        "\n",
        "assembler = VectorAssembler(inputCols=columns_to_use, outputCol=\"features\")\n",
        "\n",
        "pipe = Pipeline(stages=[assembler])\n",
        "model = pipe.fit(combined_data_sdf)\n",
        "modified_data_sdf = model.transform(combined_data_sdf)\n",
        "modified_data_sdf.show() \n",
        "\n"
      ],
      "execution_count": 94,
      "outputs": [
        {
          "output_type": "stream",
          "name": "stdout",
          "text": [
            "+-----------+-----------------+----------------+----------------------+------------------+------------------+------------------+-----------------+--------+--------+---------+---------+---------+---------+---------+---------+---------+---------+----------+----------+----------+----------+----------+-----------+-----------+-----------+-----------+----------+-----------+-----------+-----------+-----------+-----------+-----------+-----------+-----------+-----------+-----------+-----------+-----------+--------------------+\n",
            "|   video_id|comments_disabled|ratings_disabled|video_error_or_removed|         likes_log|             label|      dislikes_log|      comment_log|num_tags|desc_len|len_title|weekday_1|weekday_2|weekday_3|weekday_4|weekday_5|weekday_6|weekday_7|country_CA|country_FR|country_IN|country_US|category_1|category_10|category_15|category_17|category_19|category_2|category_20|category_22|category_23|category_24|category_25|category_26|category_27|category_28|category_29|category_30|category_43|category_44|            features|\n",
            "+-----------+-----------------+----------------+----------------------+------------------+------------------+------------------+-----------------+--------+--------+---------+---------+---------+---------+---------+---------+---------+---------+----------+----------+----------+----------+----------+-----------+-----------+-----------+-----------+----------+-----------+-----------+-----------+-----------+-----------+-----------+-----------+-----------+-----------+-----------+-----------+-----------+--------------------+\n",
            "|Ro6eob0LrCY|            false|           false|                 false|10.284762421843075|12.267652105461218| 7.011213987350367|8.247482004285693|       6|    1412|       40|        1|        0|        0|        0|        0|        0|        0|         0|         1|         0|         0|         0|          0|          0|          0|          0|         0|          0|          0|          0|          1|          0|          0|          0|          0|          0|          0|          0|          0|(34,[1,2,3,4,5,13...|\n",
            "|Yo84eqYwP98|            false|           false|                 false| 9.550662331752143|12.977850768461046|   6.3578422665081|7.057897937411856|       1|    1828|      100|        0|        0|        0|        0|        0|        0|        1|         0|         1|         0|         0|         0|          0|          0|          0|          0|         0|          0|          0|          0|          1|          0|          0|          0|          0|          0|          0|          0|          0|(34,[1,2,3,4,11,1...|\n",
            "|ceqntSXE-10|            false|           false|                 false|11.241169233735326|13.086018844077508| 6.169610732491456|9.167537249650874|       5|     338|       55|        1|        0|        0|        0|        0|        0|        0|         0|         1|         0|         0|         0|          0|          0|          0|          0|         0|          0|          0|          1|          0|          0|          0|          0|          0|          0|          0|          0|          0|(34,[1,2,3,4,5,13...|\n",
            "|WuTFI5qftCE|            false|           false|                 false| 11.35060651547512|13.737790068520269| 6.311734809152915| 8.36730010184162|       8|     170|       31|        0|        0|        0|        0|        0|        0|        1|         0|         1|         0|         0|         0|          0|          0|          0|          0|         0|          1|          0|          0|          0|          0|          0|          0|          0|          0|          0|          0|          0|(34,[1,2,3,4,11,1...|\n",
            "|ee6OFs8TdEg|            false|           false|                 false| 8.998631198287637|11.861439196628254| 4.290459441148391|  6.1779441140506|      24|    1384|       58|        1|        0|        0|        0|        0|        0|        0|         0|         1|         0|         0|         0|          0|          0|          1|          0|         0|          0|          0|          0|          0|          0|          0|          0|          0|          0|          0|          0|          0|(34,[1,2,3,4,5,13...|\n",
            "|teXaL6GdQRk|            false|           false|                 false| 9.571853592555165|11.858314967191795| 5.313205979041787|6.035481432524756|      26|     752|       64|        1|        0|        0|        0|        0|        0|        0|         0|         1|         0|         0|         0|          0|          0|          0|          0|         0|          0|          0|          1|          0|          0|          0|          0|          0|          0|          0|          0|          0|(34,[1,2,3,4,5,13...|\n",
            "|nduL7G_gJoY|            false|           false|                 false|  9.13637085177601|12.142360449558572| 7.231287004327616|7.791522819150732|      20|    1026|       50|        0|        0|        0|        0|        0|        0|        1|         0|         1|         0|         0|         0|          0|          0|          0|          0|         0|          0|          0|          0|          1|          0|          0|          0|          0|          0|          0|          0|          0|(34,[1,2,3,4,11,1...|\n",
            "|QmpWE_SODZA|            false|           false|                 false| 7.423568444259167| 11.41918605086728|  7.55171221535131|6.553933404025811|       8|     341|       82|        1|        0|        0|        0|        0|        0|        0|         0|         1|         0|         0|         0|          0|          0|          0|          0|         0|          0|          0|          0|          1|          0|          0|          0|          0|          0|          0|          0|          0|(34,[1,2,3,4,5,13...|\n",
            "|GBVxEpQr8R8|            false|           false|                 false|12.209063169452682| 14.66606397042926|  8.70267641154777|8.932740634865914|      12|    1106|       34|        0|        0|        0|        0|        0|        0|        1|         0|         1|         0|         0|         0|          0|          0|          0|          0|         0|          0|          0|          0|          1|          0|          0|          0|          0|          0|          0|          0|          0|(34,[1,2,3,4,11,1...|\n",
            "|0RFhWyM6qbA|            false|           false|                 false| 8.690474003558043|13.361753436588911| 6.583409222158765|7.302496423727326|       3|      42|       68|        0|        0|        0|        0|        0|        0|        1|         0|         1|         0|         0|         0|          0|          0|          0|          0|         0|          0|          1|          0|          0|          0|          0|          0|          0|          0|          0|          0|          0|(34,[1,2,3,4,11,1...|\n",
            "|LhjhGOBIoHM|             true|            true|                 false|               0.0|12.591559510922673|               0.0|              0.0|      10|     452|       59|        0|        0|        0|        0|        0|        0|        1|         0|         1|         0|         0|         0|          0|          0|          0|          0|         0|          0|          0|          0|          1|          0|          0|          0|          0|          0|          0|          0|          0|(34,[4,11,13,25],...|\n",
            "|lnFaRuWOLN0|            false|           false|                 false| 11.59575812326344| 14.22427089749555| 7.354362330421477| 7.97728198675515|      10|     506|       28|        0|        0|        0|        0|        0|        0|        1|         0|         1|         0|         0|         0|          0|          0|          0|          0|         0|          0|          0|          1|          0|          0|          0|          0|          0|          0|          0|          0|          0|(34,[1,2,3,4,11,1...|\n",
            "|LGbUBietbJc|            false|           false|                 false|10.060961276360318|12.722249923614566| 7.618251097876695|8.008032846969307|       1|     423|       68|        0|        0|        0|        0|        0|        0|        1|         0|         1|         0|         0|         0|          0|          0|          0|          0|         0|          0|          0|          0|          1|          0|          0|          0|          0|          0|          0|          0|          0|(34,[1,2,3,4,11,1...|\n",
            "|JfanclGyrZY|            false|           false|                 false| 8.549660381553739|10.882734304052615| 3.784189633918261|5.459585514144159|      15|    3730|       34|        1|        0|        0|        0|        0|        0|        0|         0|         1|         0|         0|         0|          0|          0|          0|          0|         0|          0|          0|          0|          0|          0|          0|          1|          0|          0|          0|          0|          0|(34,[1,2,3,4,5,13...|\n",
            "|PpECwr15oQQ|            false|           false|                 false| 8.331827004436057|10.920781320026649| 4.584967478670572|5.983936280687191|      24|    1467|       18|        1|        0|        0|        0|        0|        0|        0|         0|         1|         0|         0|         0|          0|          0|          0|          0|         0|          0|          0|          1|          0|          0|          0|          0|          0|          0|          0|          0|          0|(34,[1,2,3,4,5,13...|\n",
            "|ZTTpRHC5ZH4|            false|           false|                 false| 9.007489523929735| 12.05878419995685| 4.564348191467836|5.472270673671475|      15|    1503|       37|        0|        0|        0|        0|        0|        0|        1|         0|         1|         0|         0|         0|          0|          0|          0|          0|         0|          0|          0|          1|          0|          0|          0|          0|          0|          0|          0|          0|          0|(34,[1,2,3,4,11,1...|\n",
            "|RpEJCznFreQ|            false|           false|                 false|10.070949246423059|12.829371231433653| 6.021023349349527| 6.70196036600254|      14|    1779|       37|        0|        0|        0|        0|        0|        0|        1|         0|         1|         0|         0|         0|          0|          0|          0|          0|         0|          0|          0|          0|          0|          0|          1|          0|          0|          0|          0|          0|          0|(34,[1,2,3,4,11,1...|\n",
            "|tsMw-VMUtNU|            false|           false|                 false|  4.04305126783455| 11.28492011423911|1.6094379124341003|3.258096538021482|       6|     191|       55|        0|        0|        0|        0|        0|        1|        0|         0|         1|         0|         0|         0|          0|          0|          0|          0|         0|          0|          0|          0|          1|          0|          0|          0|          0|          0|          0|          0|          0|(34,[1,2,3,4,10,1...|\n",
            "|hdOzPPa_bFY|            false|           false|                 false| 9.906981441790384| 12.45039043207579|5.5053315359323625| 6.85751406254539|       1|    1329|       51|        1|        0|        0|        0|        0|        0|        0|         0|         1|         0|         0|         0|          0|          0|          0|          0|         0|          1|          0|          0|          0|          0|          0|          0|          0|          0|          0|          0|          0|(34,[1,2,3,4,5,13...|\n",
            "|7779JdxVAg0|            false|           false|                 false|10.231855610259325| 13.38994324769186| 7.929846429742503| 8.28828304520769|      19|     522|       80|        0|        0|        0|        0|        0|        0|        1|         0|         1|         0|         0|         0|          0|          0|          0|          0|         0|          0|          0|          0|          1|          0|          0|          0|          0|          0|          0|          0|          0|(34,[1,2,3,4,11,1...|\n",
            "+-----------+-----------------+----------------+----------------------+------------------+------------------+------------------+-----------------+--------+--------+---------+---------+---------+---------+---------+---------+---------+---------+----------+----------+----------+----------+----------+-----------+-----------+-----------+-----------+----------+-----------+-----------+-----------+-----------+-----------+-----------+-----------+-----------+-----------+-----------+-----------+-----------+--------------------+\n",
            "only showing top 20 rows\n",
            "\n"
          ]
        }
      ]
    },
    {
      "cell_type": "markdown",
      "metadata": {
        "id": "0TKEQEDkxFGf"
      },
      "source": [
        "Now that we have the data in the format we need, we will create out train and test sets. Split into an 80-20 ratio between the train and test sets. Name these 'train_sdf' and 'test_sdf'"
      ]
    },
    {
      "cell_type": "code",
      "metadata": {
        "id": "0FJdyCiTj3mq",
        "colab": {
          "base_uri": "https://localhost:8080/"
        },
        "outputId": "777cdad1-b0fe-4aef-ac78-b71f4c0cbc7f"
      },
      "source": [
        "modified_data_sdf=modified_data_sdf.drop('video_id')\n",
        "modified_data_sdf.printSchema()"
      ],
      "execution_count": 95,
      "outputs": [
        {
          "output_type": "stream",
          "name": "stdout",
          "text": [
            "root\n",
            " |-- comments_disabled: boolean (nullable = true)\n",
            " |-- ratings_disabled: boolean (nullable = true)\n",
            " |-- video_error_or_removed: boolean (nullable = true)\n",
            " |-- likes_log: double (nullable = true)\n",
            " |-- label: double (nullable = true)\n",
            " |-- dislikes_log: double (nullable = true)\n",
            " |-- comment_log: double (nullable = true)\n",
            " |-- num_tags: integer (nullable = true)\n",
            " |-- desc_len: integer (nullable = true)\n",
            " |-- len_title: integer (nullable = true)\n",
            " |-- weekday_1: integer (nullable = true)\n",
            " |-- weekday_2: integer (nullable = true)\n",
            " |-- weekday_3: integer (nullable = true)\n",
            " |-- weekday_4: integer (nullable = true)\n",
            " |-- weekday_5: integer (nullable = true)\n",
            " |-- weekday_6: integer (nullable = true)\n",
            " |-- weekday_7: integer (nullable = true)\n",
            " |-- country_CA: integer (nullable = true)\n",
            " |-- country_FR: integer (nullable = true)\n",
            " |-- country_IN: integer (nullable = true)\n",
            " |-- country_US: integer (nullable = true)\n",
            " |-- category_1: integer (nullable = true)\n",
            " |-- category_10: integer (nullable = true)\n",
            " |-- category_15: integer (nullable = true)\n",
            " |-- category_17: integer (nullable = true)\n",
            " |-- category_19: integer (nullable = true)\n",
            " |-- category_2: integer (nullable = true)\n",
            " |-- category_20: integer (nullable = true)\n",
            " |-- category_22: integer (nullable = true)\n",
            " |-- category_23: integer (nullable = true)\n",
            " |-- category_24: integer (nullable = true)\n",
            " |-- category_25: integer (nullable = true)\n",
            " |-- category_26: integer (nullable = true)\n",
            " |-- category_27: integer (nullable = true)\n",
            " |-- category_28: integer (nullable = true)\n",
            " |-- category_29: integer (nullable = true)\n",
            " |-- category_30: integer (nullable = true)\n",
            " |-- category_43: integer (nullable = true)\n",
            " |-- category_44: integer (nullable = true)\n",
            " |-- features: vector (nullable = true)\n",
            "\n"
          ]
        }
      ]
    },
    {
      "cell_type": "code",
      "metadata": {
        "id": "Jn4_0RHHxEYm"
      },
      "source": [
        "\n",
        "train_sdf, test_sdf = combined_data_sdf2.randomSplit([0.8, 0.2], seed = 2018)"
      ],
      "execution_count": 96,
      "outputs": []
    },
    {
      "cell_type": "markdown",
      "metadata": {
        "id": "L_CKE8i8an4x"
      },
      "source": [
        "### Linear regression using Spark ML\n",
        "\n",
        "Time to do the cool stuff, let's train a linear regression model to our data and try to predict the views again! This time, we will use \"Big\" data tools. Using Spark ML's linear regression, create a model, fit the training data. We will then see the summary stats for the model - the RMSE error, R2 score and other information you find useful. Look up the documentation online and try to understand how to implement this.\n",
        "\n",
        "Firstly, train a model without any regularization!"
      ]
    },
    {
      "cell_type": "code",
      "metadata": {
        "id": "W9qJdpIU4e8q"
      },
      "source": [
        "from pyspark.ml.regression import LinearRegression\n",
        "\n",
        "lr_regr = LinearRegression(featuresCol = 'features', labelCol = 'label')\n",
        "lr_model=lr_regr.fit(train_sdf)\n",
        "\n",
        "\n"
      ],
      "execution_count": 97,
      "outputs": []
    },
    {
      "cell_type": "code",
      "metadata": {
        "id": "M_n_gx3I-Icl",
        "colab": {
          "base_uri": "https://localhost:8080/"
        },
        "outputId": "d12f09e8-1ff4-4aa4-c9b5-61382c8248da"
      },
      "source": [
        "trainingSummary = lr_model.summary\n",
        "\n",
        "print(\"RMSE: %f\" % trainingSummary.rootMeanSquaredError)\n",
        "print(\"r2: %f\" % trainingSummary.r2)\n",
        "\n"
      ],
      "execution_count": 104,
      "outputs": [
        {
          "output_type": "stream",
          "name": "stdout",
          "text": [
            "RMSE: 0.803130\n",
            "r2: 0.804727\n"
          ]
        }
      ]
    },
    {
      "cell_type": "code",
      "metadata": {
        "id": "3sE9kv3ZsU7J",
        "colab": {
          "base_uri": "https://localhost:8080/"
        },
        "outputId": "64718f04-e52e-46c8-9440-2bc250857810"
      },
      "source": [
        "\n",
        "predictions = lr_model.transform(test_sdf)\n",
        "predictions.show(5)\n",
        "\n",
        "# prediction column created\n"
      ],
      "execution_count": 103,
      "outputs": [
        {
          "output_type": "stream",
          "name": "stdout",
          "text": [
            "+--------+-----------------+----------------+----------------------+------------------+------------------+------------------+------------------+--------+--------+---------+---------+---------+---------+---------+---------+---------+---------+----------+----------+----------+----------+----------+-----------+-----------+-----------+-----------+----------+-----------+-----------+-----------+-----------+-----------+-----------+-----------+-----------+-----------+-----------+-----------+-----------+--------------------+------------------+\n",
            "|video_id|comments_disabled|ratings_disabled|video_error_or_removed|         likes_log|             label|      dislikes_log|       comment_log|num_tags|desc_len|len_title|weekday_1|weekday_2|weekday_3|weekday_4|weekday_5|weekday_6|weekday_7|country_CA|country_FR|country_IN|country_US|category_1|category_10|category_15|category_17|category_19|category_2|category_20|category_22|category_23|category_24|category_25|category_26|category_27|category_28|category_29|category_30|category_43|category_44|            features|        prediction|\n",
            "+--------+-----------------+----------------+----------------------+------------------+------------------+------------------+------------------+--------+--------+---------+---------+---------+---------+---------+---------+---------+---------+----------+----------+----------+----------+----------+-----------+-----------+-----------+-----------+----------+-----------+-----------+-----------+-----------+-----------+-----------+-----------+-----------+-----------+-----------+-----------+-----------+--------------------+------------------+\n",
            "|  #NAME?|            false|           false|                 false|3.6109179126442243|10.343450701051859|2.4849066497880004|1.0986122886681098|      17|     343|       88|        1|        0|        0|        0|        0|        0|        0|         0|         0|         1|         0|         0|          0|          0|          0|          0|         0|          0|          0|          0|          1|          0|          0|          0|          0|          0|          0|          0|          0|(34,[1,2,3,4,5,14...|10.082941784554613|\n",
            "|  #NAME?|            false|           false|                 false|  5.14166355650266|10.599256293801025|  2.70805020110221|2.5649493574615367|      15|    1004|      100|        0|        0|        1|        0|        0|        0|        0|         0|         0|         1|         0|         0|          0|          0|          0|          0|         0|          0|          0|          0|          1|          0|          0|          0|          0|          0|          0|          0|          0|(34,[1,2,3,4,7,14...|10.532061366011131|\n",
            "|  #NAME?|            false|           false|                 false| 5.298317366548036|11.069213169678562|3.1780538303479458| 2.995732273553991|      27|     446|       56|        0|        0|        0|        0|        1|        0|        0|         0|         0|         1|         0|         0|          0|          0|          0|          0|         0|          0|          0|          0|          1|          0|          0|          0|          0|          0|          0|          0|          0|(34,[1,2,3,4,9,14...|10.826957093880043|\n",
            "|  #NAME?|            false|           false|                 false| 5.327876168789581|11.880321729601778| 5.638354669333745|  4.31748811353631|      12|     409|       75|        0|        0|        0|        0|        0|        1|        0|         0|         0|         1|         0|         0|          0|          0|          0|          0|         0|          0|          0|          0|          0|          1|          0|          0|          0|          0|          0|          0|          0|(34,[1,2,3,4,10,1...|11.977948569641843|\n",
            "|  #NAME?|            false|           false|                 false| 5.501258210544727| 11.15043363570993| 5.247024072160486| 3.970291913552122|      27|     257|      100|        0|        0|        1|        0|        0|        0|        0|         0|         0|         1|         0|         0|          0|          0|          0|          0|         0|          0|          0|          0|          0|          1|          0|          0|          0|          0|          0|          0|          0|(34,[1,2,3,4,7,14...| 11.84075741381461|\n",
            "+--------+-----------------+----------------+----------------------+------------------+------------------+------------------+------------------+--------+--------+---------+---------+---------+---------+---------+---------+---------+---------+----------+----------+----------+----------+----------+-----------+-----------+-----------+-----------+----------+-----------+-----------+-----------+-----------+-----------+-----------+-----------+-----------+-----------+-----------+-----------+-----------+--------------------+------------------+\n",
            "only showing top 5 rows\n",
            "\n"
          ]
        }
      ]
    },
    {
      "cell_type": "code",
      "metadata": {
        "id": "TlqLeWSDsd__",
        "colab": {
          "base_uri": "https://localhost:8080/"
        },
        "outputId": "19cf0a2f-a492-4390-b067-6b9986d11ca8"
      },
      "source": [
        "from pyspark.ml.evaluation import RegressionEvaluator\n",
        "\n",
        "evaluator = RegressionEvaluator(predictionCol='prediction', labelCol='label', metricName='rmse')\n",
        "rmse= evaluator.evaluate(predictions)\n",
        "print(f\"rmse on test data = {rmse}\")\n",
        "\n",
        "r2_evaluator = RegressionEvaluator(predictionCol=\"prediction\", labelCol=\"label\",metricName=\"r2\")\n",
        "r2=r2_evaluator.evaluate(predictions)\n",
        "print(f\"R2 on test data = {r2}\")"
      ],
      "execution_count": 115,
      "outputs": [
        {
          "output_type": "stream",
          "name": "stdout",
          "text": [
            "rmse on test data = 0.8105088859086372\n",
            "R2 on test data = 0.8003816274937904\n"
          ]
        }
      ]
    },
    {
      "cell_type": "markdown",
      "metadata": {
        "id": "pgEkOUYUsi5D"
      },
      "source": [
        "Add regularization : LASSO (L1), Ridge (L2) and elastic net (combination of L1 and L2) and different regularization hyperparameters when initializing 3 different regularized linear regression models. Compare these with each other and the non regularized regression done above."
      ]
    },
    {
      "cell_type": "code",
      "metadata": {
        "id": "hhx5njucYKk2"
      },
      "source": [
        "# Compute predictions using each of the models\n",
        "\n",
        "l1_model = LinearRegression(regParam=0.3, elasticNetParam=1).fit(train_sdf)\n",
        "l2_model = LinearRegression(regParam=0.3, elasticNetParam=0).fit(train_sdf)\n",
        "elastic_model = LinearRegression(regParam=0.3, elasticNetParam=0.5).fit(train_sdf)\n",
        "\n",
        "\n",
        "l1_predictions = l1_model.transform(test_sdf)\n",
        "l2_predictions = l2_model.transform(test_sdf)\n",
        "elastic_net_predictions = elastic_model.transform(test_sdf)\n",
        "\n",
        "\n",
        "test_rmse_l1 = l1_model.summary.rootMeanSquaredError\n",
        "test_rmse_l2 = l2_model.summary.rootMeanSquaredError\n",
        "test_rmse_elastic = elastic_model.summary.rootMeanSquaredError\n"
      ],
      "execution_count": 116,
      "outputs": []
    },
    {
      "cell_type": "code",
      "metadata": {
        "id": "q0-fqj8MgY2S",
        "colab": {
          "base_uri": "https://localhost:8080/"
        },
        "outputId": "578887be-9e98-40ad-a734-92bcde21e7b3"
      },
      "source": [
        "\n",
        "print (f'test_rmse_l1: {test_rmse_l1}, test_rmse_l2 : {test_rmse_l2}, test_rmse_elastic: {test_rmse_elastic}')\n"
      ],
      "execution_count": 117,
      "outputs": [
        {
          "output_type": "stream",
          "name": "stdout",
          "text": [
            "test_rmse_l1: 0.9070627026044952, test_rmse_l2 : 0.8204104075473567, test_rmse_elastic: 0.856877112147261\n"
          ]
        }
      ]
    },
    {
      "cell_type": "markdown",
      "metadata": {
        "id": "O6ntJ6xFbbmn"
      },
      "source": [
        "### Random Forest Regression \n",
        "\n",
        "create a random forest regressor model, fit the training data and evaluate using RegressionEvaluator. "
      ]
    },
    {
      "cell_type": "code",
      "metadata": {
        "id": "8pjjP9GWuoml",
        "colab": {
          "base_uri": "https://localhost:8080/"
        },
        "outputId": "4fd3ec3d-0b94-4686-83cf-25668b6bd7cb"
      },
      "source": [
        "from pyspark.ml.regression import RandomForestRegressor\n",
        "\n",
        "\n",
        "rf_reg = RandomForestRegressor(featuresCol = 'features', labelCol = 'label')\n",
        "rf_model = rf_reg.fit(train_sdf)\n",
        "predictions = rf_model.transform(test_sdf)\n",
        "\n",
        "predictions.show()\n"
      ],
      "execution_count": 118,
      "outputs": [
        {
          "output_type": "stream",
          "name": "stdout",
          "text": [
            "+--------+-----------------+----------------+----------------------+------------------+------------------+------------------+------------------+--------+--------+---------+---------+---------+---------+---------+---------+---------+---------+----------+----------+----------+----------+----------+-----------+-----------+-----------+-----------+----------+-----------+-----------+-----------+-----------+-----------+-----------+-----------+-----------+-----------+-----------+-----------+-----------+--------------------+------------------+\n",
            "|video_id|comments_disabled|ratings_disabled|video_error_or_removed|         likes_log|             label|      dislikes_log|       comment_log|num_tags|desc_len|len_title|weekday_1|weekday_2|weekday_3|weekday_4|weekday_5|weekday_6|weekday_7|country_CA|country_FR|country_IN|country_US|category_1|category_10|category_15|category_17|category_19|category_2|category_20|category_22|category_23|category_24|category_25|category_26|category_27|category_28|category_29|category_30|category_43|category_44|            features|        prediction|\n",
            "+--------+-----------------+----------------+----------------------+------------------+------------------+------------------+------------------+--------+--------+---------+---------+---------+---------+---------+---------+---------+---------+----------+----------+----------+----------+----------+-----------+-----------+-----------+-----------+----------+-----------+-----------+-----------+-----------+-----------+-----------+-----------+-----------+-----------+-----------+-----------+-----------+--------------------+------------------+\n",
            "|  #NAME?|            false|           false|                 false|3.6109179126442243|10.343450701051859|2.4849066497880004|1.0986122886681098|      17|     343|       88|        1|        0|        0|        0|        0|        0|        0|         0|         0|         1|         0|         0|          0|          0|          0|          0|         0|          0|          0|          0|          1|          0|          0|          0|          0|          0|          0|          0|          0|(34,[1,2,3,4,5,14...|10.870174266503849|\n",
            "|  #NAME?|            false|           false|                 false|  5.14166355650266|10.599256293801025|  2.70805020110221|2.5649493574615367|      15|    1004|      100|        0|        0|        1|        0|        0|        0|        0|         0|         0|         1|         0|         0|          0|          0|          0|          0|         0|          0|          0|          0|          1|          0|          0|          0|          0|          0|          0|          0|          0|(34,[1,2,3,4,7,14...|10.870174266503849|\n",
            "|  #NAME?|            false|           false|                 false| 5.298317366548036|11.069213169678562|3.1780538303479458| 2.995732273553991|      27|     446|       56|        0|        0|        0|        0|        1|        0|        0|         0|         0|         1|         0|         0|          0|          0|          0|          0|         0|          0|          0|          0|          1|          0|          0|          0|          0|          0|          0|          0|          0|(34,[1,2,3,4,9,14...|10.862619039300672|\n",
            "|  #NAME?|            false|           false|                 false| 5.327876168789581|11.880321729601778| 5.638354669333745|  4.31748811353631|      12|     409|       75|        0|        0|        0|        0|        0|        1|        0|         0|         0|         1|         0|         0|          0|          0|          0|          0|         0|          0|          0|          0|          0|          1|          0|          0|          0|          0|          0|          0|          0|(34,[1,2,3,4,10,1...|11.999911193834732|\n",
            "|  #NAME?|            false|           false|                 false| 5.501258210544727| 11.15043363570993| 5.247024072160486| 3.970291913552122|      27|     257|      100|        0|        0|        1|        0|        0|        0|        0|         0|         0|         1|         0|         0|          0|          0|          0|          0|         0|          0|          0|          0|          0|          1|          0|          0|          0|          0|          0|          0|          0|(34,[1,2,3,4,7,14...| 11.89276068452045|\n",
            "|  #NAME?|            false|           false|                 false| 5.616771097666572|11.468858628305911| 4.672828834461906|3.5553480614894135|       9|    1442|       67|        0|        1|        0|        0|        0|        0|        0|         0|         0|         1|         0|         0|          0|          0|          0|          0|         0|          0|          0|          0|          0|          1|          0|          0|          0|          0|          0|          0|          0|(34,[1,2,3,4,6,14...|11.583714523589752|\n",
            "|  #NAME?|            false|           false|                 false| 5.739792912179234| 9.928570332903591| 3.091042453358316| 4.343805421853684|      20|    1401|       99|        0|        1|        0|        0|        0|        0|        0|         0|         0|         1|         0|         0|          0|          0|          0|          0|         0|          0|          0|          0|          0|          1|          0|          0|          0|          0|          0|          0|          0|(34,[1,2,3,4,6,14...|10.913583815439578|\n",
            "|  #NAME?|            false|           false|                 false| 6.025865973825314|11.937016037201557| 3.912023005428146|3.7612001156935624|       3|     185|       95|        0|        0|        1|        0|        0|        0|        0|         0|         0|         1|         0|         0|          0|          0|          0|          0|         0|          0|          0|          0|          1|          0|          0|          0|          0|          0|          0|          0|          0|(34,[1,2,3,4,7,14...|11.289085724180351|\n",
            "|  #NAME?|            false|           false|                 false| 6.093569770045136|10.517510353630083|3.6375861597263857|3.4011973816621555|      12|     605|      100|        0|        1|        0|        0|        0|        0|        0|         0|         0|         1|         0|         0|          0|          0|          0|          0|         0|          0|          1|          0|          0|          0|          0|          0|          0|          0|          0|          0|          0|(34,[1,2,3,4,6,14...|11.103646242220231|\n",
            "|  #NAME?|            false|           false|                 false| 6.129050210060545| 11.25838154176552| 5.056245805348308|  5.19295685089021|      19|      74|       74|        1|        0|        0|        0|        0|        0|        0|         0|         0|         1|         0|         0|          0|          0|          0|          0|         0|          0|          1|          0|          0|          0|          0|          0|          0|          0|          0|          0|          0|(34,[1,2,3,4,5,14...|11.745676469623003|\n",
            "|  #NAME?|            false|           false|                 false| 6.184148890937483|12.014657870457102| 4.605170185988092|  4.23410650459726|      27|    2034|       76|        0|        0|        0|        1|        0|        0|        0|         0|         0|         1|         0|         0|          0|          0|          0|          0|         0|          0|          0|          0|          1|          0|          0|          0|          0|          0|          0|          0|          0|(34,[1,2,3,4,8,14...|11.660422767390624|\n",
            "|  #NAME?|            false|           false|                 false| 6.411818267709897|11.142745451001325|2.5649493574615367|3.6375861597263857|      21|     384|       96|        0|        0|        0|        0|        0|        0|        1|         0|         0|         1|         0|         1|          0|          0|          0|          0|         0|          0|          0|          0|          0|          0|          0|          0|          0|          0|          0|          0|          0|(34,[1,2,3,4,11,1...|10.785551278352264|\n",
            "|  #NAME?|            false|           false|                 false| 6.674561391814426|11.341543848214608| 4.836281906951478| 4.812184355372417|      38|      66|       58|        0|        0|        1|        0|        0|        0|        0|         0|         0|         1|         0|         0|          0|          0|          0|          0|         0|          0|          0|          0|          1|          0|          0|          0|          0|          0|          0|          0|          0|(34,[1,2,3,4,7,14...|11.924915458283605|\n",
            "|  #NAME?|            false|           false|                 false| 7.400009517162692| 12.13173695514293|4.8283137373023015|   4.0943445622221|      35|     589|       64|        0|        0|        0|        0|        1|        0|        0|         0|         0|         1|         0|         0|          0|          0|          0|          0|         0|          0|          0|          0|          0|          1|          0|          0|          0|          0|          0|          0|          0|(34,[1,2,3,4,9,14...|11.915074846286053|\n",
            "|  #NAME?|            false|           false|                 false| 7.489412083508719|13.292895713623308|5.0238805208462765| 4.634728988229636|      10|    1077|       74|        0|        0|        0|        0|        0|        0|        1|         0|         0|         1|         0|         0|          0|          0|          0|          0|         0|          0|          0|          0|          1|          0|          0|          0|          0|          0|          0|          0|          0|(34,[1,2,3,4,11,1...|12.032692330195456|\n",
            "|  #NAME?|            false|           false|                 false| 7.669028288589683| 12.44596318001935| 4.844187086458591|5.7899601708972535|      11|     294|       91|        0|        0|        0|        0|        0|        1|        0|         0|         0|         1|         0|         0|          0|          0|          1|          0|         0|          0|          0|          0|          0|          0|          0|          0|          0|          0|          0|          0|          0|(34,[1,2,3,4,10,1...|11.901000281846752|\n",
            "|  #NAME?|            false|           false|                 false| 7.684324067681155|13.048641484558553| 7.111512116496157|  7.87777633327726|      17|     402|       87|        0|        0|        0|        0|        1|        0|        0|         0|         0|         1|         0|         0|          0|          0|          0|          0|         0|          0|          0|          0|          0|          1|          0|          0|          0|          0|          0|          0|          0|(34,[1,2,3,4,9,14...|13.409970826760025|\n",
            "|  #NAME?|            false|           false|                 false| 7.852050207265889| 13.51888460801519| 7.051855622955894|  5.68697535633982|      14|      74|       74|        0|        0|        1|        0|        0|        0|        0|         0|         0|         1|         0|         0|          0|          0|          0|          0|         0|          0|          0|          0|          0|          0|          1|          0|          0|          0|          0|          0|          0|(34,[1,2,3,4,7,14...|13.178698622749332|\n",
            "|  #NAME?|            false|           false|                 false| 7.856319571406588| 10.86032504105607|  3.58351893845611| 6.333279628139691|      72|    1415|       89|        0|        0|        0|        0|        1|        0|        0|         0|         0|         1|         0|         0|          0|          0|          0|          0|         0|          0|          0|          0|          0|          0|          0|          1|          0|          0|          0|          0|          0|(34,[1,2,3,4,9,14...|11.195760828471265|\n",
            "|  #NAME?|            false|           false|                 false| 7.879669914604289|12.707714224770621| 4.882801922586371|3.9889840465642745|      12|     392|       76|        0|        0|        0|        1|        0|        0|        0|         0|         0|         1|         0|         0|          0|          0|          0|          0|         0|          0|          0|          0|          1|          0|          0|          0|          0|          0|          0|          0|          0|(34,[1,2,3,4,8,14...|12.001795958488021|\n",
            "+--------+-----------------+----------------+----------------------+------------------+------------------+------------------+------------------+--------+--------+---------+---------+---------+---------+---------+---------+---------+---------+----------+----------+----------+----------+----------+-----------+-----------+-----------+-----------+----------+-----------+-----------+-----------+-----------+-----------+-----------+-----------+-----------+-----------+-----------+-----------+-----------+--------------------+------------------+\n",
            "only showing top 20 rows\n",
            "\n"
          ]
        }
      ]
    },
    {
      "cell_type": "code",
      "metadata": {
        "id": "SVoVJXg-fkQI",
        "colab": {
          "base_uri": "https://localhost:8080/"
        },
        "outputId": "c5c73838-582d-40c9-998c-84c9123725c3"
      },
      "source": [
        "evaluator = RegressionEvaluator(predictionCol='prediction', labelCol='label', metricName='rmse')\n",
        "r2_evaluator = RegressionEvaluator(predictionCol='prediction', labelCol='label', metricName='r2')\n",
        "\n",
        "rmse = evaluator.evaluate(predictions)\n",
        "\n",
        "r2=r2_evaluator.evaluate(predictions)\n",
        "print(f\"rmse ={rmse}, R2 on test data = {r2}\")"
      ],
      "execution_count": 120,
      "outputs": [
        {
          "output_type": "stream",
          "name": "stdout",
          "text": [
            "rmse =0.7370048687019511, R2 on test data = 0.8349461484626118\n"
          ]
        }
      ]
    },
    {
      "cell_type": "code",
      "metadata": {
        "id": "QyyZfbd6Brqs"
      },
      "source": [
        "\n",
        "train_rmse_rf = evaluator.evaluate(rf_model.transform(train_sdf)) \n",
        "test_rmse_rf = evaluator.evaluate(rf_model.transform(test_sdf))\n"
      ],
      "execution_count": 121,
      "outputs": []
    },
    {
      "cell_type": "code",
      "metadata": {
        "id": "aHFyKDfLkOwP",
        "colab": {
          "base_uri": "https://localhost:8080/"
        },
        "outputId": "7b5fc05a-3fae-4f27-fab4-1b96d3ddaf1a"
      },
      "source": [
        "train_rmse_rf,test_rmse_rf"
      ],
      "execution_count": 122,
      "outputs": [
        {
          "output_type": "execute_result",
          "data": {
            "text/plain": [
              "(0.733962415982146, 0.7370048687019511)"
            ]
          },
          "metadata": {},
          "execution_count": 122
        }
      ]
    },
    {
      "cell_type": "markdown",
      "metadata": {
        "id": "SH9cxYzla-lf"
      },
      "source": [
        "### Dimensionality Reduction using PCA \n",
        "\n",
        "Steps for this section\n",
        "1.   Initialize a PCA model\n",
        "2.   Fit the model using the training data\n",
        "3.   Get the PCA feature from the trained model\n",
        "4.   Train a linear regression model using the PCA features\n",
        "5.   Evaluate the performance on the test set \n",
        "\n",
        "\n",
        "\n",
        "\n"
      ]
    },
    {
      "cell_type": "code",
      "metadata": {
        "id": "KXgSxHvgzJaS"
      },
      "source": [
        "\n",
        "from pyspark.ml.feature import PCA\n",
        "# from pyspark.ml.feature import Normalizer\n",
        "\n",
        "# normalizer = Normalizer(inputCol=\"features\", outputCol=\"norm_features\")\n",
        "pca = PCA(k=31, inputCol=\"features\", outputCol=\"pca_features\")\n",
        "\n",
        "pca_model = pca.fit(train_sdf)\n",
        "\n",
        "pca_train = pca_model.transform(train_sdf)\n",
        "pca_test = pca_model.transform(test_sdf)"
      ],
      "execution_count": 123,
      "outputs": []
    },
    {
      "cell_type": "code",
      "metadata": {
        "id": "fYP2-8Afv24C",
        "colab": {
          "base_uri": "https://localhost:8080/"
        },
        "outputId": "2b702bde-30eb-434c-b6db-f09fd6654969"
      },
      "source": [
        "lr_regr_pca = LinearRegression(featuresCol = 'pca_features', labelCol = 'label')\n",
        "lr_model_pca=lr_regr_pca.fit(pca_train)\n",
        "\n",
        "\n",
        "\n",
        "print(\"RMSE: %f\" % lr_model_pca.summary.rootMeanSquaredError)\n",
        "print(\"r2: %f\" % lr_model_pca.summary.r2)"
      ],
      "execution_count": 124,
      "outputs": [
        {
          "output_type": "stream",
          "name": "stdout",
          "text": [
            "RMSE: 0.803130\n",
            "r2: 0.804727\n"
          ]
        }
      ]
    },
    {
      "cell_type": "code",
      "metadata": {
        "id": "TBnyAXQwl9Nt"
      },
      "source": [
        "\n",
        "predictions = lr_model.transform(pca_test)\n",
        "\n",
        "evaluator = RegressionEvaluator(predictionCol='prediction', labelCol='label', metricName='rmse')\n",
        "\n",
        "test_rmse_pca = evaluator.evaluate(predictions)\n",
        "training_rmse_pca = evaluator.evaluate(lr_model.transform(pca_train))"
      ],
      "execution_count": 125,
      "outputs": []
    },
    {
      "cell_type": "code",
      "source": [
        "test_rmse_pca,training_rmse_pca"
      ],
      "metadata": {
        "colab": {
          "base_uri": "https://localhost:8080/"
        },
        "id": "GQ0Mt0k6eZm6",
        "outputId": "2195201e-9935-48fe-abeb-c0d553d572e0"
      },
      "execution_count": 126,
      "outputs": [
        {
          "output_type": "execute_result",
          "data": {
            "text/plain": [
              "(0.8105088859086372, 0.8031297417803742)"
            ]
          },
          "metadata": {},
          "execution_count": 126
        }
      ]
    },
    {
      "cell_type": "code",
      "source": [
        ""
      ],
      "metadata": {
        "id": "O_NH-y-xenju"
      },
      "execution_count": null,
      "outputs": []
    }
  ]
}